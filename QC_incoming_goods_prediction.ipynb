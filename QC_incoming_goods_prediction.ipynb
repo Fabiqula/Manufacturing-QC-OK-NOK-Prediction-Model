{
 "cells": [
  {
   "cell_type": "code",
   "execution_count": 2,
   "id": "b074b79d-bfe5-4a9e-b859-95cdb21e80d9",
   "metadata": {},
   "outputs": [
    {
     "name": "stdout",
     "output_type": "stream",
     "text": [
      "Requirement already satisfied: openpyxl in c:\\users\\grzeg\\appdata\\local\\programs\\python\\python311\\lib\\site-packages (3.1.2)\n",
      "Requirement already satisfied: et-xmlfile in c:\\users\\grzeg\\appdata\\local\\programs\\python\\python311\\lib\\site-packages (from openpyxl) (1.1.0)\n"
     ]
    }
   ],
   "source": [
    "import pandas as pd\n",
    "import numpy as np\n",
    "import warnings\n",
    "warnings.filterwarnings(\"ignore\")\n",
    "!pip install openpyxl"
   ]
  },
  {
   "cell_type": "code",
   "execution_count": 3,
   "id": "0ebc8c30-e2ef-485e-b14a-01cbcd200ef7",
   "metadata": {},
   "outputs": [],
   "source": [
    "df_QC_data = pd.read_excel('../Github depo/QC_encoded_data.xlsx')"
   ]
  },
  {
   "cell_type": "code",
   "execution_count": 4,
   "id": "e4c3db57-503f-4bed-99da-723d3cc0571e",
   "metadata": {},
   "outputs": [
    {
     "name": "stdout",
     "output_type": "stream",
     "text": [
      "<class 'pandas.core.frame.DataFrame'>\n",
      "RangeIndex: 6448 entries, 0 to 6447\n",
      "Data columns (total 13 columns):\n",
      " #   Column              Non-Null Count  Dtype  \n",
      "---  ------              --------------  -----  \n",
      " 0   date                6403 non-null   object \n",
      " 1   finish              6448 non-null   object \n",
      " 2   delivered_pcs_pack  4807 non-null   object \n",
      " 3   pack_weight_kg      2411 non-null   object \n",
      " 4   OK_NOK              6448 non-null   object \n",
      " 5   pcs_lenght_mm       4514 non-null   float64\n",
      " 6   quantity_pcs        4514 non-null   object \n",
      " 7   overal_weight_kg    4488 non-null   float64\n",
      " 8   pcs_pck             6350 non-null   float64\n",
      " 9   name_enc            6448 non-null   object \n",
      " 10  drawing_no_enc      6448 non-null   object \n",
      " 11  shape_no_enc        6448 non-null   object \n",
      " 12  supplier_enc        6448 non-null   object \n",
      "dtypes: float64(3), object(10)\n",
      "memory usage: 655.0+ KB\n"
     ]
    }
   ],
   "source": [
    "df_QC_data.info()"
   ]
  },
  {
   "cell_type": "code",
   "execution_count": null,
   "id": "67e2af50-febe-4781-8a25-ade135ce43d1",
   "metadata": {},
   "outputs": [],
   "source": []
  }
 ],
 "metadata": {
  "kernelspec": {
   "display_name": "Python 3 (ipykernel)",
   "language": "python",
   "name": "python3"
  },
  "language_info": {
   "codemirror_mode": {
    "name": "ipython",
    "version": 3
   },
   "file_extension": ".py",
   "mimetype": "text/x-python",
   "name": "python",
   "nbconvert_exporter": "python",
   "pygments_lexer": "ipython3",
   "version": "3.11.3"
  }
 },
 "nbformat": 4,
 "nbformat_minor": 5
}
