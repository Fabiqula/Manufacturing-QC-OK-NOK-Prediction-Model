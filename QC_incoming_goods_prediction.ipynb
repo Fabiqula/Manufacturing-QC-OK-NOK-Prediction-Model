{
 "cells": [
  {
   "cell_type": "markdown",
   "id": "161fa7a4-bd37-46bd-8a01-b5472f2d338d",
   "metadata": {},
   "source": [
    "# Quality Control prediction for incoming goods.\n",
    "    \n",
    "### **Grzegorz Kowalczyk**\n",
    "#### 01/03/2024\n",
    "\n",
    "* **1 Introduction**\n",
    "* **2 Load and check data**\n",
    "    * 2.1 Load data\n",
    "    * 2.2 Data dictionary\n",
    "    * 2.3 Data types, empty strings\n",
    "    * 2.4 Outlier detection\n",
    "    * 2.5 Check for null and missing values\n",
    "* **4 Data preprocessing**\n",
    "    * 4.1 Data cleaning\n",
    "* **3 Feature analysis**\n",
    "    * 3.1 Numerical values\n",
    "    * 3.2 Categorical values\n",
    "* **4 Filling missing Values**\n",
    "    * 4.1 Age\n",
    "* **5 Feature engineering**\n",
    "    * 5.1 Name/Title\n",
    "    * 5.2 Family Size\n",
    "    * 5.3 Cabin\n",
    "    * 5.4 Ticket\n",
    " \n",
    "* **6 Scaling**\n",
    "  \n",
    "* **7 Modeling**\n",
    "    * 6.1 Simple modeling\n",
    "        * 6.1.1 Cross validate models\n",
    "        * 6.1.2 Hyperparamater tunning for best models\n",
    "        * 6.1.3 Plot learning curves\n",
    "        * 6.1.4 Feature importance of the tree based classifiers\n",
    "    * 6.2 Ensemble modeling\n",
    "        * 6.2.1 Combining models\n",
    "    * 6.3 Prediction\n",
    "        * 6.3.1 Predict and Submit results"
   ]
  },
  {
   "cell_type": "markdown",
   "id": "49cbe354-7a83-4797-9614-d5aa0b5f7d8a",
   "metadata": {},
   "source": [
    "## 1. Introduction\n",
    "\n",
    "In the context of mid-sized manufacturing enterprises, factories often engage in the production of a multitude of products, necessitating the procurement of numerous parts and components from a diverse array of international suppliers, often employing dual sourcing strategies.\n",
    "\n",
    "This project endeavors to develop a predictive model, leveraging real-world production data, specifically focusing on aluminum LED profiles manufacturing, with the objective of accurately classifying incoming goods as either 'OK' or 'NOK' (not OK).\n",
    "\n",
    "A robust working model, enhanced with additional refinements, holds the potential to provide valuable insights not only to quality assurance personnel but also to logistics professionals, aiding in supplier selection processes. Moreover, it can serve as a tool for research and development teams, facilitating the identification of product features during the design phase that mitigate the likelihood of faulty deliveries.\n"
   ]
  },
  {
   "cell_type": "code",
   "execution_count": null,
   "id": "b074b79d-bfe5-4a9e-b859-95cdb21e80d9",
   "metadata": {
    "scrolled": true
   },
   "outputs": [],
   "source": [
    "import pandas as pd\n",
    "# pd.set_option('display.max_rows', None)\n",
    "import numpy as np\n",
    "import missingno\n",
    "import seaborn as sns\n",
    "import warnings\n",
    "from collections import Counter\n",
    "warnings.filterwarnings(\"ignore\")\n",
    "# !pip install openpyxl"
   ]
  },
  {
   "cell_type": "markdown",
   "id": "e306dcce-2f64-4b5b-b385-9ffb23e8ebcb",
   "metadata": {},
   "source": [
    "## 2. Load and check data"
   ]
  },
  {
   "cell_type": "markdown",
   "id": "29520550-dcb6-40fd-82be-c61f66ddf882",
   "metadata": {},
   "source": [
    "### 2.1 load data"
   ]
  },
  {
   "cell_type": "code",
   "execution_count": null,
   "id": "0ebc8c30-e2ef-485e-b14a-01cbcd200ef7",
   "metadata": {},
   "outputs": [],
   "source": [
    "df = pd.read_excel('../Github depo/QC_encoded_data.xlsx')"
   ]
  },
  {
   "cell_type": "code",
   "execution_count": null,
   "id": "9a6ce955-dffe-4d59-92a3-1ff2b866a9aa",
   "metadata": {},
   "outputs": [],
   "source": [
    "df.head()"
   ]
  },
  {
   "cell_type": "code",
   "execution_count": null,
   "id": "e4c3db57-503f-4bed-99da-723d3cc0571e",
   "metadata": {
    "scrolled": true
   },
   "outputs": [],
   "source": [
    "df.info(memory_usage='deep')"
   ]
  },
  {
   "cell_type": "markdown",
   "id": "1fa7b764-8bec-40f6-a62b-3d3ac2932577",
   "metadata": {},
   "source": [
    "Reorder the columns"
   ]
  },
  {
   "cell_type": "code",
   "execution_count": null,
   "id": "c4873bae-2698-4065-9e6e-876954e34016",
   "metadata": {},
   "outputs": [],
   "source": [
    "new_order = ['OK_NOK','date', 'name_e', 'shape_no_e', 'drawing_no_e', 'finish', 'supplier_e', 'pcs_pck','delivered_pcs_pack', 'pack_weight_kg', \n",
    "       'pcs_lenght_mm', 'quantity_pcs', 'overal_weight_kg']"
   ]
  },
  {
   "cell_type": "code",
   "execution_count": null,
   "id": "7a814d78-48eb-4aab-a360-ce8362c2c8c2",
   "metadata": {},
   "outputs": [],
   "source": [
    "df = df[new_order]"
   ]
  },
  {
   "cell_type": "code",
   "execution_count": null,
   "id": "b2c0d18e-a507-498e-81d4-fbcd9d00a3b9",
   "metadata": {},
   "outputs": [],
   "source": [
    "df.shape"
   ]
  },
  {
   "cell_type": "code",
   "execution_count": null,
   "id": "c036acbf-c19b-4304-a30d-c33f376f381f",
   "metadata": {
    "scrolled": true
   },
   "outputs": [],
   "source": [
    "df.describe()"
   ]
  },
  {
   "cell_type": "markdown",
   "id": "2bee8ff8-b57c-4d96-b1b3-a33f1a103de4",
   "metadata": {},
   "source": [
    "Describe function shows only 3 columns which means only those 3 are numeric, I will address this issue later on."
   ]
  },
  {
   "cell_type": "markdown",
   "id": "0efe8d63-c21f-4c58-92c4-9c934261ba63",
   "metadata": {},
   "source": [
    "## 2.2 Data dictionary\n",
    "\n",
    "* 0.   **OK_NOK**:\n",
    "      This column contains a target label   \n",
    "* 1.   **date**:\n",
    "      Date of delivery\n",
    "* 2.   **name_e**:\n",
    "      This column consist of aluminum profile names\n",
    "* 3.   **shape_no_e**:\n",
    "      Number that defines shape of the aluminium profile.\n",
    "      Shape itself dosn't describe the final product because many suppliers can deliver the same shape in many colours and at different lenghts\n",
    "* 4.   **drawing_no_e**:\n",
    "      Describes a shape and supplier but dosn't contain information about colours and different lenghts\n",
    "* 5.   **finish**:\n",
    "      Information about the colour of the profile\n",
    "* 6.   **supplier_e**:\n",
    "      Name of the supplier\n",
    "* 7.   **pcs_pck**:\n",
    "      Number of aluminium profiles that should be delivered in one package\n",
    "* 8.   **delivered_pcs_pack**:\n",
    "      Number of aluminium profiles that ware delivered in one package\n",
    "* 9.   **pack_weight_kg**:\n",
    "      Weight of one package\n",
    "* 10.  **pcs_lenght_mm**:\n",
    "      Lenght of the aluminium profiles\n",
    "* 11.  **quantity_pcs**:\n",
    "      How many pcs where delivered \n",
    "* 12.  **overal_weight_kg**:\n",
    "      The overal weight delivered profiles"
   ]
  },
  {
   "cell_type": "markdown",
   "id": "6d2415bc-da35-49e2-8740-9aafe002da2f",
   "metadata": {},
   "source": [
    "## 2.3 Data types, empty strings"
   ]
  },
  {
   "cell_type": "markdown",
   "id": "beea908d-a5c3-48a6-9f45-4b3d1ea6a748",
   "metadata": {},
   "source": [
    "### Since our target is binary classification we can map OK = 1 and NOK = 0"
   ]
  },
  {
   "cell_type": "code",
   "execution_count": null,
   "id": "72d8727a-23c0-480a-bd21-820d2fdd56d8",
   "metadata": {},
   "outputs": [],
   "source": [
    "df['OK_NOK'] = df['OK_NOK'].map({'OK': 1, 'NOK': 0})"
   ]
  },
  {
   "cell_type": "code",
   "execution_count": null,
   "id": "46ef1272-aa62-4aee-abc5-d7dda5636114",
   "metadata": {
    "scrolled": true
   },
   "outputs": [],
   "source": [
    "df.info()"
   ]
  },
  {
   "cell_type": "markdown",
   "id": "0db9d29e-ae61-46fa-80b8-61a36399bd14",
   "metadata": {},
   "source": [
    " The columns:\n",
    "* 'delivered_pcs_pack',\n",
    "* 'pack_weight_kg',\n",
    "* 'quantity_pcs'\n",
    "  \n",
    "   are mix of strings, numeric and nans that I need to handle first."
   ]
  },
  {
   "cell_type": "markdown",
   "id": "da953846-e1a2-4cab-be66-e3699a8fb0c0",
   "metadata": {},
   "source": [
    "* **delivered_pcs_pack'**"
   ]
  },
  {
   "cell_type": "code",
   "execution_count": null,
   "id": "4598520e-e745-452b-8af1-9c5e4d86bbc6",
   "metadata": {
    "scrolled": true
   },
   "outputs": [],
   "source": [
    "delivered_pcs_vc = df['delivered_pcs_pack'].value_counts(dropna=False)\n"
   ]
  },
  {
   "cell_type": "code",
   "execution_count": null,
   "id": "7482b523-7d63-4b21-8f55-6e085b2edc7b",
   "metadata": {},
   "outputs": [],
   "source": [
    "# Change the type of whole column to str\n",
    "\n",
    "df['delivered_pcs_pack'] = df['delivered_pcs_pack'].astype(str)\n",
    "\n",
    "# Filter out rows containing '40 / 60'\n",
    "filtered_df = df[df['delivered_pcs_pack'].str.contains('40 / 60')]\n"
   ]
  },
  {
   "cell_type": "code",
   "execution_count": null,
   "id": "2c1114f4-3f3b-40d5-9dfa-d479dbadfbed",
   "metadata": {},
   "outputs": [],
   "source": [
    "#  Replace values, strip white spaces:\n",
    "\n",
    "df['delivered_pcs_pack'] = df['delivered_pcs_pack'].replace(['20 SZT', 'BRAK', '-', '0', '40 / 60'], ['20', 'np.nan', 'np.nan', 'np.nan', '40']).str.strip()\n",
    "\n",
    "# Change the whole column back to numeric\n",
    "\n",
    "df['delivered_pcs_pack'] = pd.to_numeric(df['delivered_pcs_pack'], errors='coerce')\n"
   ]
  },
  {
   "cell_type": "markdown",
   "id": "c1ae9a50-8153-4991-96ed-0e05e553f98f",
   "metadata": {},
   "source": [
    "* **pack_weight_kg**"
   ]
  },
  {
   "cell_type": "code",
   "execution_count": null,
   "id": "77c6f816-59ba-46bd-b522-e0f1ad7cf496",
   "metadata": {},
   "outputs": [],
   "source": [
    "# Check for strings, nan etc, then convert to nummeric.\n",
    "pack_weight_kg_vc = df['pack_weight_kg'].value_counts(dropna=False)\n",
    "filtered_pack_weight_kg_vc = pack_weight_kg_vc[pack_weight_kg_vc<2]\n"
   ]
  },
  {
   "cell_type": "code",
   "execution_count": null,
   "id": "734c2406-77ca-4e8c-873b-690073096851",
   "metadata": {},
   "outputs": [],
   "source": [
    "df['pack_weight_kg'] =  pd.to_numeric(df['pack_weight_kg'], errors='coerce')\n",
    "df['pack_weight_kg'] = df['pack_weight_kg'].round(decimals=1)\n",
    "df['pack_weight_kg'].value_counts(dropna=False).index"
   ]
  },
  {
   "cell_type": "markdown",
   "id": "92d502b6-b31d-4fd9-bfb4-24474b32e16b",
   "metadata": {},
   "source": [
    "* **quantity_pcs**"
   ]
  },
  {
   "cell_type": "code",
   "execution_count": null,
   "id": "43f513b8-7526-4087-b006-296d89697b9b",
   "metadata": {},
   "outputs": [],
   "source": [
    "quantity_pcs_vc = df['quantity_pcs'].value_counts(dropna=False)"
   ]
  },
  {
   "cell_type": "code",
   "execution_count": null,
   "id": "729c1219-d222-4d80-afcf-fc60f7b00a77",
   "metadata": {},
   "outputs": [],
   "source": [
    "df['quantity_pcs'] = pd.to_numeric(df['quantity_pcs'], errors='coerce')"
   ]
  },
  {
   "cell_type": "code",
   "execution_count": null,
   "id": "1daaf365-6de9-4f2a-94f2-6ba74f27d43b",
   "metadata": {
    "scrolled": true
   },
   "outputs": [],
   "source": [
    "df.info()"
   ]
  },
  {
   "cell_type": "markdown",
   "id": "6dcdedc3-1bde-4fec-bf7a-040085a8e988",
   "metadata": {},
   "source": [
    "## 2.4 Outlier detection"
   ]
  },
  {
   "cell_type": "code",
   "execution_count": null,
   "id": "8cfe2d5a-7c23-41de-9620-616e1a7bc9cd",
   "metadata": {},
   "outputs": [],
   "source": [
    "# Outlier detection \n",
    "\n",
    "def detect_outliers(df,n,features):\n",
    "    \"\"\"\n",
    "    Takes a dataframe df of features and returns a list of the indices\n",
    "    corresponding to the observations containing more than n outliers according\n",
    "    to the Tukey method.\n",
    "    \"\"\"\n",
    "    outlier_indices = []\n",
    "    \n",
    "    # iterate over features(columns)\n",
    "    for col in features:\n",
    "        # 1st quartile (25%)\n",
    "        Q1 = np.percentile(df[col], 25)\n",
    "        # 3rd quartile (75%)\n",
    "        Q3 = np.percentile(df[col],75)\n",
    "        # Interquartile range (IQR)\n",
    "        IQR = Q3 - Q1\n",
    "        \n",
    "        # outlier step\n",
    "        outlier_step = 1.5 * IQR\n",
    "        \n",
    "        # Determine a list of indices of outliers for feature col\n",
    "        outlier_list_col = df[(df[col] < Q1 - outlier_step) | (df[col] > Q3 + outlier_step )].index\n",
    "        \n",
    "        # append the found outlier indices for col to the list of outlier indices \n",
    "        outlier_indices.extend(outlier_list_col)\n",
    "        \n",
    "    # select observations containing more than 2 outliers\n",
    "    outlier_indices = Counter(outlier_indices)        \n",
    "    multiple_outliers = list( k for k, v in outlier_indices.items() if v > n )\n",
    "    \n",
    "    return multiple_outliers   \n",
    "\n",
    "# detect outliers from \"pcs_pck\", \"pcs_lenght_mm\", \"overal_weight_kg\", \"quantity_pcs\",\"pack_weight_kg\",\"delivered_pcs_pack\"\n",
    "Outliers_to_drop = detect_outliers(df,2,[\"pcs_pck\", \"pcs_lenght_mm\", \"overal_weight_kg\", \"quantity_pcs\",\"pack_weight_kg\",\"delivered_pcs_pack\"])"
   ]
  },
  {
   "cell_type": "code",
   "execution_count": null,
   "id": "03ea67f2-ff75-4e31-b80e-b050fba270ff",
   "metadata": {},
   "outputs": [],
   "source": [
    "Outliers_to_drop"
   ]
  },
  {
   "cell_type": "markdown",
   "id": "9e6d2e1c-6718-4ccf-89be-5808ef96e9e7",
   "metadata": {},
   "source": [
    "Comment: It appears that there are no outliers in our data."
   ]
  },
  {
   "cell_type": "code",
   "execution_count": null,
   "id": "2452ab85-48b0-4ea0-871b-1f28ace21bd2",
   "metadata": {
    "scrolled": true
   },
   "outputs": [],
   "source": [
    "df.describe()"
   ]
  },
  {
   "cell_type": "markdown",
   "id": "b99c88e5-b4e5-46c7-b57e-ccdcb9dc0ffb",
   "metadata": {},
   "source": [
    "### 2.5 Check for null and missing values"
   ]
  },
  {
   "cell_type": "code",
   "execution_count": null,
   "id": "86dbce11-0533-488f-bbef-19fa00fed855",
   "metadata": {},
   "outputs": [],
   "source": [
    "df.isnull().sum().sort_values(ascending=False)"
   ]
  },
  {
   "cell_type": "code",
   "execution_count": null,
   "id": "4bbf6289-87c7-4783-bfc1-77307e56d83f",
   "metadata": {},
   "outputs": [],
   "source": [
    "missingno.matrix(df)"
   ]
  },
  {
   "cell_type": "code",
   "execution_count": null,
   "id": "9ce8847b-09ad-44b1-84b5-a7fe957b4d3f",
   "metadata": {},
   "outputs": [],
   "source": [
    "sorted_delivered_pcs_pack = df.sort_values('delivered_pcs_pack')\n",
    "missingno.matrix(sorted_delivered_pcs_pack)"
   ]
  },
  {
   "cell_type": "markdown",
   "id": "62568127-9678-4450-afa8-fef99ba48902",
   "metadata": {},
   "source": [
    "### 4. Data preprocesing"
   ]
  },
  {
   "cell_type": "markdown",
   "id": "581a89bc-aa8a-4e2c-91ef-98b20af934d8",
   "metadata": {},
   "source": [
    "### 4.1 Data cleaning"
   ]
  },
  {
   "cell_type": "code",
   "execution_count": null,
   "id": "afd69aa6-74d1-4980-9967-8d5340607501",
   "metadata": {},
   "outputs": [],
   "source": [
    "df"
   ]
  },
  {
   "cell_type": "code",
   "execution_count": null,
   "id": "f339c038-d235-44d9-bc3f-1de2aad18736",
   "metadata": {
    "scrolled": true
   },
   "outputs": [],
   "source": [
    "df.info(memory_usage='deep')"
   ]
  },
  {
   "cell_type": "code",
   "execution_count": null,
   "id": "a3461809-9e2e-41cb-a4f9-1b91e4bdc7eb",
   "metadata": {},
   "outputs": [],
   "source": [
    "df.date.iloc[-1]"
   ]
  },
  {
   "cell_type": "code",
   "execution_count": null,
   "id": "637ca7bc-3aa6-4e21-8f6e-51b428635eaf",
   "metadata": {},
   "outputs": [],
   "source": [
    "df.date.isnull().sum()"
   ]
  },
  {
   "cell_type": "code",
   "execution_count": null,
   "id": "782d2d1a-4094-4384-a796-26e2c26008f3",
   "metadata": {},
   "outputs": [],
   "source": [
    "df['is_str'] = df.date.apply(lambda x: True if isinstance(x, str) else False)"
   ]
  },
  {
   "cell_type": "code",
   "execution_count": null,
   "id": "582c534b-31c5-44d5-81d5-dce38ec55acb",
   "metadata": {},
   "outputs": [],
   "source": [
    "df['is_str'].value_counts()"
   ]
  },
  {
   "cell_type": "code",
   "execution_count": null,
   "id": "8de45144-404d-4410-87cc-f88fd9381771",
   "metadata": {},
   "outputs": [],
   "source": [
    "df.insert(2, 'is_str', df.pop('is_str'))"
   ]
  },
  {
   "cell_type": "code",
   "execution_count": null,
   "id": "c3450af3-e772-4a09-a2ee-685728fdd141",
   "metadata": {},
   "outputs": [],
   "source": [
    "is_str_true = df.loc[df['is_str'] == True, 'date']"
   ]
  },
  {
   "cell_type": "code",
   "execution_count": null,
   "id": "1357e4a9-bf36-4966-a24b-ebb3e974df12",
   "metadata": {},
   "outputs": [],
   "source": [
    "is_str_true = is_str_true.str.replace(',','.').str.strip()"
   ]
  },
  {
   "cell_type": "code",
   "execution_count": null,
   "id": "761d8ed9-5f1b-4faa-add4-fd8a4b9cf3b3",
   "metadata": {
    "scrolled": true
   },
   "outputs": [],
   "source": [
    "is_str_true = pd.to_datetime(is_str_true, format='%d.%m.%Y', errors='coerce' )"
   ]
  },
  {
   "cell_type": "code",
   "execution_count": null,
   "id": "6b93e392-e5a0-43b2-acd5-dbf1491fb9c2",
   "metadata": {},
   "outputs": [],
   "source": [
    "is_str_true.isnull().sum()"
   ]
  },
  {
   "cell_type": "code",
   "execution_count": null,
   "id": "e882f78c-4dd2-4818-b9be-1102a761a2ec",
   "metadata": {},
   "outputs": [],
   "source": [
    "is_str_true_idx = is_str_true[is_str_true.isnull()].index"
   ]
  },
  {
   "cell_type": "code",
   "execution_count": null,
   "id": "79ab9d76-bca8-4fc1-870b-137240342106",
   "metadata": {},
   "outputs": [],
   "source": [
    "df.loc[is_str_true_idx].head(71)"
   ]
  },
  {
   "cell_type": "code",
   "execution_count": null,
   "id": "c2998ba3-a7b2-40e8-a448-714a25d59322",
   "metadata": {},
   "outputs": [],
   "source": [
    "df.loc[is_str_true_idx, 'date'] = df.loc[is_str_true_idx, 'date'].str.replace('/','.')"
   ]
  },
  {
   "cell_type": "code",
   "execution_count": null,
   "id": "5e737002-1476-4258-a595-2f478abaf44f",
   "metadata": {},
   "outputs": [],
   "source": [
    "df.loc[72, 'date'] = '12.10.2016'\n",
    "df.loc[74, 'date'] = '10.10.2016'\n",
    "df.loc[233, 'date'] = '12.10.2016'\n",
    "df.loc[426, 'date'] = '28.03.2016'\n",
    "df.loc[894, 'date'] = '21.02.2018'\n",
    "df.loc[1532, 'date'] = '12.09.2018'"
   ]
  },
  {
   "cell_type": "code",
   "execution_count": null,
   "id": "b3e8440c-d536-47f2-8c88-2636ba4dd5c6",
   "metadata": {},
   "outputs": [],
   "source": [
    "list_convert_to_time_indx = [72, 74, 233, 426, 894, 1532, 427, 429, 433]"
   ]
  },
  {
   "cell_type": "code",
   "execution_count": null,
   "id": "313d16f1-fdf5-456f-be67-1005e1eccd7d",
   "metadata": {},
   "outputs": [],
   "source": [
    "filtered_convert_to_time_indx = df.loc[list_convert_to_time_indx, 'date']"
   ]
  },
  {
   "cell_type": "code",
   "execution_count": null,
   "id": "f52185b4-cf0a-4765-a45e-1b039aba2418",
   "metadata": {},
   "outputs": [],
   "source": [
    "df.date = pd.to_datetime(filtered_convert_to_time_indx, format='%d.%m.%Y', errors='coerce' )"
   ]
  },
  {
   "cell_type": "code",
   "execution_count": null,
   "id": "36e10c00-4ab5-4004-91b4-053b4b45b2d9",
   "metadata": {},
   "outputs": [],
   "source": [
    "df.loc[72, 'date']"
   ]
  },
  {
   "cell_type": "code",
   "execution_count": null,
   "id": "190e4670-1adb-417a-9c0e-7bfd8a9d9272",
   "metadata": {},
   "outputs": [],
   "source": []
  },
  {
   "cell_type": "code",
   "execution_count": null,
   "id": "c8b7c912-b0e0-46b1-8815-c74092d3302d",
   "metadata": {},
   "outputs": [],
   "source": []
  },
  {
   "cell_type": "code",
   "execution_count": null,
   "id": "b9859399-6329-409e-8770-a4e685cddf47",
   "metadata": {},
   "outputs": [],
   "source": []
  },
  {
   "cell_type": "code",
   "execution_count": null,
   "id": "a5a2ca0a-6e78-4ecd-819b-c43b5861ecde",
   "metadata": {},
   "outputs": [],
   "source": []
  },
  {
   "cell_type": "code",
   "execution_count": null,
   "id": "2fb16d5c-932a-4ee2-aa36-01e7bdf29649",
   "metadata": {},
   "outputs": [],
   "source": []
  },
  {
   "cell_type": "code",
   "execution_count": null,
   "id": "f9f6ea1d-39b0-492c-bf1d-365b1109b701",
   "metadata": {},
   "outputs": [],
   "source": []
  },
  {
   "cell_type": "code",
   "execution_count": null,
   "id": "87796aa2-7470-4a43-8415-53f935286625",
   "metadata": {},
   "outputs": [],
   "source": []
  },
  {
   "cell_type": "code",
   "execution_count": null,
   "id": "a9da5238-f458-4660-b761-ed09ce851e46",
   "metadata": {},
   "outputs": [],
   "source": [
    "df.loc[df['is_str'] == True, 'date_fmt'] = is_str_true"
   ]
  },
  {
   "cell_type": "code",
   "execution_count": null,
   "id": "48f9a009-9a90-4e0e-b984-fe7a2ee2f439",
   "metadata": {},
   "outputs": [],
   "source": [
    "df.insert(2, 'date_fmt', df.pop('date_fmt'))"
   ]
  },
  {
   "cell_type": "code",
   "execution_count": null,
   "id": "99ae55e1-2c2b-4e3f-b6f3-805822ff22e2",
   "metadata": {},
   "outputs": [],
   "source": [
    "df['date_fmt'] = df['date_fmt'].dt.strftime('%Y-%m-%d %H:%M:%S')"
   ]
  },
  {
   "cell_type": "code",
   "execution_count": null,
   "id": "53e63f6c-8713-47a6-a9e2-0408eb896bc2",
   "metadata": {},
   "outputs": [],
   "source": [
    "df.loc[df['is_str']==True, 'date'] = df['date_fmt']"
   ]
  },
  {
   "cell_type": "code",
   "execution_count": null,
   "id": "5f61372d-70b0-47d9-a5fa-80ce177013df",
   "metadata": {},
   "outputs": [],
   "source": [
    "import random\n",
    "from datetime import datetime, timedelta\n",
    "\n",
    "def random_date(year):\n",
    "    start_date = datetime(year, 1, 1)\n",
    "    end_date = datetime(year, 12, 31)\n",
    "    random_days = random.randint(0, (end_date - start_date).days)\n",
    "    return start_date + timedelta(days=random_days)"
   ]
  },
  {
   "cell_type": "code",
   "execution_count": null,
   "id": "9f4eb9d4-4479-42df-896c-330050d493d4",
   "metadata": {},
   "outputs": [],
   "source": [
    "df.loc[is_str_true_idx, 'date'] = random_date(2016)"
   ]
  },
  {
   "cell_type": "code",
   "execution_count": null,
   "id": "e58147ee-cfd2-42d0-bc42-cc047ec6f809",
   "metadata": {},
   "outputs": [],
   "source": [
    "df.loc[is_str_true_idx, 'date']"
   ]
  },
  {
   "cell_type": "code",
   "execution_count": null,
   "id": "52caeb79-d849-4f1e-8eb5-66e9c549a8d2",
   "metadata": {},
   "outputs": [],
   "source": []
  },
  {
   "cell_type": "code",
   "execution_count": null,
   "id": "ae398d20-0d74-4cf8-a875-257632b6cae0",
   "metadata": {},
   "outputs": [],
   "source": []
  },
  {
   "cell_type": "code",
   "execution_count": null,
   "id": "b2da6a60-9ed1-45f6-862d-8978e80bbe44",
   "metadata": {},
   "outputs": [],
   "source": []
  },
  {
   "cell_type": "code",
   "execution_count": null,
   "id": "d56b256d-6a52-4e0d-95d6-8eb00466d73a",
   "metadata": {},
   "outputs": [],
   "source": []
  },
  {
   "cell_type": "code",
   "execution_count": null,
   "id": "ab0af496-4ce8-4af2-94bb-737f75b9086a",
   "metadata": {},
   "outputs": [],
   "source": []
  },
  {
   "cell_type": "code",
   "execution_count": null,
   "id": "98004fbb-e759-4294-a8c7-fc0175f11837",
   "metadata": {},
   "outputs": [],
   "source": []
  },
  {
   "cell_type": "code",
   "execution_count": null,
   "id": "058e30a9-f829-4e71-b6ec-99e06dd1f44d",
   "metadata": {},
   "outputs": [],
   "source": []
  },
  {
   "cell_type": "code",
   "execution_count": null,
   "id": "e77a6eaf-36a0-4933-8ff4-5f82e47a887e",
   "metadata": {},
   "outputs": [],
   "source": []
  },
  {
   "cell_type": "code",
   "execution_count": null,
   "id": "0cc857bf-cb04-4fd0-86e5-8e07c5dbd528",
   "metadata": {},
   "outputs": [],
   "source": []
  },
  {
   "cell_type": "code",
   "execution_count": null,
   "id": "99fbfe0c-090c-48cb-bcf0-6cabe987ee35",
   "metadata": {},
   "outputs": [],
   "source": []
  },
  {
   "cell_type": "code",
   "execution_count": null,
   "id": "98b5871d-8a41-487d-a36c-1021f650d7c7",
   "metadata": {},
   "outputs": [],
   "source": []
  },
  {
   "cell_type": "code",
   "execution_count": null,
   "id": "a7cd8d23-21d6-40ed-a348-efdcec2b1b82",
   "metadata": {},
   "outputs": [],
   "source": []
  },
  {
   "cell_type": "code",
   "execution_count": null,
   "id": "4ebf7bd1-ccef-48ea-a531-87fad912e001",
   "metadata": {},
   "outputs": [],
   "source": []
  },
  {
   "cell_type": "code",
   "execution_count": null,
   "id": "528f216f-493a-4590-9c09-a13b9e050238",
   "metadata": {},
   "outputs": [],
   "source": []
  },
  {
   "cell_type": "code",
   "execution_count": null,
   "id": "ddb2227f-78b5-45cb-8a99-a7e827774386",
   "metadata": {},
   "outputs": [],
   "source": []
  },
  {
   "cell_type": "code",
   "execution_count": null,
   "id": "c1c7e4df-8ec2-481f-b80d-1c4ecf79ceb8",
   "metadata": {},
   "outputs": [],
   "source": []
  },
  {
   "cell_type": "code",
   "execution_count": null,
   "id": "50d86394-8c41-4bde-92d5-cffae214b6ee",
   "metadata": {},
   "outputs": [],
   "source": []
  },
  {
   "cell_type": "code",
   "execution_count": null,
   "id": "469495cb-98e2-46bb-955d-a3090e46d942",
   "metadata": {},
   "outputs": [],
   "source": [
    "g = sns.heatmap(df[[\"OK_NOK\",\"pcs_pck\", \"pcs_lenght_mm\", \"overal_weight_kg\", \"quantity_pcs\",\"pack_weight_kg\",\"delivered_pcs_pack\"]].corr(),annot=True, fmt = \".2f\", cmap = \"coolwarm\")"
   ]
  },
  {
   "cell_type": "code",
   "execution_count": null,
   "id": "46a295f5-4a53-41b9-a4ac-ae3cbb06f951",
   "metadata": {},
   "outputs": [],
   "source": []
  }
 ],
 "metadata": {
  "kernelspec": {
   "display_name": "Python 3 (ipykernel)",
   "language": "python",
   "name": "python3"
  },
  "language_info": {
   "codemirror_mode": {
    "name": "ipython",
    "version": 3
   },
   "file_extension": ".py",
   "mimetype": "text/x-python",
   "name": "python",
   "nbconvert_exporter": "python",
   "pygments_lexer": "ipython3",
   "version": "3.11.3"
  }
 },
 "nbformat": 4,
 "nbformat_minor": 5
}
