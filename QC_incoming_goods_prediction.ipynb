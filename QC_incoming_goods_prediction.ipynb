{
 "cells": [
  {
   "cell_type": "markdown",
   "id": "161fa7a4-bd37-46bd-8a01-b5472f2d338d",
   "metadata": {},
   "source": [
    "# Quality Control prediction for incoming goods.\n",
    "    \n",
    "### **Grzegorz Kowalczyk**\n",
    "#### 01/03/2024\n",
    "\n",
    "* **1 Introduction**\n",
    "* **2 Load and check data**\n",
    "    * 2.1 Load data\n",
    "    * 2.2 Data dictionary\n",
    "    * 2.3 Data types, empty strings\n",
    "    * 2.4 Outlier detection\n",
    "    * 2.5 Check for null and missing values\n",
    "* **4 Data preprocessing**\n",
    "    * 4.1 Data cleaning\n",
    "* **3 Feature analysis**\n",
    "    * 3.1 Numerical values\n",
    "    * 3.2 Categorical values\n",
    "* **4 Filling missing Values**\n",
    "    * 4.1 Age\n",
    "* **5 Feature engineering**\n",
    "    * 5.1 Name/Title\n",
    "    * 5.2 Family Size\n",
    "    * 5.3 Cabin\n",
    "    * 5.4 Ticket\n",
    " \n",
    "* **6 Scaling**\n",
    "  \n",
    "* **7 Modeling**\n",
    "    * 6.1 Simple modeling\n",
    "        * 6.1.1 Cross validate models\n",
    "        * 6.1.2 Hyperparamater tunning for best models\n",
    "        * 6.1.3 Plot learning curves\n",
    "        * 6.1.4 Feature importance of the tree based classifiers\n",
    "    * 6.2 Ensemble modeling\n",
    "        * 6.2.1 Combining models\n",
    "    * 6.3 Prediction\n",
    "        * 6.3.1 Predict and Submit results"
   ]
  },
  {
   "cell_type": "markdown",
   "id": "49cbe354-7a83-4797-9614-d5aa0b5f7d8a",
   "metadata": {},
   "source": [
    "## 1. Introduction\n",
    "\n",
    "In the context of mid-sized manufacturing enterprises, factories often engage in the production of a multitude of products, necessitating the procurement of numerous parts and components from a diverse array of international suppliers, often employing dual sourcing strategies.\n",
    "\n",
    "This project endeavors to develop a predictive model, leveraging real-world production data, specifically focusing on aluminum LED profiles manufacturing, with the objective of accurately classifying incoming goods as either 'OK' or 'NOK' (not OK).\n",
    "\n",
    "A robust working model, enhanced with additional refinements, holds the potential to provide valuable insights not only to quality assurance personnel but also to logistics professionals, aiding in supplier selection processes. Moreover, it can serve as a tool for research and development teams, facilitating the identification of product features during the design phase that mitigate the likelihood of faulty deliveries.\n"
   ]
  },
  {
   "cell_type": "code",
   "execution_count": 282,
   "id": "b074b79d-bfe5-4a9e-b859-95cdb21e80d9",
   "metadata": {
    "scrolled": true
   },
   "outputs": [],
   "source": [
    "import pandas as pd\n",
    "import numpy as np\n",
    "import missingno\n",
    "import seaborn as sns\n",
    "import warnings\n",
    "from collections import Counter\n",
    "warnings.filterwarnings(\"ignore\")\n",
    "# !pip install openpyxl"
   ]
  },
  {
   "cell_type": "markdown",
   "id": "e306dcce-2f64-4b5b-b385-9ffb23e8ebcb",
   "metadata": {},
   "source": [
    "## 2. Load and check data"
   ]
  },
  {
   "cell_type": "markdown",
   "id": "29520550-dcb6-40fd-82be-c61f66ddf882",
   "metadata": {},
   "source": [
    "### 2.1 load data"
   ]
  },
  {
   "cell_type": "code",
   "execution_count": 283,
   "id": "0ebc8c30-e2ef-485e-b14a-01cbcd200ef7",
   "metadata": {},
   "outputs": [],
   "source": [
    "df = pd.read_excel('../Github depo/QC_encoded_data.xlsx')"
   ]
  },
  {
   "cell_type": "code",
   "execution_count": 284,
   "id": "9a6ce955-dffe-4d59-92a3-1ff2b866a9aa",
   "metadata": {},
   "outputs": [
    {
     "data": {
      "text/html": [
       "<div>\n",
       "<style scoped>\n",
       "    .dataframe tbody tr th:only-of-type {\n",
       "        vertical-align: middle;\n",
       "    }\n",
       "\n",
       "    .dataframe tbody tr th {\n",
       "        vertical-align: top;\n",
       "    }\n",
       "\n",
       "    .dataframe thead th {\n",
       "        text-align: right;\n",
       "    }\n",
       "</style>\n",
       "<table border=\"1\" class=\"dataframe\">\n",
       "  <thead>\n",
       "    <tr style=\"text-align: right;\">\n",
       "      <th></th>\n",
       "      <th>date</th>\n",
       "      <th>finish</th>\n",
       "      <th>delivered_pcs_pack</th>\n",
       "      <th>pack_weight_kg</th>\n",
       "      <th>OK_NOK</th>\n",
       "      <th>pcs_lenght_mm</th>\n",
       "      <th>quantity_pcs</th>\n",
       "      <th>overal_weight_kg</th>\n",
       "      <th>pcs_pck</th>\n",
       "      <th>name_e</th>\n",
       "      <th>drawing_no_e</th>\n",
       "      <th>shape_no_e</th>\n",
       "      <th>supplier_e</th>\n",
       "    </tr>\n",
       "  </thead>\n",
       "  <tbody>\n",
       "    <tr>\n",
       "      <th>0</th>\n",
       "      <td>13,01,2017</td>\n",
       "      <td>C-0</td>\n",
       "      <td>NaN</td>\n",
       "      <td>NaN</td>\n",
       "      <td>NOK</td>\n",
       "      <td>NaN</td>\n",
       "      <td>NaN</td>\n",
       "      <td>NaN</td>\n",
       "      <td>40.0</td>\n",
       "      <td>Regor</td>\n",
       "      <td>DR0</td>\n",
       "      <td>SH0</td>\n",
       "      <td>SU0</td>\n",
       "    </tr>\n",
       "    <tr>\n",
       "      <th>1</th>\n",
       "      <td>13,01,2017</td>\n",
       "      <td>C-0</td>\n",
       "      <td>NaN</td>\n",
       "      <td>NaN</td>\n",
       "      <td>NOK</td>\n",
       "      <td>NaN</td>\n",
       "      <td>NaN</td>\n",
       "      <td>NaN</td>\n",
       "      <td>40.0</td>\n",
       "      <td>Procyon</td>\n",
       "      <td>DR1</td>\n",
       "      <td>SH1</td>\n",
       "      <td>SU0</td>\n",
       "    </tr>\n",
       "    <tr>\n",
       "      <th>2</th>\n",
       "      <td>13,01,2017</td>\n",
       "      <td>C-0</td>\n",
       "      <td>NaN</td>\n",
       "      <td>NaN</td>\n",
       "      <td>NOK</td>\n",
       "      <td>NaN</td>\n",
       "      <td>NaN</td>\n",
       "      <td>NaN</td>\n",
       "      <td>40.0</td>\n",
       "      <td>Regor</td>\n",
       "      <td>DR0</td>\n",
       "      <td>SH0</td>\n",
       "      <td>SU0</td>\n",
       "    </tr>\n",
       "    <tr>\n",
       "      <th>3</th>\n",
       "      <td>13,01,2017</td>\n",
       "      <td>C-0</td>\n",
       "      <td>NaN</td>\n",
       "      <td>NaN</td>\n",
       "      <td>NOK</td>\n",
       "      <td>NaN</td>\n",
       "      <td>NaN</td>\n",
       "      <td>NaN</td>\n",
       "      <td>40.0</td>\n",
       "      <td>Regor</td>\n",
       "      <td>DR0</td>\n",
       "      <td>SH0</td>\n",
       "      <td>SU0</td>\n",
       "    </tr>\n",
       "    <tr>\n",
       "      <th>4</th>\n",
       "      <td>19,01,2017</td>\n",
       "      <td>C-0</td>\n",
       "      <td>NaN</td>\n",
       "      <td>NaN</td>\n",
       "      <td>NOK</td>\n",
       "      <td>NaN</td>\n",
       "      <td>NaN</td>\n",
       "      <td>NaN</td>\n",
       "      <td>40.0</td>\n",
       "      <td>Grus</td>\n",
       "      <td>DR2</td>\n",
       "      <td>SH2</td>\n",
       "      <td>SU1</td>\n",
       "    </tr>\n",
       "  </tbody>\n",
       "</table>\n",
       "</div>"
      ],
      "text/plain": [
       "         date finish delivered_pcs_pack pack_weight_kg OK_NOK  pcs_lenght_mm  \\\n",
       "0  13,01,2017    C-0                NaN            NaN    NOK            NaN   \n",
       "1  13,01,2017    C-0                NaN            NaN    NOK            NaN   \n",
       "2  13,01,2017    C-0                NaN            NaN    NOK            NaN   \n",
       "3  13,01,2017    C-0                NaN            NaN    NOK            NaN   \n",
       "4  19,01,2017    C-0                NaN            NaN    NOK            NaN   \n",
       "\n",
       "  quantity_pcs  overal_weight_kg  pcs_pck   name_e drawing_no_e shape_no_e  \\\n",
       "0          NaN               NaN     40.0    Regor          DR0        SH0   \n",
       "1          NaN               NaN     40.0  Procyon          DR1        SH1   \n",
       "2          NaN               NaN     40.0    Regor          DR0        SH0   \n",
       "3          NaN               NaN     40.0    Regor          DR0        SH0   \n",
       "4          NaN               NaN     40.0     Grus          DR2        SH2   \n",
       "\n",
       "  supplier_e  \n",
       "0        SU0  \n",
       "1        SU0  \n",
       "2        SU0  \n",
       "3        SU0  \n",
       "4        SU1  "
      ]
     },
     "execution_count": 284,
     "metadata": {},
     "output_type": "execute_result"
    }
   ],
   "source": [
    "df.head()"
   ]
  },
  {
   "cell_type": "code",
   "execution_count": 285,
   "id": "e4c3db57-503f-4bed-99da-723d3cc0571e",
   "metadata": {
    "scrolled": true
   },
   "outputs": [
    {
     "name": "stdout",
     "output_type": "stream",
     "text": [
      "<class 'pandas.core.frame.DataFrame'>\n",
      "RangeIndex: 6448 entries, 0 to 6447\n",
      "Data columns (total 13 columns):\n",
      " #   Column              Non-Null Count  Dtype  \n",
      "---  ------              --------------  -----  \n",
      " 0   date                6403 non-null   object \n",
      " 1   finish              6448 non-null   object \n",
      " 2   delivered_pcs_pack  4807 non-null   object \n",
      " 3   pack_weight_kg      2411 non-null   object \n",
      " 4   OK_NOK              6448 non-null   object \n",
      " 5   pcs_lenght_mm       4514 non-null   float64\n",
      " 6   quantity_pcs        4514 non-null   object \n",
      " 7   overal_weight_kg    4488 non-null   float64\n",
      " 8   pcs_pck             6350 non-null   float64\n",
      " 9   name_e              6448 non-null   object \n",
      " 10  drawing_no_e        6448 non-null   object \n",
      " 11  shape_no_e          6448 non-null   object \n",
      " 12  supplier_e          6448 non-null   object \n",
      "dtypes: float64(3), object(10)\n",
      "memory usage: 3.4 MB\n"
     ]
    }
   ],
   "source": [
    "df.info(memory_usage='deep')"
   ]
  },
  {
   "cell_type": "markdown",
   "id": "1fa7b764-8bec-40f6-a62b-3d3ac2932577",
   "metadata": {},
   "source": [
    "Reorder the columns"
   ]
  },
  {
   "cell_type": "code",
   "execution_count": 286,
   "id": "c4873bae-2698-4065-9e6e-876954e34016",
   "metadata": {},
   "outputs": [],
   "source": [
    "new_order = ['OK_NOK','date', 'name_e', 'shape_no_e', 'drawing_no_e', 'finish', 'supplier_e', 'pcs_pck','delivered_pcs_pack', 'pack_weight_kg', \n",
    "       'pcs_lenght_mm', 'quantity_pcs', 'overal_weight_kg']"
   ]
  },
  {
   "cell_type": "code",
   "execution_count": 287,
   "id": "7a814d78-48eb-4aab-a360-ce8362c2c8c2",
   "metadata": {},
   "outputs": [],
   "source": [
    "df = df[new_order]"
   ]
  },
  {
   "cell_type": "code",
   "execution_count": 288,
   "id": "b2c0d18e-a507-498e-81d4-fbcd9d00a3b9",
   "metadata": {},
   "outputs": [
    {
     "data": {
      "text/plain": [
       "(6448, 13)"
      ]
     },
     "execution_count": 288,
     "metadata": {},
     "output_type": "execute_result"
    }
   ],
   "source": [
    "df.shape"
   ]
  },
  {
   "cell_type": "code",
   "execution_count": 289,
   "id": "c036acbf-c19b-4304-a30d-c33f376f381f",
   "metadata": {
    "scrolled": true
   },
   "outputs": [
    {
     "data": {
      "text/html": [
       "<div>\n",
       "<style scoped>\n",
       "    .dataframe tbody tr th:only-of-type {\n",
       "        vertical-align: middle;\n",
       "    }\n",
       "\n",
       "    .dataframe tbody tr th {\n",
       "        vertical-align: top;\n",
       "    }\n",
       "\n",
       "    .dataframe thead th {\n",
       "        text-align: right;\n",
       "    }\n",
       "</style>\n",
       "<table border=\"1\" class=\"dataframe\">\n",
       "  <thead>\n",
       "    <tr style=\"text-align: right;\">\n",
       "      <th></th>\n",
       "      <th>pcs_pck</th>\n",
       "      <th>pcs_lenght_mm</th>\n",
       "      <th>overal_weight_kg</th>\n",
       "    </tr>\n",
       "  </thead>\n",
       "  <tbody>\n",
       "    <tr>\n",
       "      <th>count</th>\n",
       "      <td>6350.000000</td>\n",
       "      <td>4514.000000</td>\n",
       "      <td>4488.000000</td>\n",
       "    </tr>\n",
       "    <tr>\n",
       "      <th>mean</th>\n",
       "      <td>38.541890</td>\n",
       "      <td>4078.381701</td>\n",
       "      <td>438.282907</td>\n",
       "    </tr>\n",
       "    <tr>\n",
       "      <th>std</th>\n",
       "      <td>22.971019</td>\n",
       "      <td>226.998957</td>\n",
       "      <td>226.470685</td>\n",
       "    </tr>\n",
       "    <tr>\n",
       "      <th>min</th>\n",
       "      <td>2.000000</td>\n",
       "      <td>1500.000000</td>\n",
       "      <td>0.000000</td>\n",
       "    </tr>\n",
       "    <tr>\n",
       "      <th>25%</th>\n",
       "      <td>20.000000</td>\n",
       "      <td>4050.000000</td>\n",
       "      <td>258.390000</td>\n",
       "    </tr>\n",
       "    <tr>\n",
       "      <th>50%</th>\n",
       "      <td>40.000000</td>\n",
       "      <td>4150.000000</td>\n",
       "      <td>450.357925</td>\n",
       "    </tr>\n",
       "    <tr>\n",
       "      <th>75%</th>\n",
       "      <td>40.000000</td>\n",
       "      <td>4150.000000</td>\n",
       "      <td>568.218000</td>\n",
       "    </tr>\n",
       "    <tr>\n",
       "      <th>max</th>\n",
       "      <td>100.000000</td>\n",
       "      <td>5100.000000</td>\n",
       "      <td>1702.413000</td>\n",
       "    </tr>\n",
       "  </tbody>\n",
       "</table>\n",
       "</div>"
      ],
      "text/plain": [
       "           pcs_pck  pcs_lenght_mm  overal_weight_kg\n",
       "count  6350.000000    4514.000000       4488.000000\n",
       "mean     38.541890    4078.381701        438.282907\n",
       "std      22.971019     226.998957        226.470685\n",
       "min       2.000000    1500.000000          0.000000\n",
       "25%      20.000000    4050.000000        258.390000\n",
       "50%      40.000000    4150.000000        450.357925\n",
       "75%      40.000000    4150.000000        568.218000\n",
       "max     100.000000    5100.000000       1702.413000"
      ]
     },
     "execution_count": 289,
     "metadata": {},
     "output_type": "execute_result"
    }
   ],
   "source": [
    "df.describe()"
   ]
  },
  {
   "cell_type": "markdown",
   "id": "2bee8ff8-b57c-4d96-b1b3-a33f1a103de4",
   "metadata": {},
   "source": [
    "Describe function shows only 3 columns which means only those 3 are numeric, I will address this issue later on."
   ]
  },
  {
   "cell_type": "markdown",
   "id": "0efe8d63-c21f-4c58-92c4-9c934261ba63",
   "metadata": {},
   "source": [
    "## 2.2 Data dictionary\n",
    "\n",
    "* 0.   **OK_NOK**:\n",
    "      This column contains a target label   \n",
    "* 1.   **date**:\n",
    "      Date of delivery\n",
    "* 2.   **name_e**:\n",
    "      This column consist of aluminum profile names\n",
    "* 3.   **shape_no_e**:\n",
    "      Number that defines shape of the aluminium profile.\n",
    "      Shape itself dosn't describe the final product because many suppliers can deliver the same shape in many colours and at different lenghts\n",
    "* 4.   **drawing_no_e**:\n",
    "      Describes a shape and supplier but dosn't contain information about colours and different lenghts\n",
    "* 5.   **finish**:\n",
    "      Information about the colour of the profile\n",
    "* 6.   **supplier_e**:\n",
    "      Name of the supplier\n",
    "* 7.   **pcs_pck**:\n",
    "      Number of aluminium profiles that should be delivered in one package\n",
    "* 8.   **delivered_pcs_pack**:\n",
    "      Number of aluminium profiles that ware delivered in one package\n",
    "* 9.   **pack_weight_kg**:\n",
    "      Weight of one package\n",
    "* 10.  **pcs_lenght_mm**:\n",
    "      Lenght of the aluminium profiles\n",
    "* 11.  **quantity_pcs**:\n",
    "      How many pcs where delivered \n",
    "* 12.  **overal_weight_kg**:\n",
    "      The overal weight delivered profiles"
   ]
  },
  {
   "cell_type": "markdown",
   "id": "6d2415bc-da35-49e2-8740-9aafe002da2f",
   "metadata": {},
   "source": [
    "## 2.3 Data types, empty strings"
   ]
  },
  {
   "cell_type": "markdown",
   "id": "beea908d-a5c3-48a6-9f45-4b3d1ea6a748",
   "metadata": {},
   "source": [
    "### Since our target is binary classification we can map OK = 1 and NOK = 0"
   ]
  },
  {
   "cell_type": "code",
   "execution_count": 290,
   "id": "72d8727a-23c0-480a-bd21-820d2fdd56d8",
   "metadata": {},
   "outputs": [],
   "source": [
    "df['OK_NOK'] = df['OK_NOK'].map({'OK': 1, 'NOK': 0})"
   ]
  },
  {
   "cell_type": "code",
   "execution_count": 291,
   "id": "46ef1272-aa62-4aee-abc5-d7dda5636114",
   "metadata": {
    "scrolled": true
   },
   "outputs": [
    {
     "name": "stdout",
     "output_type": "stream",
     "text": [
      "<class 'pandas.core.frame.DataFrame'>\n",
      "RangeIndex: 6448 entries, 0 to 6447\n",
      "Data columns (total 13 columns):\n",
      " #   Column              Non-Null Count  Dtype  \n",
      "---  ------              --------------  -----  \n",
      " 0   OK_NOK              6448 non-null   int64  \n",
      " 1   date                6403 non-null   object \n",
      " 2   name_e              6448 non-null   object \n",
      " 3   shape_no_e          6448 non-null   object \n",
      " 4   drawing_no_e        6448 non-null   object \n",
      " 5   finish              6448 non-null   object \n",
      " 6   supplier_e          6448 non-null   object \n",
      " 7   pcs_pck             6350 non-null   float64\n",
      " 8   delivered_pcs_pack  4807 non-null   object \n",
      " 9   pack_weight_kg      2411 non-null   object \n",
      " 10  pcs_lenght_mm       4514 non-null   float64\n",
      " 11  quantity_pcs        4514 non-null   object \n",
      " 12  overal_weight_kg    4488 non-null   float64\n",
      "dtypes: float64(3), int64(1), object(9)\n",
      "memory usage: 655.0+ KB\n"
     ]
    }
   ],
   "source": [
    "df.info()"
   ]
  },
  {
   "cell_type": "markdown",
   "id": "0db9d29e-ae61-46fa-80b8-61a36399bd14",
   "metadata": {},
   "source": [
    " The columns:\n",
    "* 'delivered_pcs_pack',\n",
    "* 'pack_weight_kg',\n",
    "* 'quantity_pcs'\n",
    "  \n",
    "   are mix of strings, numeric and nans that I need to handle first."
   ]
  },
  {
   "cell_type": "markdown",
   "id": "da953846-e1a2-4cab-be66-e3699a8fb0c0",
   "metadata": {},
   "source": [
    "* **delivered_pcs_pack'**"
   ]
  },
  {
   "cell_type": "code",
   "execution_count": 292,
   "id": "4598520e-e745-452b-8af1-9c5e4d86bbc6",
   "metadata": {
    "scrolled": true
   },
   "outputs": [],
   "source": [
    "delivered_pcs_vc = df['delivered_pcs_pack'].value_counts(dropna=False)\n"
   ]
  },
  {
   "cell_type": "code",
   "execution_count": 293,
   "id": "7482b523-7d63-4b21-8f55-6e085b2edc7b",
   "metadata": {},
   "outputs": [],
   "source": [
    "# Change the type of whole column to str\n",
    "\n",
    "df['delivered_pcs_pack'] = df['delivered_pcs_pack'].astype(str)\n",
    "\n",
    "# Filter out rows containing '40 / 60'\n",
    "filtered_df = df[df['delivered_pcs_pack'].str.contains('40 / 60')]\n"
   ]
  },
  {
   "cell_type": "code",
   "execution_count": 294,
   "id": "2c1114f4-3f3b-40d5-9dfa-d479dbadfbed",
   "metadata": {},
   "outputs": [],
   "source": [
    "#  Replace values, strip white spaces:\n",
    "\n",
    "df['delivered_pcs_pack'] = df['delivered_pcs_pack'].replace(['20 SZT', 'BRAK', '-', '0', '40 / 60'], ['20', 'np.nan', 'np.nan', 'np.nan', '40']).str.strip()\n",
    "\n",
    "# Change the whole column back to numeric\n",
    "\n",
    "df['delivered_pcs_pack'] = pd.to_numeric(df['delivered_pcs_pack'], errors='coerce')\n"
   ]
  },
  {
   "cell_type": "markdown",
   "id": "c1ae9a50-8153-4991-96ed-0e05e553f98f",
   "metadata": {},
   "source": [
    "* **pack_weight_kg**"
   ]
  },
  {
   "cell_type": "code",
   "execution_count": 295,
   "id": "77c6f816-59ba-46bd-b522-e0f1ad7cf496",
   "metadata": {},
   "outputs": [],
   "source": [
    "# Check for strings, nan etc, then convert to nummeric.\n",
    "pack_weight_kg_vc = df['pack_weight_kg'].value_counts(dropna=False)\n",
    "filtered_pack_weight_kg_vc = pack_weight_kg_vc[pack_weight_kg_vc<2]\n"
   ]
  },
  {
   "cell_type": "code",
   "execution_count": 296,
   "id": "734c2406-77ca-4e8c-873b-690073096851",
   "metadata": {},
   "outputs": [
    {
     "data": {
      "text/plain": [
       "[nan,\n",
       " 27.0,\n",
       " 32.2,\n",
       " 21.4,\n",
       " 22.7,\n",
       " 31.3,\n",
       " 25.4,\n",
       " 19.4,\n",
       " 27.1,\n",
       " 32.0,\n",
       " 19.3,\n",
       " 36.2,\n",
       " 21.2,\n",
       " 26.3,\n",
       " 21.7,\n",
       " 30.5,\n",
       " 24.4,\n",
       " 24.0,\n",
       " 23.0,\n",
       " 33.4,\n",
       " 24.8,\n",
       " 22.1,\n",
       " 38.5,\n",
       " 31.6,\n",
       " 26.1,\n",
       " 28.2,\n",
       " 25.0,\n",
       " 42.2,\n",
       " 35.3,\n",
       " 18.8,\n",
       " 26.0,\n",
       " 18.1,\n",
       " 23.7,\n",
       " 25.6,\n",
       " 27.2,\n",
       " 32.4,\n",
       " 35.0,\n",
       " 18.7,\n",
       " 26.5,\n",
       " 39.0,\n",
       " 30.0,\n",
       " 34.0,\n",
       " 28.9,\n",
       " 30.4,\n",
       " 37.5,\n",
       " 31.1,\n",
       " 39.7,\n",
       " 28.0,\n",
       " 40.0,\n",
       " 18.2,\n",
       " 31.4,\n",
       " 21.1,\n",
       " 38.0,\n",
       " 32.6,\n",
       " 36.4,\n",
       " 10.8,\n",
       " 20.2,\n",
       " 9.7,\n",
       " 37.0,\n",
       " 29.0,\n",
       " 14.3,\n",
       " 16.3,\n",
       " 20.9,\n",
       " 33.0,\n",
       " 25.8,\n",
       " 0.0,\n",
       " 24.7,\n",
       " 21.6,\n",
       " 25.1,\n",
       " 27.9,\n",
       " 39.4,\n",
       " 30.9,\n",
       " 37.1,\n",
       " 25.5,\n",
       " 26.4,\n",
       " 17.2,\n",
       " 36.9,\n",
       " 18.9,\n",
       " 17.7,\n",
       " 36.5,\n",
       " 26.6,\n",
       " 23.6,\n",
       " 22.2,\n",
       " 29.8,\n",
       " 28.6,\n",
       " 23.9,\n",
       " 39.3,\n",
       " 15.0,\n",
       " 36.6,\n",
       " 31.5,\n",
       " 25.7,\n",
       " 26.7,\n",
       " 19.2,\n",
       " 36.0,\n",
       " 33.9,\n",
       " 28.3,\n",
       " 31.2,\n",
       " 14.7,\n",
       " 32.5,\n",
       " 18.4,\n",
       " 27.4,\n",
       " 38.2,\n",
       " 35.5,\n",
       " 19.7,\n",
       " 45.3,\n",
       " 37.9,\n",
       " 19.8,\n",
       " 39.2,\n",
       " 33.7,\n",
       " 29.1,\n",
       " 30.6,\n",
       " 30.7,\n",
       " 31.8,\n",
       " 24.3,\n",
       " 38.4,\n",
       " 26.9,\n",
       " 11.1,\n",
       " 19.0,\n",
       " 41.2,\n",
       " 26.8,\n",
       " 37.6,\n",
       " 30.2,\n",
       " 45.0,\n",
       " 20.0,\n",
       " 40.2,\n",
       " 37.8,\n",
       " 5.4,\n",
       " 42.0,\n",
       " 24.1,\n",
       " 29.4,\n",
       " 7.6,\n",
       " 51.6,\n",
       " 40.3,\n",
       " 18.0,\n",
       " 25.3,\n",
       " 41.7,\n",
       " 7.5,\n",
       " 25.2,\n",
       " 33.8,\n",
       " 24.5,\n",
       " 31.0,\n",
       " 10.5,\n",
       " 35.2,\n",
       " 27.3,\n",
       " 35.7,\n",
       " 20.5,\n",
       " 23.8,\n",
       " 20.6,\n",
       " 31.7,\n",
       " 40.5,\n",
       " 33.6,\n",
       " 47.5,\n",
       " 9.5,\n",
       " 27.8,\n",
       " 29.2,\n",
       " 8.5,\n",
       " 29.6,\n",
       " 41.5,\n",
       " 38.3,\n",
       " 44.7,\n",
       " 35.9,\n",
       " 32.9,\n",
       " 5.8,\n",
       " 10.7,\n",
       " 43.0,\n",
       " 5.3,\n",
       " 45.2,\n",
       " 33.2,\n",
       " 15.5,\n",
       " 47.0,\n",
       " 17.1,\n",
       " 29.5,\n",
       " 46.0,\n",
       " 27.6,\n",
       " 12.0,\n",
       " 23.5,\n",
       " 25.9,\n",
       " 48.0,\n",
       " 23.1,\n",
       " 42.3,\n",
       " 30.8,\n",
       " 35.6,\n",
       " 20.8,\n",
       " 10.9,\n",
       " 27.7,\n",
       " 16.7,\n",
       " 29.9,\n",
       " 26.2,\n",
       " 15.6,\n",
       " 28.8,\n",
       " 14.0,\n",
       " 36.8,\n",
       " 33.3,\n",
       " 22.6,\n",
       " 35.4,\n",
       " 48.6,\n",
       " 14.5,\n",
       " 9.4,\n",
       " 15.9,\n",
       " 5.7,\n",
       " 2.1,\n",
       " 20.3,\n",
       " 14.6,\n",
       " 21.9,\n",
       " 8.2,\n",
       " 47.3,\n",
       " 9.6,\n",
       " 11.2,\n",
       " 23.4,\n",
       " 12.8,\n",
       " 11.5,\n",
       " 9.8,\n",
       " 34.8,\n",
       " 14.4,\n",
       " 46.6,\n",
       " 13.3,\n",
       " 0.3,\n",
       " 47.2,\n",
       " 37.2,\n",
       " 41.8,\n",
       " 41.0,\n",
       " 34.7,\n",
       " 44.8,\n",
       " 34.5,\n",
       " 22.8,\n",
       " 32.1,\n",
       " 37.7,\n",
       " 46.3,\n",
       " 45.9,\n",
       " 31.9,\n",
       " 30.3,\n",
       " 28.4,\n",
       " 28.1,\n",
       " 23.2,\n",
       " 17.5,\n",
       " 60.4,\n",
       " 43.6,\n",
       " 19.5,\n",
       " 20.4,\n",
       " 24.6,\n",
       " 38.6,\n",
       " 17.9,\n",
       " 42.8,\n",
       " 50.0,\n",
       " 28.7,\n",
       " 39.6,\n",
       " 34.2,\n",
       " 18.6,\n",
       " 22.4,\n",
       " 40.6,\n",
       " 40.7,\n",
       " 34.4,\n",
       " 43.5,\n",
       " 55.0,\n",
       " 39.5,\n",
       " 48.5,\n",
       " 350.0,\n",
       " 18.5,\n",
       " 12.2]"
      ]
     },
     "execution_count": 296,
     "metadata": {},
     "output_type": "execute_result"
    }
   ],
   "source": [
    "df['pack_weight_kg'] =  pd.to_numeric(df['pack_weight_kg'], errors='coerce')\n",
    "df['pack_weight_kg'] = df['pack_weight_kg'].round(decimals=1)\n",
    "list(df['pack_weight_kg'].value_counts(dropna=False).index)"
   ]
  },
  {
   "cell_type": "markdown",
   "id": "92d502b6-b31d-4fd9-bfb4-24474b32e16b",
   "metadata": {},
   "source": [
    "* **quantity_pcs**"
   ]
  },
  {
   "cell_type": "code",
   "execution_count": 297,
   "id": "43f513b8-7526-4087-b006-296d89697b9b",
   "metadata": {},
   "outputs": [
    {
     "data": {
      "text/plain": [
       "quantity_pcs\n",
       "NaN       1934\n",
       "600.0      115\n",
       "360.0       94\n",
       "400.0       86\n",
       "1200.0      77\n",
       "          ... \n",
       "594.0        1\n",
       "1258.0       1\n",
       "327.0        1\n",
       "1260.0       1\n",
       "2032.0       1\n",
       "Name: count, Length: 1005, dtype: int64"
      ]
     },
     "execution_count": 297,
     "metadata": {},
     "output_type": "execute_result"
    }
   ],
   "source": [
    "quantity_pcs_vc = df['quantity_pcs'].value_counts(dropna=False)\n",
    "quantity_pcs_vc"
   ]
  },
  {
   "cell_type": "code",
   "execution_count": 298,
   "id": "729c1219-d222-4d80-afcf-fc60f7b00a77",
   "metadata": {},
   "outputs": [],
   "source": [
    "df['quantity_pcs'] = pd.to_numeric(df['quantity_pcs'], errors='coerce')"
   ]
  },
  {
   "cell_type": "code",
   "execution_count": 299,
   "id": "1daaf365-6de9-4f2a-94f2-6ba74f27d43b",
   "metadata": {
    "scrolled": true
   },
   "outputs": [
    {
     "name": "stdout",
     "output_type": "stream",
     "text": [
      "<class 'pandas.core.frame.DataFrame'>\n",
      "RangeIndex: 6448 entries, 0 to 6447\n",
      "Data columns (total 13 columns):\n",
      " #   Column              Non-Null Count  Dtype  \n",
      "---  ------              --------------  -----  \n",
      " 0   OK_NOK              6448 non-null   int64  \n",
      " 1   date                6403 non-null   object \n",
      " 2   name_e              6448 non-null   object \n",
      " 3   shape_no_e          6448 non-null   object \n",
      " 4   drawing_no_e        6448 non-null   object \n",
      " 5   finish              6448 non-null   object \n",
      " 6   supplier_e          6448 non-null   object \n",
      " 7   pcs_pck             6350 non-null   float64\n",
      " 8   delivered_pcs_pack  4801 non-null   float64\n",
      " 9   pack_weight_kg      2405 non-null   float64\n",
      " 10  pcs_lenght_mm       4514 non-null   float64\n",
      " 11  quantity_pcs        4513 non-null   float64\n",
      " 12  overal_weight_kg    4488 non-null   float64\n",
      "dtypes: float64(6), int64(1), object(6)\n",
      "memory usage: 655.0+ KB\n"
     ]
    }
   ],
   "source": [
    "df.info()"
   ]
  },
  {
   "cell_type": "markdown",
   "id": "6dcdedc3-1bde-4fec-bf7a-040085a8e988",
   "metadata": {},
   "source": [
    "## 2.4 Outlier detection"
   ]
  },
  {
   "cell_type": "code",
   "execution_count": 300,
   "id": "8cfe2d5a-7c23-41de-9620-616e1a7bc9cd",
   "metadata": {},
   "outputs": [],
   "source": [
    "# Outlier detection \n",
    "\n",
    "def detect_outliers(df,n,features):\n",
    "    \"\"\"\n",
    "    Takes a dataframe df of features and returns a list of the indices\n",
    "    corresponding to the observations containing more than n outliers according\n",
    "    to the Tukey method.\n",
    "    \"\"\"\n",
    "    outlier_indices = []\n",
    "    \n",
    "    # iterate over features(columns)\n",
    "    for col in features:\n",
    "        # 1st quartile (25%)\n",
    "        Q1 = np.percentile(df[col], 25)\n",
    "        # 3rd quartile (75%)\n",
    "        Q3 = np.percentile(df[col],75)\n",
    "        # Interquartile range (IQR)\n",
    "        IQR = Q3 - Q1\n",
    "        \n",
    "        # outlier step\n",
    "        outlier_step = 1.5 * IQR\n",
    "        \n",
    "        # Determine a list of indices of outliers for feature col\n",
    "        outlier_list_col = df[(df[col] < Q1 - outlier_step) | (df[col] > Q3 + outlier_step )].index\n",
    "        \n",
    "        # append the found outlier indices for col to the list of outlier indices \n",
    "        outlier_indices.extend(outlier_list_col)\n",
    "        \n",
    "    # select observations containing more than 2 outliers\n",
    "    outlier_indices = Counter(outlier_indices)        \n",
    "    multiple_outliers = list( k for k, v in outlier_indices.items() if v > n )\n",
    "    \n",
    "    return multiple_outliers   \n",
    "\n",
    "# detect outliers from \"pcs_pck\", \"pcs_lenght_mm\", \"overal_weight_kg\", \"quantity_pcs\",\"pack_weight_kg\",\"delivered_pcs_pack\"\n",
    "Outliers_to_drop = detect_outliers(df,2,[\"pcs_pck\", \"pcs_lenght_mm\", \"overal_weight_kg\", \"quantity_pcs\",\"pack_weight_kg\",\"delivered_pcs_pack\"])"
   ]
  },
  {
   "cell_type": "code",
   "execution_count": 301,
   "id": "03ea67f2-ff75-4e31-b80e-b050fba270ff",
   "metadata": {},
   "outputs": [
    {
     "data": {
      "text/plain": [
       "[]"
      ]
     },
     "execution_count": 301,
     "metadata": {},
     "output_type": "execute_result"
    }
   ],
   "source": [
    "Outliers_to_drop"
   ]
  },
  {
   "cell_type": "markdown",
   "id": "9e6d2e1c-6718-4ccf-89be-5808ef96e9e7",
   "metadata": {},
   "source": [
    "Comment: It appears that there are no outliers in our data."
   ]
  },
  {
   "cell_type": "code",
   "execution_count": 302,
   "id": "2452ab85-48b0-4ea0-871b-1f28ace21bd2",
   "metadata": {
    "scrolled": true
   },
   "outputs": [
    {
     "data": {
      "text/html": [
       "<div>\n",
       "<style scoped>\n",
       "    .dataframe tbody tr th:only-of-type {\n",
       "        vertical-align: middle;\n",
       "    }\n",
       "\n",
       "    .dataframe tbody tr th {\n",
       "        vertical-align: top;\n",
       "    }\n",
       "\n",
       "    .dataframe thead th {\n",
       "        text-align: right;\n",
       "    }\n",
       "</style>\n",
       "<table border=\"1\" class=\"dataframe\">\n",
       "  <thead>\n",
       "    <tr style=\"text-align: right;\">\n",
       "      <th></th>\n",
       "      <th>OK_NOK</th>\n",
       "      <th>pcs_pck</th>\n",
       "      <th>delivered_pcs_pack</th>\n",
       "      <th>pack_weight_kg</th>\n",
       "      <th>pcs_lenght_mm</th>\n",
       "      <th>quantity_pcs</th>\n",
       "      <th>overal_weight_kg</th>\n",
       "    </tr>\n",
       "  </thead>\n",
       "  <tbody>\n",
       "    <tr>\n",
       "      <th>count</th>\n",
       "      <td>6448.000000</td>\n",
       "      <td>6350.000000</td>\n",
       "      <td>4801.000000</td>\n",
       "      <td>2405.000000</td>\n",
       "      <td>4514.000000</td>\n",
       "      <td>4513.000000</td>\n",
       "      <td>4488.000000</td>\n",
       "    </tr>\n",
       "    <tr>\n",
       "      <th>mean</th>\n",
       "      <td>0.810174</td>\n",
       "      <td>38.541890</td>\n",
       "      <td>38.570142</td>\n",
       "      <td>27.548732</td>\n",
       "      <td>4078.381701</td>\n",
       "      <td>705.673942</td>\n",
       "      <td>438.282907</td>\n",
       "    </tr>\n",
       "    <tr>\n",
       "      <th>std</th>\n",
       "      <td>0.392194</td>\n",
       "      <td>22.971019</td>\n",
       "      <td>22.791827</td>\n",
       "      <td>10.219792</td>\n",
       "      <td>226.998957</td>\n",
       "      <td>591.612370</td>\n",
       "      <td>226.470685</td>\n",
       "    </tr>\n",
       "    <tr>\n",
       "      <th>min</th>\n",
       "      <td>0.000000</td>\n",
       "      <td>2.000000</td>\n",
       "      <td>0.250000</td>\n",
       "      <td>0.000000</td>\n",
       "      <td>1500.000000</td>\n",
       "      <td>0.000000</td>\n",
       "      <td>0.000000</td>\n",
       "    </tr>\n",
       "    <tr>\n",
       "      <th>25%</th>\n",
       "      <td>1.000000</td>\n",
       "      <td>20.000000</td>\n",
       "      <td>20.000000</td>\n",
       "      <td>22.100000</td>\n",
       "      <td>4050.000000</td>\n",
       "      <td>260.000000</td>\n",
       "      <td>258.390000</td>\n",
       "    </tr>\n",
       "    <tr>\n",
       "      <th>50%</th>\n",
       "      <td>1.000000</td>\n",
       "      <td>40.000000</td>\n",
       "      <td>40.000000</td>\n",
       "      <td>27.000000</td>\n",
       "      <td>4150.000000</td>\n",
       "      <td>525.000000</td>\n",
       "      <td>450.357925</td>\n",
       "    </tr>\n",
       "    <tr>\n",
       "      <th>75%</th>\n",
       "      <td>1.000000</td>\n",
       "      <td>40.000000</td>\n",
       "      <td>40.000000</td>\n",
       "      <td>32.200000</td>\n",
       "      <td>4150.000000</td>\n",
       "      <td>1000.000000</td>\n",
       "      <td>568.218000</td>\n",
       "    </tr>\n",
       "    <tr>\n",
       "      <th>max</th>\n",
       "      <td>1.000000</td>\n",
       "      <td>100.000000</td>\n",
       "      <td>250.000000</td>\n",
       "      <td>350.000000</td>\n",
       "      <td>5100.000000</td>\n",
       "      <td>5200.000000</td>\n",
       "      <td>1702.413000</td>\n",
       "    </tr>\n",
       "  </tbody>\n",
       "</table>\n",
       "</div>"
      ],
      "text/plain": [
       "            OK_NOK      pcs_pck  delivered_pcs_pack  pack_weight_kg  \\\n",
       "count  6448.000000  6350.000000         4801.000000     2405.000000   \n",
       "mean      0.810174    38.541890           38.570142       27.548732   \n",
       "std       0.392194    22.971019           22.791827       10.219792   \n",
       "min       0.000000     2.000000            0.250000        0.000000   \n",
       "25%       1.000000    20.000000           20.000000       22.100000   \n",
       "50%       1.000000    40.000000           40.000000       27.000000   \n",
       "75%       1.000000    40.000000           40.000000       32.200000   \n",
       "max       1.000000   100.000000          250.000000      350.000000   \n",
       "\n",
       "       pcs_lenght_mm  quantity_pcs  overal_weight_kg  \n",
       "count    4514.000000   4513.000000       4488.000000  \n",
       "mean     4078.381701    705.673942        438.282907  \n",
       "std       226.998957    591.612370        226.470685  \n",
       "min      1500.000000      0.000000          0.000000  \n",
       "25%      4050.000000    260.000000        258.390000  \n",
       "50%      4150.000000    525.000000        450.357925  \n",
       "75%      4150.000000   1000.000000        568.218000  \n",
       "max      5100.000000   5200.000000       1702.413000  "
      ]
     },
     "execution_count": 302,
     "metadata": {},
     "output_type": "execute_result"
    }
   ],
   "source": [
    "df.describe()"
   ]
  },
  {
   "cell_type": "markdown",
   "id": "b99c88e5-b4e5-46c7-b57e-ccdcb9dc0ffb",
   "metadata": {},
   "source": [
    "### 2.5 Check for null and missing values"
   ]
  },
  {
   "cell_type": "code",
   "execution_count": 305,
   "id": "86dbce11-0533-488f-bbef-19fa00fed855",
   "metadata": {},
   "outputs": [
    {
     "data": {
      "text/plain": [
       "pack_weight_kg        4043\n",
       "overal_weight_kg      1960\n",
       "quantity_pcs          1935\n",
       "pcs_lenght_mm         1934\n",
       "delivered_pcs_pack    1647\n",
       "pcs_pck                 98\n",
       "date                    45\n",
       "OK_NOK                   0\n",
       "name_e                   0\n",
       "shape_no_e               0\n",
       "drawing_no_e             0\n",
       "finish                   0\n",
       "supplier_e               0\n",
       "dtype: int64"
      ]
     },
     "execution_count": 305,
     "metadata": {},
     "output_type": "execute_result"
    }
   ],
   "source": [
    "df.isnull().sum().sort_values(ascending=False)"
   ]
  },
  {
   "cell_type": "code",
   "execution_count": 309,
   "id": "4bbf6289-87c7-4783-bfc1-77307e56d83f",
   "metadata": {},
   "outputs": [
    {
     "data": {
      "text/plain": [
       "<Axes: >"
      ]
     },
     "execution_count": 309,
     "metadata": {},
     "output_type": "execute_result"
    },
    {
     "data": {
      "image/png": "[encoded data removed]",
      "text/plain": [
       "<Figure size 2500x1000 with 2 Axes>"
      ]
     },
     "metadata": {},
     "output_type": "display_data"
    }
   ],
   "source": [
    "missingno.matrix(df)"
   ]
  },
  {
   "cell_type": "code",
   "execution_count": 312,
   "id": "9ce8847b-09ad-44b1-84b5-a7fe957b4d3f",
   "metadata": {},
   "outputs": [
    {
     "data": {
      "text/plain": [
       "<Axes: >"
      ]
     },
     "execution_count": 312,
     "metadata": {},
     "output_type": "execute_result"
    },
    {
     "data": {
      "image/png": "[encoded data removed]",
      "text/plain": [
       "<Figure size 2500x1000 with 2 Axes>"
      ]
     },
     "metadata": {},
     "output_type": "display_data"
    }
   ],
   "source": [
    "sorted_delivered_pcs_pack = df.sort_values('delivered_pcs_pack')\n",
    "missingno.matrix(sorted_delivered_pcs_pack)"
   ]
  },
  {
   "cell_type": "markdown",
   "id": "62568127-9678-4450-afa8-fef99ba48902",
   "metadata": {},
   "source": [
    "### 4. Data preprocesing"
   ]
  },
  {
   "cell_type": "markdown",
   "id": "581a89bc-aa8a-4e2c-91ef-98b20af934d8",
   "metadata": {},
   "source": [
    "### 4.1 Data cleaning"
   ]
  },
  {
   "cell_type": "code",
   "execution_count": 313,
   "id": "f339c038-d235-44d9-bc3f-1de2aad18736",
   "metadata": {},
   "outputs": [
    {
     "name": "stdout",
     "output_type": "stream",
     "text": [
      "<class 'pandas.core.frame.DataFrame'>\n",
      "RangeIndex: 6448 entries, 0 to 6447\n",
      "Data columns (total 13 columns):\n",
      " #   Column              Non-Null Count  Dtype  \n",
      "---  ------              --------------  -----  \n",
      " 0   OK_NOK              6448 non-null   int64  \n",
      " 1   date                6403 non-null   object \n",
      " 2   name_e              6448 non-null   object \n",
      " 3   shape_no_e          6448 non-null   object \n",
      " 4   drawing_no_e        6448 non-null   object \n",
      " 5   finish              6448 non-null   object \n",
      " 6   supplier_e          6448 non-null   object \n",
      " 7   pcs_pck             6350 non-null   float64\n",
      " 8   delivered_pcs_pack  4801 non-null   float64\n",
      " 9   pack_weight_kg      2405 non-null   float64\n",
      " 10  pcs_lenght_mm       4514 non-null   float64\n",
      " 11  quantity_pcs        4513 non-null   float64\n",
      " 12  overal_weight_kg    4488 non-null   float64\n",
      "dtypes: float64(6), int64(1), object(6)\n",
      "memory usage: 2.6 MB\n"
     ]
    }
   ],
   "source": [
    "df.info(memory_usage='deep')"
   ]
  },
  {
   "cell_type": "code",
   "execution_count": 315,
   "id": "a3461809-9e2e-41cb-a4f9-1b91e4bdc7eb",
   "metadata": {},
   "outputs": [
    {
     "data": {
      "text/plain": [
       "datetime.datetime(2022, 9, 13, 0, 0)"
      ]
     },
     "execution_count": 315,
     "metadata": {},
     "output_type": "execute_result"
    }
   ],
   "source": [
    "df.date.iloc[-1]"
   ]
  },
  {
   "cell_type": "code",
   "execution_count": 322,
   "id": "782d2d1a-4094-4384-a796-26e2c26008f3",
   "metadata": {},
   "outputs": [
    {
     "name": "stdout",
     "output_type": "stream",
     "text": [
      "   OK_NOK        date   name_e shape_no_e drawing_no_e finish supplier_e  \\\n",
      "0       0  13,01,2017    Regor        SH0          DR0    C-0        SU0   \n",
      "1       0  13,01,2017  Procyon        SH1          DR1    C-0        SU0   \n",
      "2       0  13,01,2017    Regor        SH0          DR0    C-0        SU0   \n",
      "3       0  13,01,2017    Regor        SH0          DR0    C-0        SU0   \n",
      "4       0  19,01,2017     Grus        SH2          DR2    C-0        SU1   \n",
      "\n",
      "   pcs_pck  delivered_pcs_pack  pack_weight_kg  pcs_lenght_mm  quantity_pcs  \\\n",
      "0     40.0                 NaN             NaN            NaN           NaN   \n",
      "1     40.0                 NaN             NaN            NaN           NaN   \n",
      "2     40.0                 NaN             NaN            NaN           NaN   \n",
      "3     40.0                 NaN             NaN            NaN           NaN   \n",
      "4     40.0                 NaN             NaN            NaN           NaN   \n",
      "\n",
      "   overal_weight_kg  is_str  \n",
      "0               NaN    True  \n",
      "1               NaN    True  \n",
      "2               NaN    True  \n",
      "3               NaN    True  \n",
      "4               NaN    True  \n"
     ]
    }
   ],
   "source": [
    "df['is_str'] = df.date.apply(lambda x: True if isinstance(x, str) else False)\n",
    "pd.set_option('display.max_columns', None)\n"
   ]
  },
  {
   "cell_type": "code",
   "execution_count": 323,
   "id": "3afae50b-d75a-469c-871f-b27f55622886",
   "metadata": {},
   "outputs": [
    {
     "data": {
      "text/html": [
       "<div>\n",
       "<style scoped>\n",
       "    .dataframe tbody tr th:only-of-type {\n",
       "        vertical-align: middle;\n",
       "    }\n",
       "\n",
       "    .dataframe tbody tr th {\n",
       "        vertical-align: top;\n",
       "    }\n",
       "\n",
       "    .dataframe thead th {\n",
       "        text-align: right;\n",
       "    }\n",
       "</style>\n",
       "<table border=\"1\" class=\"dataframe\">\n",
       "  <thead>\n",
       "    <tr style=\"text-align: right;\">\n",
       "      <th></th>\n",
       "      <th>OK_NOK</th>\n",
       "      <th>date</th>\n",
       "      <th>name_e</th>\n",
       "      <th>shape_no_e</th>\n",
       "      <th>drawing_no_e</th>\n",
       "      <th>finish</th>\n",
       "      <th>supplier_e</th>\n",
       "      <th>pcs_pck</th>\n",
       "      <th>delivered_pcs_pack</th>\n",
       "      <th>pack_weight_kg</th>\n",
       "      <th>pcs_lenght_mm</th>\n",
       "      <th>quantity_pcs</th>\n",
       "      <th>overal_weight_kg</th>\n",
       "      <th>is_str</th>\n",
       "    </tr>\n",
       "  </thead>\n",
       "  <tbody>\n",
       "    <tr>\n",
       "      <th>0</th>\n",
       "      <td>0</td>\n",
       "      <td>13,01,2017</td>\n",
       "      <td>Regor</td>\n",
       "      <td>SH0</td>\n",
       "      <td>DR0</td>\n",
       "      <td>C-0</td>\n",
       "      <td>SU0</td>\n",
       "      <td>40.0</td>\n",
       "      <td>NaN</td>\n",
       "      <td>NaN</td>\n",
       "      <td>NaN</td>\n",
       "      <td>NaN</td>\n",
       "      <td>NaN</td>\n",
       "      <td>True</td>\n",
       "    </tr>\n",
       "    <tr>\n",
       "      <th>1</th>\n",
       "      <td>0</td>\n",
       "      <td>13,01,2017</td>\n",
       "      <td>Procyon</td>\n",
       "      <td>SH1</td>\n",
       "      <td>DR1</td>\n",
       "      <td>C-0</td>\n",
       "      <td>SU0</td>\n",
       "      <td>40.0</td>\n",
       "      <td>NaN</td>\n",
       "      <td>NaN</td>\n",
       "      <td>NaN</td>\n",
       "      <td>NaN</td>\n",
       "      <td>NaN</td>\n",
       "      <td>True</td>\n",
       "    </tr>\n",
       "    <tr>\n",
       "      <th>2</th>\n",
       "      <td>0</td>\n",
       "      <td>13,01,2017</td>\n",
       "      <td>Regor</td>\n",
       "      <td>SH0</td>\n",
       "      <td>DR0</td>\n",
       "      <td>C-0</td>\n",
       "      <td>SU0</td>\n",
       "      <td>40.0</td>\n",
       "      <td>NaN</td>\n",
       "      <td>NaN</td>\n",
       "      <td>NaN</td>\n",
       "      <td>NaN</td>\n",
       "      <td>NaN</td>\n",
       "      <td>True</td>\n",
       "    </tr>\n",
       "    <tr>\n",
       "      <th>3</th>\n",
       "      <td>0</td>\n",
       "      <td>13,01,2017</td>\n",
       "      <td>Regor</td>\n",
       "      <td>SH0</td>\n",
       "      <td>DR0</td>\n",
       "      <td>C-0</td>\n",
       "      <td>SU0</td>\n",
       "      <td>40.0</td>\n",
       "      <td>NaN</td>\n",
       "      <td>NaN</td>\n",
       "      <td>NaN</td>\n",
       "      <td>NaN</td>\n",
       "      <td>NaN</td>\n",
       "      <td>True</td>\n",
       "    </tr>\n",
       "    <tr>\n",
       "      <th>4</th>\n",
       "      <td>0</td>\n",
       "      <td>19,01,2017</td>\n",
       "      <td>Grus</td>\n",
       "      <td>SH2</td>\n",
       "      <td>DR2</td>\n",
       "      <td>C-0</td>\n",
       "      <td>SU1</td>\n",
       "      <td>40.0</td>\n",
       "      <td>NaN</td>\n",
       "      <td>NaN</td>\n",
       "      <td>NaN</td>\n",
       "      <td>NaN</td>\n",
       "      <td>NaN</td>\n",
       "      <td>True</td>\n",
       "    </tr>\n",
       "  </tbody>\n",
       "</table>\n",
       "</div>"
      ],
      "text/plain": [
       "   OK_NOK        date   name_e shape_no_e drawing_no_e finish supplier_e  \\\n",
       "0       0  13,01,2017    Regor        SH0          DR0    C-0        SU0   \n",
       "1       0  13,01,2017  Procyon        SH1          DR1    C-0        SU0   \n",
       "2       0  13,01,2017    Regor        SH0          DR0    C-0        SU0   \n",
       "3       0  13,01,2017    Regor        SH0          DR0    C-0        SU0   \n",
       "4       0  19,01,2017     Grus        SH2          DR2    C-0        SU1   \n",
       "\n",
       "   pcs_pck  delivered_pcs_pack  pack_weight_kg  pcs_lenght_mm  quantity_pcs  \\\n",
       "0     40.0                 NaN             NaN            NaN           NaN   \n",
       "1     40.0                 NaN             NaN            NaN           NaN   \n",
       "2     40.0                 NaN             NaN            NaN           NaN   \n",
       "3     40.0                 NaN             NaN            NaN           NaN   \n",
       "4     40.0                 NaN             NaN            NaN           NaN   \n",
       "\n",
       "   overal_weight_kg  is_str  \n",
       "0               NaN    True  \n",
       "1               NaN    True  \n",
       "2               NaN    True  \n",
       "3               NaN    True  \n",
       "4               NaN    True  "
      ]
     },
     "execution_count": 323,
     "metadata": {},
     "output_type": "execute_result"
    }
   ],
   "source": [
    "df.head(5)"
   ]
  },
  {
   "cell_type": "code",
   "execution_count": null,
   "id": "38987659-46af-48a2-a6e2-ec378bfd5fc9",
   "metadata": {},
   "outputs": [],
   "source": []
  },
  {
   "cell_type": "code",
   "execution_count": null,
   "id": "f5fa8651-d441-4228-9e36-6cef4a57d283",
   "metadata": {},
   "outputs": [],
   "source": []
  },
  {
   "cell_type": "code",
   "execution_count": null,
   "id": "8f61ef7d-69e0-4fa0-96bc-60e5f21bb97e",
   "metadata": {},
   "outputs": [],
   "source": []
  },
  {
   "cell_type": "code",
   "execution_count": null,
   "id": "16ba4fc7-17a1-4572-9f33-776e19875615",
   "metadata": {},
   "outputs": [],
   "source": []
  },
  {
   "cell_type": "code",
   "execution_count": null,
   "id": "761d8ed9-5f1b-4faa-add4-fd8a4b9cf3b3",
   "metadata": {},
   "outputs": [],
   "source": []
  },
  {
   "cell_type": "code",
   "execution_count": 303,
   "id": "469495cb-98e2-46bb-955d-a3090e46d942",
   "metadata": {},
   "outputs": [
    {
     "data": {
      "image/png": "[encoded data removed]",
      "text/plain": [
       "<Figure size 640x480 with 2 Axes>"
      ]
     },
     "metadata": {},
     "output_type": "display_data"
    }
   ],
   "source": [
    "g = sns.heatmap(df[[\"OK_NOK\",\"pcs_pck\", \"pcs_lenght_mm\", \"overal_weight_kg\", \"quantity_pcs\",\"pack_weight_kg\",\"delivered_pcs_pack\"]].corr(),annot=True, fmt = \".2f\", cmap = \"coolwarm\")"
   ]
  },
  {
   "cell_type": "code",
   "execution_count": null,
   "id": "46a295f5-4a53-41b9-a4ac-ae3cbb06f951",
   "metadata": {},
   "outputs": [],
   "source": []
  }
 ],
 "metadata": {
  "kernelspec": {
   "display_name": "Python 3 (ipykernel)",
   "language": "python",
   "name": "python3"
  },
  "language_info": {
   "codemirror_mode": {
    "name": "ipython",
    "version": 3
   },
   "file_extension": ".py",
   "mimetype": "text/x-python",
   "name": "python",
   "nbconvert_exporter": "python",
   "pygments_lexer": "ipython3",
   "version": "3.11.3"
  }
 },
 "nbformat": 4,
 "nbformat_minor": 5
}
