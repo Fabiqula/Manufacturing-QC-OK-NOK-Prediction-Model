{
 "cells": [
  {
   "cell_type": "markdown",
   "id": "161fa7a4-bd37-46bd-8a01-b5472f2d338d",
   "metadata": {},
   "source": [
    "# Quality Control prediction for incoming goods.\n",
    "    \n",
    "### **Grzegorz Kowalczyk**\n",
    "#### 01/03/2024\n",
    "\n",
    "* **1 Introduction**\n",
    "* **2 Load and check data**\n",
    "    * 2.1 Load data\n",
    "    * 2.2 Data dictionary\n",
    "    * 2.3 Data types, empty strings\n",
    "    * 2.4 Null and missing values\n",
    "    * 2.5 Data distribution\n",
    "* **3 Data preprocessing**\n",
    "    * 3.1 Data cleaning\n",
    "* **4 Filling missing Values**\n",
    "    * 4.1 Age\n",
    "* **5 Outlier detection**      \n",
    "* **6 Feature analysis**\n",
    "    * 5.1 Numerical values\n",
    "    * 5.2 Categorical values\n",
    "\n",
    "* **7 Feature engineering**\n",
    "    * 6.1 Name/Title\n",
    "    * 6.2 Family Size\n",
    "    * 6.3 Cabin\n",
    "    * 6.4 Ticket\n",
    " \n",
    "* **8 Scaling**\n",
    "  \n",
    "* **9 Modeling**\n",
    "    * 6.1 Simple modeling\n",
    "        * 6.1.1 Cross validate models\n",
    "        * 6.1.2 Hyperparamater tunning for best models\n",
    "        * 6.1.3 Plot learning curves\n",
    "        * 6.1.4 Feature importance of the tree based classifiers\n",
    "    * 6.2 Ensemble modeling\n",
    "        * 6.2.1 Combining models\n",
    "    * 6.3 Prediction\n",
    "        * 6.3.1 Predict and Submit results"
   ]
  },
  {
   "cell_type": "markdown",
   "id": "49cbe354-7a83-4797-9614-d5aa0b5f7d8a",
   "metadata": {},
   "source": [
    "## 1. Introduction\n",
    "\n",
    "In the context of mid-sized manufacturing enterprises, factories often engage in the production of a multitude of products, necessitating the procurement of numerous parts and components from a diverse array of international suppliers, often employing dual sourcing strategies.\n",
    "\n",
    "This project endeavors to develop a predictive model, leveraging real-world production data, specifically focusing on aluminum LED profiles manufacturing, with the objective of accurately classifying incoming goods as either 'OK' or 'NOK' (not OK).\n",
    "\n",
    "A robust working model, enhanced with additional refinements, holds the potential to provide valuable insights not only to quality assurance personnel but also to logistics professionals, aiding in supplier selection processes. Moreover, it can serve as a tool for research and development teams, facilitating the identification of product features during the design phase that mitigate the likelihood of faulty deliveries.\n"
   ]
  },
  {
   "cell_type": "code",
   "execution_count": 2088,
   "id": "b074b79d-bfe5-4a9e-b859-95cdb21e80d9",
   "metadata": {
    "scrolled": true
   },
   "outputs": [],
   "source": [
    "import pandas as pd\n",
    "# pd.set_option('display.max_rows', None)\n",
    "import numpy as np\n",
    "import regex as re\n",
    "from datetime import datetime, timedelta\n",
    "from random import randint\n",
    "import missingno\n",
    "import matplotlib.pyplot as plt\n",
    "import seaborn as sns\n",
    "import warnings\n",
    "from collections import Counter\n",
    "warnings.filterwarnings(\"ignore\")\n",
    "pd.options.display.float_format = '{:.2f}'.format\n",
    "# !pip install openpyxl\n",
    "# !pip install regex"
   ]
  },
  {
   "cell_type": "markdown",
   "id": "e306dcce-2f64-4b5b-b385-9ffb23e8ebcb",
   "metadata": {},
   "source": [
    "## 2. Load and check data"
   ]
  },
  {
   "cell_type": "markdown",
   "id": "29520550-dcb6-40fd-82be-c61f66ddf882",
   "metadata": {},
   "source": [
    "### 2.1 load data"
   ]
  },
  {
   "cell_type": "code",
   "execution_count": 2089,
   "id": "0ebc8c30-e2ef-485e-b14a-01cbcd200ef7",
   "metadata": {},
   "outputs": [],
   "source": [
    "df = pd.read_excel('../Github depo/QC_encoded_data.xlsx')"
   ]
  },
  {
   "cell_type": "code",
   "execution_count": 2090,
   "id": "9a6ce955-dffe-4d59-92a3-1ff2b866a9aa",
   "metadata": {},
   "outputs": [
    {
     "data": {
      "text/html": [
       "<div>\n",
       "<style scoped>\n",
       "    .dataframe tbody tr th:only-of-type {\n",
       "        vertical-align: middle;\n",
       "    }\n",
       "\n",
       "    .dataframe tbody tr th {\n",
       "        vertical-align: top;\n",
       "    }\n",
       "\n",
       "    .dataframe thead th {\n",
       "        text-align: right;\n",
       "    }\n",
       "</style>\n",
       "<table border=\"1\" class=\"dataframe\">\n",
       "  <thead>\n",
       "    <tr style=\"text-align: right;\">\n",
       "      <th></th>\n",
       "      <th>date</th>\n",
       "      <th>finish</th>\n",
       "      <th>delivered_pcs_pack</th>\n",
       "      <th>pack_weight_kg</th>\n",
       "      <th>OK_NOK</th>\n",
       "      <th>pcs_lenght_mm</th>\n",
       "      <th>quantity_pcs</th>\n",
       "      <th>overal_weight_kg</th>\n",
       "      <th>pcs_pck</th>\n",
       "      <th>name_e</th>\n",
       "      <th>drawing_no_e</th>\n",
       "      <th>shape_no_e</th>\n",
       "      <th>supplier_e</th>\n",
       "    </tr>\n",
       "  </thead>\n",
       "  <tbody>\n",
       "    <tr>\n",
       "      <th>0</th>\n",
       "      <td>13,01,2017</td>\n",
       "      <td>C-0</td>\n",
       "      <td>NaN</td>\n",
       "      <td>NaN</td>\n",
       "      <td>NOK</td>\n",
       "      <td>NaN</td>\n",
       "      <td>NaN</td>\n",
       "      <td>NaN</td>\n",
       "      <td>40.00</td>\n",
       "      <td>Regor</td>\n",
       "      <td>DR0</td>\n",
       "      <td>SH0</td>\n",
       "      <td>SU0</td>\n",
       "    </tr>\n",
       "    <tr>\n",
       "      <th>1</th>\n",
       "      <td>13,01,2017</td>\n",
       "      <td>C-0</td>\n",
       "      <td>NaN</td>\n",
       "      <td>NaN</td>\n",
       "      <td>NOK</td>\n",
       "      <td>NaN</td>\n",
       "      <td>NaN</td>\n",
       "      <td>NaN</td>\n",
       "      <td>40.00</td>\n",
       "      <td>Procyon</td>\n",
       "      <td>DR1</td>\n",
       "      <td>SH1</td>\n",
       "      <td>SU0</td>\n",
       "    </tr>\n",
       "    <tr>\n",
       "      <th>2</th>\n",
       "      <td>13,01,2017</td>\n",
       "      <td>C-0</td>\n",
       "      <td>NaN</td>\n",
       "      <td>NaN</td>\n",
       "      <td>NOK</td>\n",
       "      <td>NaN</td>\n",
       "      <td>NaN</td>\n",
       "      <td>NaN</td>\n",
       "      <td>40.00</td>\n",
       "      <td>Regor</td>\n",
       "      <td>DR0</td>\n",
       "      <td>SH0</td>\n",
       "      <td>SU0</td>\n",
       "    </tr>\n",
       "    <tr>\n",
       "      <th>3</th>\n",
       "      <td>13,01,2017</td>\n",
       "      <td>C-0</td>\n",
       "      <td>NaN</td>\n",
       "      <td>NaN</td>\n",
       "      <td>NOK</td>\n",
       "      <td>NaN</td>\n",
       "      <td>NaN</td>\n",
       "      <td>NaN</td>\n",
       "      <td>40.00</td>\n",
       "      <td>Regor</td>\n",
       "      <td>DR0</td>\n",
       "      <td>SH0</td>\n",
       "      <td>SU0</td>\n",
       "    </tr>\n",
       "    <tr>\n",
       "      <th>4</th>\n",
       "      <td>19,01,2017</td>\n",
       "      <td>C-0</td>\n",
       "      <td>NaN</td>\n",
       "      <td>NaN</td>\n",
       "      <td>NOK</td>\n",
       "      <td>NaN</td>\n",
       "      <td>NaN</td>\n",
       "      <td>NaN</td>\n",
       "      <td>40.00</td>\n",
       "      <td>Grus</td>\n",
       "      <td>DR2</td>\n",
       "      <td>SH2</td>\n",
       "      <td>SU1</td>\n",
       "    </tr>\n",
       "  </tbody>\n",
       "</table>\n",
       "</div>"
      ],
      "text/plain": [
       "         date finish delivered_pcs_pack pack_weight_kg OK_NOK  pcs_lenght_mm  \\\n",
       "0  13,01,2017    C-0                NaN            NaN    NOK            NaN   \n",
       "1  13,01,2017    C-0                NaN            NaN    NOK            NaN   \n",
       "2  13,01,2017    C-0                NaN            NaN    NOK            NaN   \n",
       "3  13,01,2017    C-0                NaN            NaN    NOK            NaN   \n",
       "4  19,01,2017    C-0                NaN            NaN    NOK            NaN   \n",
       "\n",
       "  quantity_pcs  overal_weight_kg  pcs_pck   name_e drawing_no_e shape_no_e  \\\n",
       "0          NaN               NaN    40.00    Regor          DR0        SH0   \n",
       "1          NaN               NaN    40.00  Procyon          DR1        SH1   \n",
       "2          NaN               NaN    40.00    Regor          DR0        SH0   \n",
       "3          NaN               NaN    40.00    Regor          DR0        SH0   \n",
       "4          NaN               NaN    40.00     Grus          DR2        SH2   \n",
       "\n",
       "  supplier_e  \n",
       "0        SU0  \n",
       "1        SU0  \n",
       "2        SU0  \n",
       "3        SU0  \n",
       "4        SU1  "
      ]
     },
     "execution_count": 2090,
     "metadata": {},
     "output_type": "execute_result"
    }
   ],
   "source": [
    "df.head()"
   ]
  },
  {
   "cell_type": "code",
   "execution_count": 2091,
   "id": "e4c3db57-503f-4bed-99da-723d3cc0571e",
   "metadata": {
    "scrolled": true
   },
   "outputs": [
    {
     "name": "stdout",
     "output_type": "stream",
     "text": [
      "<class 'pandas.core.frame.DataFrame'>\n",
      "RangeIndex: 6448 entries, 0 to 6447\n",
      "Data columns (total 13 columns):\n",
      " #   Column              Non-Null Count  Dtype  \n",
      "---  ------              --------------  -----  \n",
      " 0   date                6403 non-null   object \n",
      " 1   finish              6448 non-null   object \n",
      " 2   delivered_pcs_pack  4807 non-null   object \n",
      " 3   pack_weight_kg      2411 non-null   object \n",
      " 4   OK_NOK              6448 non-null   object \n",
      " 5   pcs_lenght_mm       4514 non-null   float64\n",
      " 6   quantity_pcs        4514 non-null   object \n",
      " 7   overal_weight_kg    4488 non-null   float64\n",
      " 8   pcs_pck             6350 non-null   float64\n",
      " 9   name_e              6448 non-null   object \n",
      " 10  drawing_no_e        6448 non-null   object \n",
      " 11  shape_no_e          6448 non-null   object \n",
      " 12  supplier_e          6448 non-null   object \n",
      "dtypes: float64(3), object(10)\n",
      "memory usage: 3.4 MB\n"
     ]
    }
   ],
   "source": [
    "df.info(memory_usage='deep')"
   ]
  },
  {
   "cell_type": "markdown",
   "id": "1fa7b764-8bec-40f6-a62b-3d3ac2932577",
   "metadata": {},
   "source": [
    "Reorder the columns"
   ]
  },
  {
   "cell_type": "code",
   "execution_count": 2092,
   "id": "c4873bae-2698-4065-9e6e-876954e34016",
   "metadata": {},
   "outputs": [],
   "source": [
    "new_order = ['OK_NOK','date', 'name_e', 'shape_no_e', 'drawing_no_e', 'finish', 'supplier_e', 'pcs_pck','delivered_pcs_pack', 'pack_weight_kg', \n",
    "       'pcs_lenght_mm', 'quantity_pcs', 'overal_weight_kg']"
   ]
  },
  {
   "cell_type": "code",
   "execution_count": 2093,
   "id": "7a814d78-48eb-4aab-a360-ce8362c2c8c2",
   "metadata": {},
   "outputs": [],
   "source": [
    "df = df[new_order]"
   ]
  },
  {
   "cell_type": "code",
   "execution_count": 2094,
   "id": "b293be41-8b98-4ac2-815a-93f300d29258",
   "metadata": {},
   "outputs": [],
   "source": [
    "df = df.rename(columns={'name_e' : 'name', 'shape_no_e' : 'shape_no', 'drawing_no_e': 'drawing_no', 'supplier_e': 'supplier', 'finish': 'surface_finish'})"
   ]
  },
  {
   "cell_type": "code",
   "execution_count": 2095,
   "id": "b2c0d18e-a507-498e-81d4-fbcd9d00a3b9",
   "metadata": {},
   "outputs": [
    {
     "data": {
      "text/html": [
       "<div>\n",
       "<style scoped>\n",
       "    .dataframe tbody tr th:only-of-type {\n",
       "        vertical-align: middle;\n",
       "    }\n",
       "\n",
       "    .dataframe tbody tr th {\n",
       "        vertical-align: top;\n",
       "    }\n",
       "\n",
       "    .dataframe thead th {\n",
       "        text-align: right;\n",
       "    }\n",
       "</style>\n",
       "<table border=\"1\" class=\"dataframe\">\n",
       "  <thead>\n",
       "    <tr style=\"text-align: right;\">\n",
       "      <th></th>\n",
       "      <th>OK_NOK</th>\n",
       "      <th>date</th>\n",
       "      <th>name</th>\n",
       "      <th>shape_no</th>\n",
       "      <th>drawing_no</th>\n",
       "      <th>surface_finish</th>\n",
       "      <th>supplier</th>\n",
       "      <th>pcs_pck</th>\n",
       "      <th>delivered_pcs_pack</th>\n",
       "      <th>pack_weight_kg</th>\n",
       "      <th>pcs_lenght_mm</th>\n",
       "      <th>quantity_pcs</th>\n",
       "      <th>overal_weight_kg</th>\n",
       "    </tr>\n",
       "  </thead>\n",
       "  <tbody>\n",
       "    <tr>\n",
       "      <th>0</th>\n",
       "      <td>NOK</td>\n",
       "      <td>13,01,2017</td>\n",
       "      <td>Regor</td>\n",
       "      <td>SH0</td>\n",
       "      <td>DR0</td>\n",
       "      <td>C-0</td>\n",
       "      <td>SU0</td>\n",
       "      <td>40.00</td>\n",
       "      <td>NaN</td>\n",
       "      <td>NaN</td>\n",
       "      <td>NaN</td>\n",
       "      <td>NaN</td>\n",
       "      <td>NaN</td>\n",
       "    </tr>\n",
       "    <tr>\n",
       "      <th>1</th>\n",
       "      <td>NOK</td>\n",
       "      <td>13,01,2017</td>\n",
       "      <td>Procyon</td>\n",
       "      <td>SH1</td>\n",
       "      <td>DR1</td>\n",
       "      <td>C-0</td>\n",
       "      <td>SU0</td>\n",
       "      <td>40.00</td>\n",
       "      <td>NaN</td>\n",
       "      <td>NaN</td>\n",
       "      <td>NaN</td>\n",
       "      <td>NaN</td>\n",
       "      <td>NaN</td>\n",
       "    </tr>\n",
       "    <tr>\n",
       "      <th>2</th>\n",
       "      <td>NOK</td>\n",
       "      <td>13,01,2017</td>\n",
       "      <td>Regor</td>\n",
       "      <td>SH0</td>\n",
       "      <td>DR0</td>\n",
       "      <td>C-0</td>\n",
       "      <td>SU0</td>\n",
       "      <td>40.00</td>\n",
       "      <td>NaN</td>\n",
       "      <td>NaN</td>\n",
       "      <td>NaN</td>\n",
       "      <td>NaN</td>\n",
       "      <td>NaN</td>\n",
       "    </tr>\n",
       "    <tr>\n",
       "      <th>3</th>\n",
       "      <td>NOK</td>\n",
       "      <td>13,01,2017</td>\n",
       "      <td>Regor</td>\n",
       "      <td>SH0</td>\n",
       "      <td>DR0</td>\n",
       "      <td>C-0</td>\n",
       "      <td>SU0</td>\n",
       "      <td>40.00</td>\n",
       "      <td>NaN</td>\n",
       "      <td>NaN</td>\n",
       "      <td>NaN</td>\n",
       "      <td>NaN</td>\n",
       "      <td>NaN</td>\n",
       "    </tr>\n",
       "    <tr>\n",
       "      <th>4</th>\n",
       "      <td>NOK</td>\n",
       "      <td>19,01,2017</td>\n",
       "      <td>Grus</td>\n",
       "      <td>SH2</td>\n",
       "      <td>DR2</td>\n",
       "      <td>C-0</td>\n",
       "      <td>SU1</td>\n",
       "      <td>40.00</td>\n",
       "      <td>NaN</td>\n",
       "      <td>NaN</td>\n",
       "      <td>NaN</td>\n",
       "      <td>NaN</td>\n",
       "      <td>NaN</td>\n",
       "    </tr>\n",
       "  </tbody>\n",
       "</table>\n",
       "</div>"
      ],
      "text/plain": [
       "  OK_NOK        date     name shape_no drawing_no surface_finish supplier  \\\n",
       "0    NOK  13,01,2017    Regor      SH0        DR0            C-0      SU0   \n",
       "1    NOK  13,01,2017  Procyon      SH1        DR1            C-0      SU0   \n",
       "2    NOK  13,01,2017    Regor      SH0        DR0            C-0      SU0   \n",
       "3    NOK  13,01,2017    Regor      SH0        DR0            C-0      SU0   \n",
       "4    NOK  19,01,2017     Grus      SH2        DR2            C-0      SU1   \n",
       "\n",
       "   pcs_pck delivered_pcs_pack pack_weight_kg  pcs_lenght_mm quantity_pcs  \\\n",
       "0    40.00                NaN            NaN            NaN          NaN   \n",
       "1    40.00                NaN            NaN            NaN          NaN   \n",
       "2    40.00                NaN            NaN            NaN          NaN   \n",
       "3    40.00                NaN            NaN            NaN          NaN   \n",
       "4    40.00                NaN            NaN            NaN          NaN   \n",
       "\n",
       "   overal_weight_kg  \n",
       "0               NaN  \n",
       "1               NaN  \n",
       "2               NaN  \n",
       "3               NaN  \n",
       "4               NaN  "
      ]
     },
     "execution_count": 2095,
     "metadata": {},
     "output_type": "execute_result"
    }
   ],
   "source": [
    "df.head()"
   ]
  },
  {
   "cell_type": "code",
   "execution_count": 2096,
   "id": "c036acbf-c19b-4304-a30d-c33f376f381f",
   "metadata": {
    "scrolled": true
   },
   "outputs": [
    {
     "data": {
      "text/html": [
       "<div>\n",
       "<style scoped>\n",
       "    .dataframe tbody tr th:only-of-type {\n",
       "        vertical-align: middle;\n",
       "    }\n",
       "\n",
       "    .dataframe tbody tr th {\n",
       "        vertical-align: top;\n",
       "    }\n",
       "\n",
       "    .dataframe thead th {\n",
       "        text-align: right;\n",
       "    }\n",
       "</style>\n",
       "<table border=\"1\" class=\"dataframe\">\n",
       "  <thead>\n",
       "    <tr style=\"text-align: right;\">\n",
       "      <th></th>\n",
       "      <th>pcs_pck</th>\n",
       "      <th>pcs_lenght_mm</th>\n",
       "      <th>overal_weight_kg</th>\n",
       "    </tr>\n",
       "  </thead>\n",
       "  <tbody>\n",
       "    <tr>\n",
       "      <th>count</th>\n",
       "      <td>6350.00</td>\n",
       "      <td>4514.00</td>\n",
       "      <td>4488.00</td>\n",
       "    </tr>\n",
       "    <tr>\n",
       "      <th>mean</th>\n",
       "      <td>38.54</td>\n",
       "      <td>4078.38</td>\n",
       "      <td>438.28</td>\n",
       "    </tr>\n",
       "    <tr>\n",
       "      <th>std</th>\n",
       "      <td>22.97</td>\n",
       "      <td>227.00</td>\n",
       "      <td>226.47</td>\n",
       "    </tr>\n",
       "    <tr>\n",
       "      <th>min</th>\n",
       "      <td>2.00</td>\n",
       "      <td>1500.00</td>\n",
       "      <td>0.00</td>\n",
       "    </tr>\n",
       "    <tr>\n",
       "      <th>25%</th>\n",
       "      <td>20.00</td>\n",
       "      <td>4050.00</td>\n",
       "      <td>258.39</td>\n",
       "    </tr>\n",
       "    <tr>\n",
       "      <th>50%</th>\n",
       "      <td>40.00</td>\n",
       "      <td>4150.00</td>\n",
       "      <td>450.36</td>\n",
       "    </tr>\n",
       "    <tr>\n",
       "      <th>75%</th>\n",
       "      <td>40.00</td>\n",
       "      <td>4150.00</td>\n",
       "      <td>568.22</td>\n",
       "    </tr>\n",
       "    <tr>\n",
       "      <th>max</th>\n",
       "      <td>100.00</td>\n",
       "      <td>5100.00</td>\n",
       "      <td>1702.41</td>\n",
       "    </tr>\n",
       "  </tbody>\n",
       "</table>\n",
       "</div>"
      ],
      "text/plain": [
       "       pcs_pck  pcs_lenght_mm  overal_weight_kg\n",
       "count  6350.00        4514.00           4488.00\n",
       "mean     38.54        4078.38            438.28\n",
       "std      22.97         227.00            226.47\n",
       "min       2.00        1500.00              0.00\n",
       "25%      20.00        4050.00            258.39\n",
       "50%      40.00        4150.00            450.36\n",
       "75%      40.00        4150.00            568.22\n",
       "max     100.00        5100.00           1702.41"
      ]
     },
     "execution_count": 2096,
     "metadata": {},
     "output_type": "execute_result"
    }
   ],
   "source": [
    "df.describe()"
   ]
  },
  {
   "cell_type": "markdown",
   "id": "2bee8ff8-b57c-4d96-b1b3-a33f1a103de4",
   "metadata": {},
   "source": [
    "Describe function shows only 3 columns which means only those 3 are numeric, I will address this issue later on."
   ]
  },
  {
   "cell_type": "markdown",
   "id": "0efe8d63-c21f-4c58-92c4-9c934261ba63",
   "metadata": {},
   "source": [
    "## 2.2 Data dictionary\n",
    "\n",
    "* 0.   **OK_NOK**:\n",
    "      This column contains a target label   \n",
    "* 1.   **date**:\n",
    "      Date of delivery\n",
    "* 2.   **name**:\n",
    "      This column consist of aluminum profile names\n",
    "* 3.   **shape_no**:\n",
    "      Number that defines shape of the aluminium profile.\n",
    "      Shape itself dosn't describe the final product because many suppliers can deliver the same shape in many colours and at different lenghts\n",
    "* 4.   **drawing_no**:\n",
    "      Describes a shape and supplier but dosn't contain information about colours and different lenghts\n",
    "* 5.   **surface_finish**:\n",
    "      Information about the colour of the profile\n",
    "* 6.   **supplier**:\n",
    "      Name of the supplier\n",
    "* 7.   **pcs_pck**:\n",
    "      Number of aluminium profiles that should be delivered in one package\n",
    "* 8.   **delivered_pcs_pack**:\n",
    "      Number of aluminium profiles that ware delivered in one package\n",
    "* 9.   **pack_weight_kg**:\n",
    "      Weight of one package\n",
    "* 10.  **pcs_lenght_mm**:\n",
    "      Lenght of the aluminium profiles\n",
    "* 11.  **quantity_pcs**:\n",
    "      How many pcs where delivered \n",
    "* 12.  **overal_weight_kg**:\n",
    "      The overal weight delivered profiles"
   ]
  },
  {
   "cell_type": "markdown",
   "id": "6d2415bc-da35-49e2-8740-9aafe002da2f",
   "metadata": {},
   "source": [
    "## 2.3 Data types, empty strings"
   ]
  },
  {
   "cell_type": "markdown",
   "id": "beea908d-a5c3-48a6-9f45-4b3d1ea6a748",
   "metadata": {},
   "source": [
    "**Comment**: Since our target is binary classification we can map OK = 1 and NOK = 0"
   ]
  },
  {
   "cell_type": "code",
   "execution_count": 2097,
   "id": "72d8727a-23c0-480a-bd21-820d2fdd56d8",
   "metadata": {},
   "outputs": [],
   "source": [
    "df['OK_NOK'] = df['OK_NOK'].map({'OK': 1, 'NOK': 0})"
   ]
  },
  {
   "cell_type": "code",
   "execution_count": 2098,
   "id": "46ef1272-aa62-4aee-abc5-d7dda5636114",
   "metadata": {
    "scrolled": true
   },
   "outputs": [
    {
     "name": "stdout",
     "output_type": "stream",
     "text": [
      "<class 'pandas.core.frame.DataFrame'>\n",
      "RangeIndex: 6448 entries, 0 to 6447\n",
      "Data columns (total 13 columns):\n",
      " #   Column              Non-Null Count  Dtype  \n",
      "---  ------              --------------  -----  \n",
      " 0   OK_NOK              6448 non-null   int64  \n",
      " 1   date                6403 non-null   object \n",
      " 2   name                6448 non-null   object \n",
      " 3   shape_no            6448 non-null   object \n",
      " 4   drawing_no          6448 non-null   object \n",
      " 5   surface_finish      6448 non-null   object \n",
      " 6   supplier            6448 non-null   object \n",
      " 7   pcs_pck             6350 non-null   float64\n",
      " 8   delivered_pcs_pack  4807 non-null   object \n",
      " 9   pack_weight_kg      2411 non-null   object \n",
      " 10  pcs_lenght_mm       4514 non-null   float64\n",
      " 11  quantity_pcs        4514 non-null   object \n",
      " 12  overal_weight_kg    4488 non-null   float64\n",
      "dtypes: float64(3), int64(1), object(9)\n",
      "memory usage: 655.0+ KB\n"
     ]
    }
   ],
   "source": [
    "df.info()"
   ]
  },
  {
   "cell_type": "markdown",
   "id": "0db9d29e-ae61-46fa-80b8-61a36399bd14",
   "metadata": {},
   "source": [
    "**Comment**: The columns:\n",
    "* 'delivered_pcs_pack',\n",
    "* 'pack_weight_kg',\n",
    "* 'quantity_pcs'\n",
    "  \n",
    "   are mix of strings, numeric and nans that I need to handle first."
   ]
  },
  {
   "cell_type": "markdown",
   "id": "da953846-e1a2-4cab-be66-e3699a8fb0c0",
   "metadata": {},
   "source": [
    "* **delivered_pcs_pack'**"
   ]
  },
  {
   "cell_type": "code",
   "execution_count": 2099,
   "id": "4598520e-e745-452b-8af1-9c5e4d86bbc6",
   "metadata": {
    "scrolled": true
   },
   "outputs": [],
   "source": [
    "delivered_pcs_vc = df['delivered_pcs_pack'].value_counts(dropna=False)\n"
   ]
  },
  {
   "cell_type": "code",
   "execution_count": 2100,
   "id": "7482b523-7d63-4b21-8f55-6e085b2edc7b",
   "metadata": {},
   "outputs": [],
   "source": [
    "# Change the type of whole column to str\n",
    "\n",
    "df['delivered_pcs_pack'] = df['delivered_pcs_pack'].astype(str)\n",
    "\n",
    "# Filter out rows containing '40 / 60'\n",
    "filtered_df = df[df['delivered_pcs_pack'].str.contains('40 / 60')]\n"
   ]
  },
  {
   "cell_type": "code",
   "execution_count": 2101,
   "id": "2c1114f4-3f3b-40d5-9dfa-d479dbadfbed",
   "metadata": {},
   "outputs": [],
   "source": [
    "#  Replace values, strip white spaces:\n",
    "\n",
    "df['delivered_pcs_pack'] = df['delivered_pcs_pack'].replace(['20 SZT', 'BRAK', '-', '0', '40 / 60'], ['20', 'np.nan', 'np.nan', 'np.nan', '40']).str.strip()\n",
    "\n",
    "# Change the whole column back to numeric\n",
    "\n",
    "df['delivered_pcs_pack'] = pd.to_numeric(df['delivered_pcs_pack'], errors='coerce')\n"
   ]
  },
  {
   "cell_type": "markdown",
   "id": "c1ae9a50-8153-4991-96ed-0e05e553f98f",
   "metadata": {},
   "source": [
    "* **pack_weight_kg**"
   ]
  },
  {
   "cell_type": "code",
   "execution_count": 2102,
   "id": "77c6f816-59ba-46bd-b522-e0f1ad7cf496",
   "metadata": {},
   "outputs": [],
   "source": [
    "# Check for strings, nan etc, then convert to nummeric.\n",
    "pack_weight_kg_vc = df['pack_weight_kg'].value_counts(dropna=False)\n",
    "filtered_pack_weight_kg_vc = pack_weight_kg_vc[pack_weight_kg_vc<2]\n"
   ]
  },
  {
   "cell_type": "code",
   "execution_count": 2103,
   "id": "734c2406-77ca-4e8c-873b-690073096851",
   "metadata": {},
   "outputs": [
    {
     "data": {
      "text/plain": [
       "Index([  nan,  27.0,  32.2,  21.4,  22.7,  31.3,  25.4,  19.4,  27.1,  32.0,\n",
       "       ...\n",
       "        40.6,  40.7,  34.4,  43.5,  55.0,  39.5,  48.5, 350.0,  18.5,  12.2],\n",
       "      dtype='float64', name='pack_weight_kg', length=259)"
      ]
     },
     "execution_count": 2103,
     "metadata": {},
     "output_type": "execute_result"
    }
   ],
   "source": [
    "df['pack_weight_kg'] =  pd.to_numeric(df['pack_weight_kg'], errors='coerce')\n",
    "df['pack_weight_kg'] = df['pack_weight_kg'].round(decimals=1)\n",
    "df['pack_weight_kg'].value_counts(dropna=False).index"
   ]
  },
  {
   "cell_type": "markdown",
   "id": "92d502b6-b31d-4fd9-bfb4-24474b32e16b",
   "metadata": {},
   "source": [
    "* **quantity_pcs**"
   ]
  },
  {
   "cell_type": "code",
   "execution_count": 2104,
   "id": "43f513b8-7526-4087-b006-296d89697b9b",
   "metadata": {},
   "outputs": [],
   "source": [
    "quantity_pcs_vc = df['quantity_pcs'].value_counts(dropna=False)"
   ]
  },
  {
   "cell_type": "code",
   "execution_count": 2105,
   "id": "729c1219-d222-4d80-afcf-fc60f7b00a77",
   "metadata": {},
   "outputs": [],
   "source": [
    "df['quantity_pcs'] = pd.to_numeric(df['quantity_pcs'], errors='coerce')"
   ]
  },
  {
   "cell_type": "code",
   "execution_count": 2106,
   "id": "1daaf365-6de9-4f2a-94f2-6ba74f27d43b",
   "metadata": {
    "scrolled": true
   },
   "outputs": [
    {
     "name": "stdout",
     "output_type": "stream",
     "text": [
      "<class 'pandas.core.frame.DataFrame'>\n",
      "RangeIndex: 6448 entries, 0 to 6447\n",
      "Data columns (total 13 columns):\n",
      " #   Column              Non-Null Count  Dtype  \n",
      "---  ------              --------------  -----  \n",
      " 0   OK_NOK              6448 non-null   int64  \n",
      " 1   date                6403 non-null   object \n",
      " 2   name                6448 non-null   object \n",
      " 3   shape_no            6448 non-null   object \n",
      " 4   drawing_no          6448 non-null   object \n",
      " 5   surface_finish      6448 non-null   object \n",
      " 6   supplier            6448 non-null   object \n",
      " 7   pcs_pck             6350 non-null   float64\n",
      " 8   delivered_pcs_pack  4801 non-null   float64\n",
      " 9   pack_weight_kg      2405 non-null   float64\n",
      " 10  pcs_lenght_mm       4514 non-null   float64\n",
      " 11  quantity_pcs        4513 non-null   float64\n",
      " 12  overal_weight_kg    4488 non-null   float64\n",
      "dtypes: float64(6), int64(1), object(6)\n",
      "memory usage: 655.0+ KB\n"
     ]
    }
   ],
   "source": [
    "df.info()"
   ]
  },
  {
   "cell_type": "code",
   "execution_count": 2107,
   "id": "2452ab85-48b0-4ea0-871b-1f28ace21bd2",
   "metadata": {
    "scrolled": true
   },
   "outputs": [
    {
     "data": {
      "text/html": [
       "<div>\n",
       "<style scoped>\n",
       "    .dataframe tbody tr th:only-of-type {\n",
       "        vertical-align: middle;\n",
       "    }\n",
       "\n",
       "    .dataframe tbody tr th {\n",
       "        vertical-align: top;\n",
       "    }\n",
       "\n",
       "    .dataframe thead th {\n",
       "        text-align: right;\n",
       "    }\n",
       "</style>\n",
       "<table border=\"1\" class=\"dataframe\">\n",
       "  <thead>\n",
       "    <tr style=\"text-align: right;\">\n",
       "      <th></th>\n",
       "      <th>OK_NOK</th>\n",
       "      <th>pcs_pck</th>\n",
       "      <th>delivered_pcs_pack</th>\n",
       "      <th>pack_weight_kg</th>\n",
       "      <th>pcs_lenght_mm</th>\n",
       "      <th>quantity_pcs</th>\n",
       "      <th>overal_weight_kg</th>\n",
       "    </tr>\n",
       "  </thead>\n",
       "  <tbody>\n",
       "    <tr>\n",
       "      <th>count</th>\n",
       "      <td>6448.00</td>\n",
       "      <td>6350.00</td>\n",
       "      <td>4801.00</td>\n",
       "      <td>2405.00</td>\n",
       "      <td>4514.00</td>\n",
       "      <td>4513.00</td>\n",
       "      <td>4488.00</td>\n",
       "    </tr>\n",
       "    <tr>\n",
       "      <th>mean</th>\n",
       "      <td>0.81</td>\n",
       "      <td>38.54</td>\n",
       "      <td>38.57</td>\n",
       "      <td>27.55</td>\n",
       "      <td>4078.38</td>\n",
       "      <td>705.67</td>\n",
       "      <td>438.28</td>\n",
       "    </tr>\n",
       "    <tr>\n",
       "      <th>std</th>\n",
       "      <td>0.39</td>\n",
       "      <td>22.97</td>\n",
       "      <td>22.79</td>\n",
       "      <td>10.22</td>\n",
       "      <td>227.00</td>\n",
       "      <td>591.61</td>\n",
       "      <td>226.47</td>\n",
       "    </tr>\n",
       "    <tr>\n",
       "      <th>min</th>\n",
       "      <td>0.00</td>\n",
       "      <td>2.00</td>\n",
       "      <td>0.25</td>\n",
       "      <td>0.00</td>\n",
       "      <td>1500.00</td>\n",
       "      <td>0.00</td>\n",
       "      <td>0.00</td>\n",
       "    </tr>\n",
       "    <tr>\n",
       "      <th>25%</th>\n",
       "      <td>1.00</td>\n",
       "      <td>20.00</td>\n",
       "      <td>20.00</td>\n",
       "      <td>22.10</td>\n",
       "      <td>4050.00</td>\n",
       "      <td>260.00</td>\n",
       "      <td>258.39</td>\n",
       "    </tr>\n",
       "    <tr>\n",
       "      <th>50%</th>\n",
       "      <td>1.00</td>\n",
       "      <td>40.00</td>\n",
       "      <td>40.00</td>\n",
       "      <td>27.00</td>\n",
       "      <td>4150.00</td>\n",
       "      <td>525.00</td>\n",
       "      <td>450.36</td>\n",
       "    </tr>\n",
       "    <tr>\n",
       "      <th>75%</th>\n",
       "      <td>1.00</td>\n",
       "      <td>40.00</td>\n",
       "      <td>40.00</td>\n",
       "      <td>32.20</td>\n",
       "      <td>4150.00</td>\n",
       "      <td>1000.00</td>\n",
       "      <td>568.22</td>\n",
       "    </tr>\n",
       "    <tr>\n",
       "      <th>max</th>\n",
       "      <td>1.00</td>\n",
       "      <td>100.00</td>\n",
       "      <td>250.00</td>\n",
       "      <td>350.00</td>\n",
       "      <td>5100.00</td>\n",
       "      <td>5200.00</td>\n",
       "      <td>1702.41</td>\n",
       "    </tr>\n",
       "  </tbody>\n",
       "</table>\n",
       "</div>"
      ],
      "text/plain": [
       "       OK_NOK  pcs_pck  delivered_pcs_pack  pack_weight_kg  pcs_lenght_mm  \\\n",
       "count 6448.00  6350.00             4801.00         2405.00        4514.00   \n",
       "mean     0.81    38.54               38.57           27.55        4078.38   \n",
       "std      0.39    22.97               22.79           10.22         227.00   \n",
       "min      0.00     2.00                0.25            0.00        1500.00   \n",
       "25%      1.00    20.00               20.00           22.10        4050.00   \n",
       "50%      1.00    40.00               40.00           27.00        4150.00   \n",
       "75%      1.00    40.00               40.00           32.20        4150.00   \n",
       "max      1.00   100.00              250.00          350.00        5100.00   \n",
       "\n",
       "       quantity_pcs  overal_weight_kg  \n",
       "count       4513.00           4488.00  \n",
       "mean         705.67            438.28  \n",
       "std          591.61            226.47  \n",
       "min            0.00              0.00  \n",
       "25%          260.00            258.39  \n",
       "50%          525.00            450.36  \n",
       "75%         1000.00            568.22  \n",
       "max         5200.00           1702.41  "
      ]
     },
     "execution_count": 2107,
     "metadata": {},
     "output_type": "execute_result"
    }
   ],
   "source": [
    "df.describe()"
   ]
  },
  {
   "cell_type": "markdown",
   "id": "b99c88e5-b4e5-46c7-b57e-ccdcb9dc0ffb",
   "metadata": {},
   "source": [
    "#### 2.4 Null and missing values"
   ]
  },
  {
   "cell_type": "code",
   "execution_count": 2108,
   "id": "86dbce11-0533-488f-bbef-19fa00fed855",
   "metadata": {},
   "outputs": [
    {
     "data": {
      "text/plain": [
       "pack_weight_kg        4043\n",
       "overal_weight_kg      1960\n",
       "quantity_pcs          1935\n",
       "pcs_lenght_mm         1934\n",
       "delivered_pcs_pack    1647\n",
       "pcs_pck                 98\n",
       "date                    45\n",
       "OK_NOK                   0\n",
       "name                     0\n",
       "shape_no                 0\n",
       "drawing_no               0\n",
       "surface_finish           0\n",
       "supplier                 0\n",
       "dtype: int64"
      ]
     },
     "execution_count": 2108,
     "metadata": {},
     "output_type": "execute_result"
    }
   ],
   "source": [
    "df.isnull().sum().sort_values(ascending=False)"
   ]
  },
  {
   "cell_type": "code",
   "execution_count": 2109,
   "id": "4bbf6289-87c7-4783-bfc1-77307e56d83f",
   "metadata": {},
   "outputs": [
    {
     "data": {
      "text/plain": [
       "<Axes: >"
      ]
     },
     "execution_count": 2109,
     "metadata": {},
     "output_type": "execute_result"
    },
    {
     "data": {
      "image/png": "[encoded data removed]",
      "text/plain": [
       "<Figure size 2500x1000 with 2 Axes>"
      ]
     },
     "metadata": {},
     "output_type": "display_data"
    }
   ],
   "source": [
    "missingno.matrix(df)"
   ]
  },
  {
   "cell_type": "code",
   "execution_count": 2110,
   "id": "9ce8847b-09ad-44b1-84b5-a7fe957b4d3f",
   "metadata": {
    "scrolled": true
   },
   "outputs": [
    {
     "data": {
      "text/plain": [
       "<Axes: >"
      ]
     },
     "execution_count": 2110,
     "metadata": {},
     "output_type": "execute_result"
    },
    {
     "data": {
      "image/png": "[encoded data removed]",
      "text/plain": [
       "<Figure size 2500x1000 with 2 Axes>"
      ]
     },
     "metadata": {},
     "output_type": "display_data"
    }
   ],
   "source": [
    "sorted_delivered_pcs_pack = df.sort_values('delivered_pcs_pack')\n",
    "missingno.matrix(sorted_delivered_pcs_pack)"
   ]
  },
  {
   "cell_type": "markdown",
   "id": "22e07ff0-2580-479a-b5ff-f08db1018b12",
   "metadata": {},
   "source": [
    "### 2.5 Data distribution"
   ]
  },
  {
   "cell_type": "markdown",
   "id": "f9bc81f7-422c-44d9-bdbe-ad1d75b89464",
   "metadata": {},
   "source": [
    "**Comment**: Since the data is about the delivery of goods some products will be delivered more frequent than others. Let's check how the products are represented in the dataset by using seaborn count plot."
   ]
  },
  {
   "cell_type": "code",
   "execution_count": 2111,
   "id": "4a1f461b-0719-4277-b835-b2b0d09f717d",
   "metadata": {},
   "outputs": [],
   "source": [
    "# filtering a list of unique deliveries.\n",
    "vc_combo = df[['drawing_no', 'surface_finish','name']].apply(tuple, axis=1).value_counts()\n",
    "less_than_five_deliveries = vc_combo[vc_combo<5]"
   ]
  },
  {
   "cell_type": "code",
   "execution_count": 2112,
   "id": "ea12f679-6c1e-4007-a9f7-4d4c74171212",
   "metadata": {
    "scrolled": true
   },
   "outputs": [
    {
     "data": {
      "image/png": "[encoded data removed]",
      "text/plain": [
       "<Figure size 1400x600 with 1 Axes>"
      ]
     },
     "metadata": {},
     "output_type": "display_data"
    }
   ],
   "source": [
    "plt.figure(figsize=(14, 6))\n",
    "ax = sns.countplot(data=df, x=vc_combo)\n",
    "plt.xlabel('No of deliveries')\n",
    "plt.ylabel('Unique products count')\n",
    "plt.xticks(rotation=45);\n",
    "\n",
    "\n",
    "for p in ax.patches:\n",
    "    ax.annotate(f'{int(p.get_height())}', (p.get_x() + p.get_width() / 2., p.get_height()),\n",
    "                ha='center', va='center', fontsize=6, color='black', xytext=(0, 5),\n",
    "                textcoords='offset points')\n",
    "plt.show()"
   ]
  },
  {
   "cell_type": "markdown",
   "id": "629178e7-b146-4150-b9f1-cd75891042f1",
   "metadata": {},
   "source": [
    "**Comment**:\n",
    "\n",
    "Observation: There appears to be a substantial cluster of unique deliveries with occurrences of less than 10. Various factors could contribute to this phenomenon, including the introduction of new products, low sales volume items, sporadic deliveries from suppliers (e.g., cargo shipping), or discontinued relationships with underperforming suppliers. A critical inference drawn from this observation is that predictive modeling based on such sparse data instances may yield unreliable results.\r\n",
    "\r\n",
    "Recommendation: In the subsequent modeling phase of this project, it is advisable to filter out products with fewer than 5 deliveries. This strategic approach aims to enhance the robustness of the model by focusing on more representative data points. Additionally, this filtering criterion should undergo thorough validation during model evaluation to ensure its effectiveness in improving predictive accuracy and generalizability."
   ]
  },
  {
   "cell_type": "code",
   "execution_count": 2113,
   "id": "928c196e-20e9-43a4-9684-0d7a1de2a9f5",
   "metadata": {},
   "outputs": [
    {
     "data": {
      "text/plain": [
       "150"
      ]
     },
     "execution_count": 2113,
     "metadata": {},
     "output_type": "execute_result"
    }
   ],
   "source": [
    "# Filter no of unique products deliveries below a treshold\n",
    "vc_combo_list = [(combo, count) for combo, count in vc_combo.items() if count < 5]\n",
    "len(vc_combo_list)"
   ]
  },
  {
   "cell_type": "markdown",
   "id": "00db5bcc-7525-40ba-b7fa-e82d880b4acc",
   "metadata": {},
   "source": [
    "**Comment:** There is at least 150 unique products that we wont be able to predict. Now let's check class distribution."
   ]
  },
  {
   "cell_type": "code",
   "execution_count": 2114,
   "id": "285b350b-a00b-437a-b390-dad85b7760e7",
   "metadata": {
    "scrolled": true
   },
   "outputs": [
    {
     "name": "stdout",
     "output_type": "stream",
     "text": [
      "Percentage of class 0: 18.98%\n",
      "Percentage of class 1: 81.02%\n"
     ]
    }
   ],
   "source": [
    "ok_nok_vc = df['OK_NOK'].value_counts()\n",
    "percentage_0 = ok_nok_vc[0] / ok_nok_vc.sum() * 100\n",
    "percentage_1 = ok_nok_vc[1] / ok_nok_vc.sum() * 100\n",
    "\n",
    "print(f\"Percentage of class 0: {percentage_0:.2f}%\")\n",
    "print(f\"Percentage of class 1: {percentage_1:.2f}%\")"
   ]
  },
  {
   "cell_type": "markdown",
   "id": "68f863cc-fc0b-446a-991e-34fca26a5fab",
   "metadata": {},
   "source": [
    "**Comment:** \n",
    "\n",
    "Observation: The dataset reveals a substantial class imbalance, with Class 1 being approximately 5 times more represented than Class 0. This observation aligns with business realities, as an equal distribution of NOK (Not OK) deliveries would impede operational efficiency. However, the presence of 18% NOK deliveries signifies significant room for improvement in the delivery process.\r\n",
    "\r\n",
    "Recommendation: Addressing the high percentage of NOK deliveries presents an opportunity to enhance overall performance and customer satisfaction. Implementing strategies to reduce NOK occurrences, such as refining quality control measures, optimizing supplier relationships, and enhancing delivery logistics, can lead to substantial improvements in business outcomes and stakeholder satisfaction."
   ]
  },
  {
   "cell_type": "markdown",
   "id": "62568127-9678-4450-afa8-fef99ba48902",
   "metadata": {},
   "source": [
    "### 3. Data preprocesing"
   ]
  },
  {
   "cell_type": "markdown",
   "id": "581a89bc-aa8a-4e2c-91ef-98b20af934d8",
   "metadata": {},
   "source": [
    "### 3.1 Data cleaning - date column"
   ]
  },
  {
   "cell_type": "markdown",
   "id": "091085ce-52f3-4bc8-a433-72deab80fe14",
   "metadata": {},
   "source": [
    "**Comment**: Before proceeding with datetime conversion, it's essential to inspect the 'Date' column values to assess the variety of formats present, likely due to manual entry by QC personnel over the years. This initial exploration will provide insights into the range of formats and values encountered, facilitating the development of an appropriate cleaning strategy."
   ]
  },
  {
   "cell_type": "code",
   "execution_count": 2115,
   "id": "0826f94f-06b6-43b5-b3af-e8ac1c3b186a",
   "metadata": {},
   "outputs": [
    {
     "data": {
      "text/plain": [
       "3"
      ]
     },
     "execution_count": 2115,
     "metadata": {},
     "output_type": "execute_result"
    }
   ],
   "source": [
    "df['date'].apply(type).nunique()"
   ]
  },
  {
   "cell_type": "code",
   "execution_count": 2116,
   "id": "fe47af5f-f3c9-4236-a83a-3edc9dfd2cea",
   "metadata": {},
   "outputs": [
    {
     "data": {
      "text/plain": [
       "date\n",
       "<class 'datetime.datetime'>    4621\n",
       "<class 'str'>                  1782\n",
       "<class 'float'>                  45\n",
       "Name: count, dtype: int64"
      ]
     },
     "execution_count": 2116,
     "metadata": {},
     "output_type": "execute_result"
    }
   ],
   "source": [
    "df['date'].apply(type).value_counts()"
   ]
  },
  {
   "cell_type": "code",
   "execution_count": 2117,
   "id": "afd69aa6-74d1-4980-9967-8d5340607501",
   "metadata": {},
   "outputs": [
    {
     "data": {
      "text/html": [
       "<div>\n",
       "<style scoped>\n",
       "    .dataframe tbody tr th:only-of-type {\n",
       "        vertical-align: middle;\n",
       "    }\n",
       "\n",
       "    .dataframe tbody tr th {\n",
       "        vertical-align: top;\n",
       "    }\n",
       "\n",
       "    .dataframe thead th {\n",
       "        text-align: right;\n",
       "    }\n",
       "</style>\n",
       "<table border=\"1\" class=\"dataframe\">\n",
       "  <thead>\n",
       "    <tr style=\"text-align: right;\">\n",
       "      <th></th>\n",
       "      <th>OK_NOK</th>\n",
       "      <th>date</th>\n",
       "      <th>name</th>\n",
       "      <th>shape_no</th>\n",
       "      <th>drawing_no</th>\n",
       "      <th>surface_finish</th>\n",
       "      <th>supplier</th>\n",
       "      <th>pcs_pck</th>\n",
       "      <th>delivered_pcs_pack</th>\n",
       "      <th>pack_weight_kg</th>\n",
       "      <th>pcs_lenght_mm</th>\n",
       "      <th>quantity_pcs</th>\n",
       "      <th>overal_weight_kg</th>\n",
       "    </tr>\n",
       "  </thead>\n",
       "  <tbody>\n",
       "    <tr>\n",
       "      <th>0</th>\n",
       "      <td>0</td>\n",
       "      <td>13,01,2017</td>\n",
       "      <td>Regor</td>\n",
       "      <td>SH0</td>\n",
       "      <td>DR0</td>\n",
       "      <td>C-0</td>\n",
       "      <td>SU0</td>\n",
       "      <td>40.00</td>\n",
       "      <td>NaN</td>\n",
       "      <td>NaN</td>\n",
       "      <td>NaN</td>\n",
       "      <td>NaN</td>\n",
       "      <td>NaN</td>\n",
       "    </tr>\n",
       "    <tr>\n",
       "      <th>1</th>\n",
       "      <td>0</td>\n",
       "      <td>13,01,2017</td>\n",
       "      <td>Procyon</td>\n",
       "      <td>SH1</td>\n",
       "      <td>DR1</td>\n",
       "      <td>C-0</td>\n",
       "      <td>SU0</td>\n",
       "      <td>40.00</td>\n",
       "      <td>NaN</td>\n",
       "      <td>NaN</td>\n",
       "      <td>NaN</td>\n",
       "      <td>NaN</td>\n",
       "      <td>NaN</td>\n",
       "    </tr>\n",
       "  </tbody>\n",
       "</table>\n",
       "</div>"
      ],
      "text/plain": [
       "   OK_NOK        date     name shape_no drawing_no surface_finish supplier  \\\n",
       "0       0  13,01,2017    Regor      SH0        DR0            C-0      SU0   \n",
       "1       0  13,01,2017  Procyon      SH1        DR1            C-0      SU0   \n",
       "\n",
       "   pcs_pck  delivered_pcs_pack  pack_weight_kg  pcs_lenght_mm  quantity_pcs  \\\n",
       "0    40.00                 NaN             NaN            NaN           NaN   \n",
       "1    40.00                 NaN             NaN            NaN           NaN   \n",
       "\n",
       "   overal_weight_kg  \n",
       "0               NaN  \n",
       "1               NaN  "
      ]
     },
     "execution_count": 2117,
     "metadata": {},
     "output_type": "execute_result"
    }
   ],
   "source": [
    "df.head(2)"
   ]
  },
  {
   "cell_type": "code",
   "execution_count": 2118,
   "id": "f339c038-d235-44d9-bc3f-1de2aad18736",
   "metadata": {
    "scrolled": true
   },
   "outputs": [
    {
     "name": "stdout",
     "output_type": "stream",
     "text": [
      "<class 'pandas.core.frame.DataFrame'>\n",
      "RangeIndex: 6448 entries, 0 to 6447\n",
      "Data columns (total 13 columns):\n",
      " #   Column              Non-Null Count  Dtype  \n",
      "---  ------              --------------  -----  \n",
      " 0   OK_NOK              6448 non-null   int64  \n",
      " 1   date                6403 non-null   object \n",
      " 2   name                6448 non-null   object \n",
      " 3   shape_no            6448 non-null   object \n",
      " 4   drawing_no          6448 non-null   object \n",
      " 5   surface_finish      6448 non-null   object \n",
      " 6   supplier            6448 non-null   object \n",
      " 7   pcs_pck             6350 non-null   float64\n",
      " 8   delivered_pcs_pack  4801 non-null   float64\n",
      " 9   pack_weight_kg      2405 non-null   float64\n",
      " 10  pcs_lenght_mm       4514 non-null   float64\n",
      " 11  quantity_pcs        4513 non-null   float64\n",
      " 12  overal_weight_kg    4488 non-null   float64\n",
      "dtypes: float64(6), int64(1), object(6)\n",
      "memory usage: 2.6 MB\n"
     ]
    }
   ],
   "source": [
    "df.info(memory_usage='deep')"
   ]
  },
  {
   "cell_type": "markdown",
   "id": "db1c6747-4abe-4f5f-87e6-9d65b20afdf6",
   "metadata": {},
   "source": [
    "**Comment**: Let's check last entry, and NaN values:"
   ]
  },
  {
   "cell_type": "code",
   "execution_count": 2119,
   "id": "a3461809-9e2e-41cb-a4f9-1b91e4bdc7eb",
   "metadata": {},
   "outputs": [
    {
     "data": {
      "text/plain": [
       "datetime.datetime(2022, 9, 13, 0, 0)"
      ]
     },
     "execution_count": 2119,
     "metadata": {},
     "output_type": "execute_result"
    }
   ],
   "source": [
    "df.date.iloc[-1]"
   ]
  },
  {
   "cell_type": "code",
   "execution_count": 2120,
   "id": "637ca7bc-3aa6-4e21-8f6e-51b428635eaf",
   "metadata": {},
   "outputs": [
    {
     "data": {
      "text/plain": [
       "45"
      ]
     },
     "execution_count": 2120,
     "metadata": {},
     "output_type": "execute_result"
    }
   ],
   "source": [
    "df.date.isnull().sum()"
   ]
  },
  {
   "cell_type": "markdown",
   "id": "97752001-2199-4140-9298-ec8aa6acc205",
   "metadata": {},
   "source": [
    "**Comment**: Now I will create new column to check if there are any strings present in date column:"
   ]
  },
  {
   "cell_type": "code",
   "execution_count": 2121,
   "id": "782d2d1a-4094-4384-a796-26e2c26008f3",
   "metadata": {},
   "outputs": [],
   "source": [
    "df['is_str'] = df.date.apply(lambda x: True if isinstance(x, str) else False)"
   ]
  },
  {
   "cell_type": "code",
   "execution_count": 2122,
   "id": "582c534b-31c5-44d5-81d5-dce38ec55acb",
   "metadata": {
    "scrolled": true
   },
   "outputs": [
    {
     "data": {
      "text/plain": [
       "is_str\n",
       "False    4666\n",
       "True     1782\n",
       "Name: count, dtype: int64"
      ]
     },
     "execution_count": 2122,
     "metadata": {},
     "output_type": "execute_result"
    }
   ],
   "source": [
    "df['is_str'].value_counts()"
   ]
  },
  {
   "cell_type": "markdown",
   "id": "f04653a3-b2d1-44cb-8339-5712f05a8188",
   "metadata": {},
   "source": [
    "**Comment**: As Expected nearly 1,8k rows are strings, lets move the column closer to date column to have a better view, and let's see if those strings contain any letters."
   ]
  },
  {
   "cell_type": "code",
   "execution_count": 2123,
   "id": "8de45144-404d-4410-87cc-f88fd9381771",
   "metadata": {},
   "outputs": [],
   "source": [
    "df.insert(2, 'is_str', df.pop('is_str'))\n"
   ]
  },
  {
   "cell_type": "code",
   "execution_count": 2124,
   "id": "6b668be5-d61b-4c66-8e6a-8544db110bdd",
   "metadata": {},
   "outputs": [],
   "source": [
    "letter_pattern = re.compile(r\"[a-zA-Z]\")"
   ]
  },
  {
   "cell_type": "code",
   "execution_count": 2125,
   "id": "8a1f7f78-5a08-4b7a-b300-5819780489e5",
   "metadata": {},
   "outputs": [],
   "source": [
    "filter_letter_pattern = df.loc[df['is_str']==True, 'date'].apply(lambda x: True if letter_pattern.search(x) else False)"
   ]
  },
  {
   "cell_type": "code",
   "execution_count": 2126,
   "id": "f1a73265-8e7a-4327-ae4f-01ab1ca9c970",
   "metadata": {},
   "outputs": [
    {
     "data": {
      "text/plain": [
       "54"
      ]
     },
     "execution_count": 2126,
     "metadata": {},
     "output_type": "execute_result"
    }
   ],
   "source": [
    "len(filter_letter_pattern[filter_letter_pattern].index)"
   ]
  },
  {
   "cell_type": "markdown",
   "id": "b7aad2ba-6fbb-4e82-9ecf-7f8792777a16",
   "metadata": {},
   "source": [
    "**Comment**: Out of all elements from date column that are strings 54 contain letters, which isnt that bad considering 1,8k strings.\n",
    "My approach is to focus on strings that are not letters and try to convert those in to proper datetime format.\n",
    "I will create new column date_fmt and I will use it to perform all operations there without risking loosing any valid data."
   ]
  },
  {
   "cell_type": "code",
   "execution_count": 2127,
   "id": "e507ad04-ca8c-4720-8e36-30a5224c2eaa",
   "metadata": {},
   "outputs": [],
   "source": [
    "df.loc[df['is_str']==True,'date_fmt'] = df.loc[df['is_str']==True,'date']"
   ]
  },
  {
   "cell_type": "code",
   "execution_count": 2128,
   "id": "48f9a009-9a90-4e0e-b984-fe7a2ee2f439",
   "metadata": {},
   "outputs": [],
   "source": [
    "df.insert(2, 'date_fmt', df.pop('date_fmt'))"
   ]
  },
  {
   "cell_type": "code",
   "execution_count": 2129,
   "id": "360b2e4b-0a72-4a7a-a6e0-71487f98fb6f",
   "metadata": {},
   "outputs": [],
   "source": [
    "df['date_fmt'] = df.loc[df['is_str']==True,'date_fmt'].str.replace(',', '.').str.replace('/', '.')"
   ]
  },
  {
   "cell_type": "code",
   "execution_count": 2130,
   "id": "ec10e153-d578-4862-9103-fe67ff0e2ff4",
   "metadata": {
    "scrolled": true
   },
   "outputs": [
    {
     "data": {
      "text/html": [
       "<div>\n",
       "<style scoped>\n",
       "    .dataframe tbody tr th:only-of-type {\n",
       "        vertical-align: middle;\n",
       "    }\n",
       "\n",
       "    .dataframe tbody tr th {\n",
       "        vertical-align: top;\n",
       "    }\n",
       "\n",
       "    .dataframe thead th {\n",
       "        text-align: right;\n",
       "    }\n",
       "</style>\n",
       "<table border=\"1\" class=\"dataframe\">\n",
       "  <thead>\n",
       "    <tr style=\"text-align: right;\">\n",
       "      <th></th>\n",
       "      <th>OK_NOK</th>\n",
       "      <th>date</th>\n",
       "      <th>date_fmt</th>\n",
       "      <th>is_str</th>\n",
       "      <th>name</th>\n",
       "      <th>shape_no</th>\n",
       "      <th>drawing_no</th>\n",
       "      <th>surface_finish</th>\n",
       "      <th>supplier</th>\n",
       "      <th>pcs_pck</th>\n",
       "      <th>delivered_pcs_pack</th>\n",
       "      <th>pack_weight_kg</th>\n",
       "      <th>pcs_lenght_mm</th>\n",
       "      <th>quantity_pcs</th>\n",
       "      <th>overal_weight_kg</th>\n",
       "    </tr>\n",
       "  </thead>\n",
       "  <tbody>\n",
       "    <tr>\n",
       "      <th>0</th>\n",
       "      <td>0</td>\n",
       "      <td>13,01,2017</td>\n",
       "      <td>13.01.2017</td>\n",
       "      <td>True</td>\n",
       "      <td>Regor</td>\n",
       "      <td>SH0</td>\n",
       "      <td>DR0</td>\n",
       "      <td>C-0</td>\n",
       "      <td>SU0</td>\n",
       "      <td>40.00</td>\n",
       "      <td>NaN</td>\n",
       "      <td>NaN</td>\n",
       "      <td>NaN</td>\n",
       "      <td>NaN</td>\n",
       "      <td>NaN</td>\n",
       "    </tr>\n",
       "    <tr>\n",
       "      <th>1</th>\n",
       "      <td>0</td>\n",
       "      <td>13,01,2017</td>\n",
       "      <td>13.01.2017</td>\n",
       "      <td>True</td>\n",
       "      <td>Procyon</td>\n",
       "      <td>SH1</td>\n",
       "      <td>DR1</td>\n",
       "      <td>C-0</td>\n",
       "      <td>SU0</td>\n",
       "      <td>40.00</td>\n",
       "      <td>NaN</td>\n",
       "      <td>NaN</td>\n",
       "      <td>NaN</td>\n",
       "      <td>NaN</td>\n",
       "      <td>NaN</td>\n",
       "    </tr>\n",
       "    <tr>\n",
       "      <th>2</th>\n",
       "      <td>0</td>\n",
       "      <td>13,01,2017</td>\n",
       "      <td>13.01.2017</td>\n",
       "      <td>True</td>\n",
       "      <td>Regor</td>\n",
       "      <td>SH0</td>\n",
       "      <td>DR0</td>\n",
       "      <td>C-0</td>\n",
       "      <td>SU0</td>\n",
       "      <td>40.00</td>\n",
       "      <td>NaN</td>\n",
       "      <td>NaN</td>\n",
       "      <td>NaN</td>\n",
       "      <td>NaN</td>\n",
       "      <td>NaN</td>\n",
       "    </tr>\n",
       "    <tr>\n",
       "      <th>3</th>\n",
       "      <td>0</td>\n",
       "      <td>13,01,2017</td>\n",
       "      <td>13.01.2017</td>\n",
       "      <td>True</td>\n",
       "      <td>Regor</td>\n",
       "      <td>SH0</td>\n",
       "      <td>DR0</td>\n",
       "      <td>C-0</td>\n",
       "      <td>SU0</td>\n",
       "      <td>40.00</td>\n",
       "      <td>NaN</td>\n",
       "      <td>NaN</td>\n",
       "      <td>NaN</td>\n",
       "      <td>NaN</td>\n",
       "      <td>NaN</td>\n",
       "    </tr>\n",
       "    <tr>\n",
       "      <th>4</th>\n",
       "      <td>0</td>\n",
       "      <td>19,01,2017</td>\n",
       "      <td>19.01.2017</td>\n",
       "      <td>True</td>\n",
       "      <td>Grus</td>\n",
       "      <td>SH2</td>\n",
       "      <td>DR2</td>\n",
       "      <td>C-0</td>\n",
       "      <td>SU1</td>\n",
       "      <td>40.00</td>\n",
       "      <td>NaN</td>\n",
       "      <td>NaN</td>\n",
       "      <td>NaN</td>\n",
       "      <td>NaN</td>\n",
       "      <td>NaN</td>\n",
       "    </tr>\n",
       "    <tr>\n",
       "      <th>...</th>\n",
       "      <td>...</td>\n",
       "      <td>...</td>\n",
       "      <td>...</td>\n",
       "      <td>...</td>\n",
       "      <td>...</td>\n",
       "      <td>...</td>\n",
       "      <td>...</td>\n",
       "      <td>...</td>\n",
       "      <td>...</td>\n",
       "      <td>...</td>\n",
       "      <td>...</td>\n",
       "      <td>...</td>\n",
       "      <td>...</td>\n",
       "      <td>...</td>\n",
       "      <td>...</td>\n",
       "    </tr>\n",
       "    <tr>\n",
       "      <th>6443</th>\n",
       "      <td>1</td>\n",
       "      <td>2022-09-13 00:00:00</td>\n",
       "      <td>NaN</td>\n",
       "      <td>False</td>\n",
       "      <td>Voyager</td>\n",
       "      <td>SH82</td>\n",
       "      <td>DR111</td>\n",
       "      <td>C-0</td>\n",
       "      <td>SU1</td>\n",
       "      <td>100.00</td>\n",
       "      <td>100.00</td>\n",
       "      <td>38.20</td>\n",
       "      <td>4150.00</td>\n",
       "      <td>900.00</td>\n",
       "      <td>343.62</td>\n",
       "    </tr>\n",
       "    <tr>\n",
       "      <th>6444</th>\n",
       "      <td>1</td>\n",
       "      <td>2022-09-13 00:00:00</td>\n",
       "      <td>NaN</td>\n",
       "      <td>False</td>\n",
       "      <td>Voyager</td>\n",
       "      <td>SH82</td>\n",
       "      <td>DR111</td>\n",
       "      <td>C-0</td>\n",
       "      <td>SU1</td>\n",
       "      <td>100.00</td>\n",
       "      <td>100.00</td>\n",
       "      <td>38.20</td>\n",
       "      <td>4150.00</td>\n",
       "      <td>920.00</td>\n",
       "      <td>351.26</td>\n",
       "    </tr>\n",
       "    <tr>\n",
       "      <th>6445</th>\n",
       "      <td>1</td>\n",
       "      <td>2022-09-13 00:00:00</td>\n",
       "      <td>NaN</td>\n",
       "      <td>False</td>\n",
       "      <td>Aludra</td>\n",
       "      <td>SH10</td>\n",
       "      <td>DR11</td>\n",
       "      <td>SUR</td>\n",
       "      <td>SU1</td>\n",
       "      <td>60.00</td>\n",
       "      <td>40.00</td>\n",
       "      <td>12.20</td>\n",
       "      <td>4050.00</td>\n",
       "      <td>1590.00</td>\n",
       "      <td>482.96</td>\n",
       "    </tr>\n",
       "    <tr>\n",
       "      <th>6446</th>\n",
       "      <td>1</td>\n",
       "      <td>2022-09-13 00:00:00</td>\n",
       "      <td>NaN</td>\n",
       "      <td>False</td>\n",
       "      <td>Wasat</td>\n",
       "      <td>SH15</td>\n",
       "      <td>DR16</td>\n",
       "      <td>SUR</td>\n",
       "      <td>SU1</td>\n",
       "      <td>100.00</td>\n",
       "      <td>40.00</td>\n",
       "      <td>10.50</td>\n",
       "      <td>4050.00</td>\n",
       "      <td>2032.00</td>\n",
       "      <td>534.92</td>\n",
       "    </tr>\n",
       "    <tr>\n",
       "      <th>6447</th>\n",
       "      <td>1</td>\n",
       "      <td>2022-09-13 00:00:00</td>\n",
       "      <td>NaN</td>\n",
       "      <td>False</td>\n",
       "      <td>Capricorn1</td>\n",
       "      <td>SH51</td>\n",
       "      <td>DR57</td>\n",
       "      <td>C-35</td>\n",
       "      <td>SU1</td>\n",
       "      <td>20.00</td>\n",
       "      <td>20.00</td>\n",
       "      <td>18.10</td>\n",
       "      <td>4150.00</td>\n",
       "      <td>560.00</td>\n",
       "      <td>506.63</td>\n",
       "    </tr>\n",
       "  </tbody>\n",
       "</table>\n",
       "<p>6448 rows × 15 columns</p>\n",
       "</div>"
      ],
      "text/plain": [
       "      OK_NOK                 date    date_fmt  is_str        name shape_no  \\\n",
       "0          0           13,01,2017  13.01.2017    True       Regor      SH0   \n",
       "1          0           13,01,2017  13.01.2017    True     Procyon      SH1   \n",
       "2          0           13,01,2017  13.01.2017    True       Regor      SH0   \n",
       "3          0           13,01,2017  13.01.2017    True       Regor      SH0   \n",
       "4          0           19,01,2017  19.01.2017    True        Grus      SH2   \n",
       "...      ...                  ...         ...     ...         ...      ...   \n",
       "6443       1  2022-09-13 00:00:00         NaN   False     Voyager     SH82   \n",
       "6444       1  2022-09-13 00:00:00         NaN   False     Voyager     SH82   \n",
       "6445       1  2022-09-13 00:00:00         NaN   False      Aludra     SH10   \n",
       "6446       1  2022-09-13 00:00:00         NaN   False       Wasat     SH15   \n",
       "6447       1  2022-09-13 00:00:00         NaN   False  Capricorn1     SH51   \n",
       "\n",
       "     drawing_no surface_finish supplier  pcs_pck  delivered_pcs_pack  \\\n",
       "0           DR0            C-0      SU0    40.00                 NaN   \n",
       "1           DR1            C-0      SU0    40.00                 NaN   \n",
       "2           DR0            C-0      SU0    40.00                 NaN   \n",
       "3           DR0            C-0      SU0    40.00                 NaN   \n",
       "4           DR2            C-0      SU1    40.00                 NaN   \n",
       "...         ...            ...      ...      ...                 ...   \n",
       "6443      DR111            C-0      SU1   100.00              100.00   \n",
       "6444      DR111            C-0      SU1   100.00              100.00   \n",
       "6445       DR11            SUR      SU1    60.00               40.00   \n",
       "6446       DR16            SUR      SU1   100.00               40.00   \n",
       "6447       DR57           C-35      SU1    20.00               20.00   \n",
       "\n",
       "      pack_weight_kg  pcs_lenght_mm  quantity_pcs  overal_weight_kg  \n",
       "0                NaN            NaN           NaN               NaN  \n",
       "1                NaN            NaN           NaN               NaN  \n",
       "2                NaN            NaN           NaN               NaN  \n",
       "3                NaN            NaN           NaN               NaN  \n",
       "4                NaN            NaN           NaN               NaN  \n",
       "...              ...            ...           ...               ...  \n",
       "6443           38.20        4150.00        900.00            343.62  \n",
       "6444           38.20        4150.00        920.00            351.26  \n",
       "6445           12.20        4050.00       1590.00            482.96  \n",
       "6446           10.50        4050.00       2032.00            534.92  \n",
       "6447           18.10        4150.00        560.00            506.63  \n",
       "\n",
       "[6448 rows x 15 columns]"
      ]
     },
     "execution_count": 2130,
     "metadata": {},
     "output_type": "execute_result"
    }
   ],
   "source": [
    "df"
   ]
  },
  {
   "cell_type": "code",
   "execution_count": 2131,
   "id": "a0a285f5-1ebc-407e-9e91-42dacae9cdcd",
   "metadata": {
    "scrolled": true
   },
   "outputs": [],
   "source": [
    "df['date_fmt'] = pd.to_datetime(df['date_fmt'], format='%d.%m.%Y', errors='coerce')"
   ]
  },
  {
   "cell_type": "code",
   "execution_count": 2132,
   "id": "99ae55e1-2c2b-4e3f-b6f3-805822ff22e2",
   "metadata": {
    "scrolled": true
   },
   "outputs": [],
   "source": [
    "df['date_fmt'] = df['date_fmt'].dt.strftime('%Y-%m-%d %H:%M:%S')"
   ]
  },
  {
   "cell_type": "markdown",
   "id": "638c568a-7a02-456e-ae17-0dec13bbb328",
   "metadata": {},
   "source": [
    "**Comment**: Now I will copy over from date column the data that are not strings and convert them to datetime."
   ]
  },
  {
   "cell_type": "code",
   "execution_count": 2133,
   "id": "53e63f6c-8713-47a6-a9e2-0408eb896bc2",
   "metadata": {},
   "outputs": [],
   "source": [
    "df.loc[df['is_str']==False, 'date_fmt'] = pd.to_datetime(df.loc[df['is_str']==False, 'date'], format='%Y-%m-%d %H:%M:%S')"
   ]
  },
  {
   "cell_type": "code",
   "execution_count": 2134,
   "id": "52caeb79-d849-4f1e-8eb5-66e9c549a8d2",
   "metadata": {},
   "outputs": [],
   "source": [
    "df['date_fmt'] = pd.to_datetime(df['date_fmt'], format='%Y-%m-%d %H:%M:%S', errors='coerce')"
   ]
  },
  {
   "cell_type": "markdown",
   "id": "6b281590-8dc7-4964-acb6-143a7de50b6a",
   "metadata": {},
   "source": [
    "**Comment**: After successfully converting the majority of the data to datetime format, the next step involves addressing the remaining NaT (Not a Time) values."
   ]
  },
  {
   "cell_type": "code",
   "execution_count": 2135,
   "id": "ae398d20-0d74-4cf8-a875-257632b6cae0",
   "metadata": {
    "scrolled": true
   },
   "outputs": [
    {
     "name": "stdout",
     "output_type": "stream",
     "text": [
      "<class 'pandas.core.frame.DataFrame'>\n",
      "RangeIndex: 6448 entries, 0 to 6447\n",
      "Data columns (total 15 columns):\n",
      " #   Column              Non-Null Count  Dtype         \n",
      "---  ------              --------------  -----         \n",
      " 0   OK_NOK              6448 non-null   int64         \n",
      " 1   date                6403 non-null   object        \n",
      " 2   date_fmt            6345 non-null   datetime64[ns]\n",
      " 3   is_str              6448 non-null   bool          \n",
      " 4   name                6448 non-null   object        \n",
      " 5   shape_no            6448 non-null   object        \n",
      " 6   drawing_no          6448 non-null   object        \n",
      " 7   surface_finish      6448 non-null   object        \n",
      " 8   supplier            6448 non-null   object        \n",
      " 9   pcs_pck             6350 non-null   float64       \n",
      " 10  delivered_pcs_pack  4801 non-null   float64       \n",
      " 11  pack_weight_kg      2405 non-null   float64       \n",
      " 12  pcs_lenght_mm       4514 non-null   float64       \n",
      " 13  quantity_pcs        4513 non-null   float64       \n",
      " 14  overal_weight_kg    4488 non-null   float64       \n",
      "dtypes: bool(1), datetime64[ns](1), float64(6), int64(1), object(6)\n",
      "memory usage: 711.7+ KB\n"
     ]
    }
   ],
   "source": [
    "df.info()"
   ]
  },
  {
   "cell_type": "markdown",
   "id": "d2a7dc97-a0af-43cb-9e16-c93bc5f51640",
   "metadata": {},
   "source": [
    "**Comment**: I've opted to manually inspect all remaining NaT (Not a Time) values to retrieve any salvageable data."
   ]
  },
  {
   "cell_type": "code",
   "execution_count": 2136,
   "id": "b2da6a60-9ed1-45f6-862d-8978e80bbe44",
   "metadata": {},
   "outputs": [],
   "source": [
    "original_max_rows = pd.options.display.max_rows\n",
    "\n",
    "# Temporarily set display options to show all rows\n",
    "pd.options.display.max_rows = None\n",
    "\n",
    "# Run the query\n",
    "result = df.query('date_fmt.isnull()')\n",
    "# result"
   ]
  },
  {
   "cell_type": "code",
   "execution_count": 2137,
   "id": "d56b256d-6a52-4e0d-95d6-8eb00466d73a",
   "metadata": {},
   "outputs": [],
   "source": [
    "df.loc[72, 'date_fmt'] = '2016.10.12'\n",
    "df.loc[74, 'date_fmt'] = '2016.10.10'\n",
    "df.loc[233, 'date_fmt'] = '2016.10.12'\n",
    "df.loc[426, 'date_fmt'] = '2016.03.28'\n",
    "df.loc[894, 'date_fmt'] = '2018.02.21'\n",
    "df.loc[1532, 'date_fmt'] = '2018.09.12'\n",
    "df.loc[1777, 'date_fmt'] = '2018.11.21'\n",
    "df.loc[1908, 'date_fmt'] = '2018.12.12'"
   ]
  },
  {
   "cell_type": "code",
   "execution_count": 2138,
   "id": "6303e256-6951-4e37-a0a6-ba1406fffe2d",
   "metadata": {},
   "outputs": [],
   "source": [
    "df['date_fmt'] = pd.to_datetime(df['date_fmt'], format='%Y-%m-%d %H:%M:%S', errors='coerce')"
   ]
  },
  {
   "cell_type": "code",
   "execution_count": 2139,
   "id": "ab0af496-4ce8-4af2-94bb-737f75b9086a",
   "metadata": {},
   "outputs": [],
   "source": [
    "pd.options.display.max_rows = original_max_rows"
   ]
  },
  {
   "cell_type": "markdown",
   "id": "370ac32b-ef2b-45f5-9e7c-1807f31d89cc",
   "metadata": {},
   "source": [
    "**Comment**: Now, it's time to address the remaining missing data. Given that this table is filled in chronological order and that most of the missing data have low indexes, we can infer that these inspections were likely conducted around 2016."
   ]
  },
  {
   "cell_type": "code",
   "execution_count": 2140,
   "id": "98004fbb-e759-4294-a8c7-fc0175f11837",
   "metadata": {},
   "outputs": [],
   "source": [
    "def random_date(year):\n",
    "    starting_date = datetime(year, 1, 1)\n",
    "    stopping_date = datetime(year, 12, 31)\n",
    "    random_days = randint(0, (stopping_date - starting_date).days)\n",
    "    return starting_date + timedelta(days=random_days)"
   ]
  },
  {
   "cell_type": "code",
   "execution_count": 2141,
   "id": "058e30a9-f829-4e71-b6ec-99e06dd1f44d",
   "metadata": {},
   "outputs": [],
   "source": [
    "df.loc[df['date_fmt'].isnull(), 'date_fmt'] = random_date(2016)"
   ]
  },
  {
   "cell_type": "code",
   "execution_count": 2142,
   "id": "0cc857bf-cb04-4fd0-86e5-8e07c5dbd528",
   "metadata": {},
   "outputs": [
    {
     "data": {
      "text/plain": [
       "0"
      ]
     },
     "execution_count": 2142,
     "metadata": {},
     "output_type": "execute_result"
    }
   ],
   "source": [
    "df['date_fmt'].isnull().sum()"
   ]
  },
  {
   "cell_type": "code",
   "execution_count": 2143,
   "id": "98b5871d-8a41-487d-a36c-1021f650d7c7",
   "metadata": {},
   "outputs": [],
   "source": [
    "df.drop(['date', 'is_str'],  axis=1, inplace=True)"
   ]
  },
  {
   "cell_type": "code",
   "execution_count": 2144,
   "id": "ec5cc67b-0753-48dd-8004-ad5ea8dc1e33",
   "metadata": {
    "scrolled": true
   },
   "outputs": [
    {
     "data": {
      "text/plain": [
       "Index([1479, 1478, 1477, 1347, 1476, 1346, 1345, 1474, 1344], dtype='int64')"
      ]
     },
     "execution_count": 2144,
     "metadata": {},
     "output_type": "execute_result"
    }
   ],
   "source": [
    "sorted_date_fmt = df.date_fmt.sort_values(ascending=False)\n",
    "sorted_date_fmt[sorted_date_fmt>'01.01.2023']\n",
    "sorted_date_fmt_idx = sorted_date_fmt[sorted_date_fmt>'01.01.2023'].index\n",
    "sorted_date_fmt_idx\n"
   ]
  },
  {
   "cell_type": "code",
   "execution_count": 2145,
   "id": "7d5fc782-bd2c-4171-9e30-087e2a4e856d",
   "metadata": {
    "scrolled": true
   },
   "outputs": [],
   "source": [
    "idx_to_change = df.loc[1340:1347].index"
   ]
  },
  {
   "cell_type": "code",
   "execution_count": 2146,
   "id": "60dc8334-8d71-42d9-8067-a0ab58738712",
   "metadata": {},
   "outputs": [],
   "source": [
    "idx_to_change2 = df.loc[1470:1479].index"
   ]
  },
  {
   "cell_type": "code",
   "execution_count": 2147,
   "id": "b98001fa-9303-413e-a85c-c9e7a6510662",
   "metadata": {},
   "outputs": [],
   "source": [
    "idx_to_change_combined = idx_to_change.append(idx_to_change2)"
   ]
  },
  {
   "cell_type": "code",
   "execution_count": 2148,
   "id": "f285e03c-c399-476a-a215-b38d0ddf6c72",
   "metadata": {},
   "outputs": [
    {
     "data": {
      "text/plain": [
       "Index([1340, 1341, 1342, 1343, 1344, 1345, 1346, 1347, 1470, 1471, 1472, 1473,\n",
       "       1474, 1475, 1476, 1477, 1478, 1479],\n",
       "      dtype='int64')"
      ]
     },
     "execution_count": 2148,
     "metadata": {},
     "output_type": "execute_result"
    }
   ],
   "source": [
    "idx_to_change_combined"
   ]
  },
  {
   "cell_type": "code",
   "execution_count": 2149,
   "id": "7e63c201-e738-40a3-92e7-48948bf81497",
   "metadata": {},
   "outputs": [],
   "source": [
    "for idx in idx_to_change_combined:\n",
    "    df.loc[idx, 'date_fmt'] = df.loc[idx, 'date_fmt'].replace(year=int(2018))"
   ]
  },
  {
   "cell_type": "markdown",
   "id": "dc862a01-380c-4c91-82f0-a691cbfa6db0",
   "metadata": {},
   "source": []
  },
  {
   "cell_type": "raw",
   "id": "75b44855-8a80-4eb1-8c64-481ff98ba8bb",
   "metadata": {},
   "source": [
    "### 3.2 Data cleaning - rest of the columns\n",
    "**Comment**: Fortunately, all string columns have been pre-processed during the encoding process, ensuring data uniformity. This encoding was implemented to render the products unrecognizable, thus complying with legal requirements."
   ]
  },
  {
   "cell_type": "code",
   "execution_count": 2150,
   "id": "0f3203f8-00dc-4dcc-bd9d-6e345bb05846",
   "metadata": {},
   "outputs": [
    {
     "data": {
      "text/html": [
       "<div>\n",
       "<style scoped>\n",
       "    .dataframe tbody tr th:only-of-type {\n",
       "        vertical-align: middle;\n",
       "    }\n",
       "\n",
       "    .dataframe tbody tr th {\n",
       "        vertical-align: top;\n",
       "    }\n",
       "\n",
       "    .dataframe thead th {\n",
       "        text-align: right;\n",
       "    }\n",
       "</style>\n",
       "<table border=\"1\" class=\"dataframe\">\n",
       "  <thead>\n",
       "    <tr style=\"text-align: right;\">\n",
       "      <th></th>\n",
       "      <th>OK_NOK</th>\n",
       "      <th>date_fmt</th>\n",
       "      <th>name</th>\n",
       "      <th>shape_no</th>\n",
       "      <th>drawing_no</th>\n",
       "      <th>surface_finish</th>\n",
       "      <th>supplier</th>\n",
       "      <th>pcs_pck</th>\n",
       "      <th>delivered_pcs_pack</th>\n",
       "      <th>pack_weight_kg</th>\n",
       "      <th>pcs_lenght_mm</th>\n",
       "      <th>quantity_pcs</th>\n",
       "      <th>overal_weight_kg</th>\n",
       "    </tr>\n",
       "  </thead>\n",
       "  <tbody>\n",
       "    <tr>\n",
       "      <th>0</th>\n",
       "      <td>0</td>\n",
       "      <td>2017-01-13</td>\n",
       "      <td>Regor</td>\n",
       "      <td>SH0</td>\n",
       "      <td>DR0</td>\n",
       "      <td>C-0</td>\n",
       "      <td>SU0</td>\n",
       "      <td>40.00</td>\n",
       "      <td>NaN</td>\n",
       "      <td>NaN</td>\n",
       "      <td>NaN</td>\n",
       "      <td>NaN</td>\n",
       "      <td>NaN</td>\n",
       "    </tr>\n",
       "    <tr>\n",
       "      <th>1</th>\n",
       "      <td>0</td>\n",
       "      <td>2017-01-13</td>\n",
       "      <td>Procyon</td>\n",
       "      <td>SH1</td>\n",
       "      <td>DR1</td>\n",
       "      <td>C-0</td>\n",
       "      <td>SU0</td>\n",
       "      <td>40.00</td>\n",
       "      <td>NaN</td>\n",
       "      <td>NaN</td>\n",
       "      <td>NaN</td>\n",
       "      <td>NaN</td>\n",
       "      <td>NaN</td>\n",
       "    </tr>\n",
       "    <tr>\n",
       "      <th>2</th>\n",
       "      <td>0</td>\n",
       "      <td>2017-01-13</td>\n",
       "      <td>Regor</td>\n",
       "      <td>SH0</td>\n",
       "      <td>DR0</td>\n",
       "      <td>C-0</td>\n",
       "      <td>SU0</td>\n",
       "      <td>40.00</td>\n",
       "      <td>NaN</td>\n",
       "      <td>NaN</td>\n",
       "      <td>NaN</td>\n",
       "      <td>NaN</td>\n",
       "      <td>NaN</td>\n",
       "    </tr>\n",
       "    <tr>\n",
       "      <th>3</th>\n",
       "      <td>0</td>\n",
       "      <td>2017-01-13</td>\n",
       "      <td>Regor</td>\n",
       "      <td>SH0</td>\n",
       "      <td>DR0</td>\n",
       "      <td>C-0</td>\n",
       "      <td>SU0</td>\n",
       "      <td>40.00</td>\n",
       "      <td>NaN</td>\n",
       "      <td>NaN</td>\n",
       "      <td>NaN</td>\n",
       "      <td>NaN</td>\n",
       "      <td>NaN</td>\n",
       "    </tr>\n",
       "    <tr>\n",
       "      <th>4</th>\n",
       "      <td>0</td>\n",
       "      <td>2017-01-19</td>\n",
       "      <td>Grus</td>\n",
       "      <td>SH2</td>\n",
       "      <td>DR2</td>\n",
       "      <td>C-0</td>\n",
       "      <td>SU1</td>\n",
       "      <td>40.00</td>\n",
       "      <td>NaN</td>\n",
       "      <td>NaN</td>\n",
       "      <td>NaN</td>\n",
       "      <td>NaN</td>\n",
       "      <td>NaN</td>\n",
       "    </tr>\n",
       "  </tbody>\n",
       "</table>\n",
       "</div>"
      ],
      "text/plain": [
       "   OK_NOK   date_fmt     name shape_no drawing_no surface_finish supplier  \\\n",
       "0       0 2017-01-13    Regor      SH0        DR0            C-0      SU0   \n",
       "1       0 2017-01-13  Procyon      SH1        DR1            C-0      SU0   \n",
       "2       0 2017-01-13    Regor      SH0        DR0            C-0      SU0   \n",
       "3       0 2017-01-13    Regor      SH0        DR0            C-0      SU0   \n",
       "4       0 2017-01-19     Grus      SH2        DR2            C-0      SU1   \n",
       "\n",
       "   pcs_pck  delivered_pcs_pack  pack_weight_kg  pcs_lenght_mm  quantity_pcs  \\\n",
       "0    40.00                 NaN             NaN            NaN           NaN   \n",
       "1    40.00                 NaN             NaN            NaN           NaN   \n",
       "2    40.00                 NaN             NaN            NaN           NaN   \n",
       "3    40.00                 NaN             NaN            NaN           NaN   \n",
       "4    40.00                 NaN             NaN            NaN           NaN   \n",
       "\n",
       "   overal_weight_kg  \n",
       "0               NaN  \n",
       "1               NaN  \n",
       "2               NaN  \n",
       "3               NaN  \n",
       "4               NaN  "
      ]
     },
     "execution_count": 2150,
     "metadata": {},
     "output_type": "execute_result"
    }
   ],
   "source": [
    "df.head()"
   ]
  },
  {
   "cell_type": "code",
   "execution_count": 2151,
   "id": "e75875bc-a431-47fc-9d1e-a86e75d0a3ac",
   "metadata": {},
   "outputs": [
    {
     "data": {
      "text/plain": [
       "1"
      ]
     },
     "execution_count": 2151,
     "metadata": {},
     "output_type": "execute_result"
    }
   ],
   "source": [
    "df['name'].apply(type).nunique()"
   ]
  },
  {
   "cell_type": "code",
   "execution_count": 2152,
   "id": "ddb2227f-78b5-45cb-8a99-a7e827774386",
   "metadata": {},
   "outputs": [
    {
     "data": {
      "text/plain": [
       "name\n",
       "<class 'str'>    6448\n",
       "Name: count, dtype: int64"
      ]
     },
     "execution_count": 2152,
     "metadata": {},
     "output_type": "execute_result"
    }
   ],
   "source": [
    "df['name'].apply(type).value_counts()"
   ]
  },
  {
   "cell_type": "code",
   "execution_count": 2153,
   "id": "c1c7e4df-8ec2-481f-b80d-1c4ecf79ceb8",
   "metadata": {},
   "outputs": [],
   "source": [
    "df['name'] = df['name'].astype(str)"
   ]
  },
  {
   "cell_type": "code",
   "execution_count": 2154,
   "id": "23d67d2d-939a-479c-8d48-8b7bf07589f3",
   "metadata": {},
   "outputs": [
    {
     "data": {
      "text/plain": [
       "1"
      ]
     },
     "execution_count": 2154,
     "metadata": {},
     "output_type": "execute_result"
    }
   ],
   "source": [
    "df['shape_no'].apply(type).nunique()"
   ]
  },
  {
   "cell_type": "code",
   "execution_count": 2155,
   "id": "6affbd8a-c1a1-4fb7-b9ff-f7593144862d",
   "metadata": {},
   "outputs": [],
   "source": [
    "df['shape_no'] = df['shape_no'].astype(str)"
   ]
  },
  {
   "cell_type": "code",
   "execution_count": 2156,
   "id": "56dd8646-dd96-4d5b-97ee-0273b7dc59b2",
   "metadata": {},
   "outputs": [
    {
     "data": {
      "text/plain": [
       "1"
      ]
     },
     "execution_count": 2156,
     "metadata": {},
     "output_type": "execute_result"
    }
   ],
   "source": [
    "df['drawing_no'].apply(type).nunique()"
   ]
  },
  {
   "cell_type": "code",
   "execution_count": 2157,
   "id": "0cbbdd6c-fecb-459f-9250-f134eef76b60",
   "metadata": {},
   "outputs": [],
   "source": [
    "df['drawing_no'] = df['drawing_no'].astype(str)"
   ]
  },
  {
   "cell_type": "code",
   "execution_count": 2158,
   "id": "24311807-725a-41dd-bb12-f1083ff39ea2",
   "metadata": {},
   "outputs": [
    {
     "data": {
      "text/plain": [
       "1"
      ]
     },
     "execution_count": 2158,
     "metadata": {},
     "output_type": "execute_result"
    }
   ],
   "source": [
    "df['surface_finish'].apply(type).nunique()"
   ]
  },
  {
   "cell_type": "code",
   "execution_count": 2159,
   "id": "0119c481-c202-4830-b97c-525e8cf8fa20",
   "metadata": {},
   "outputs": [],
   "source": [
    "df['surface_finish'] = df['surface_finish'].astype(str)"
   ]
  },
  {
   "cell_type": "code",
   "execution_count": 2160,
   "id": "15fb0979-7d19-4e37-b46c-c059bdcc8ca8",
   "metadata": {},
   "outputs": [
    {
     "data": {
      "text/plain": [
       "1"
      ]
     },
     "execution_count": 2160,
     "metadata": {},
     "output_type": "execute_result"
    }
   ],
   "source": [
    "df['supplier'].apply(type).nunique()"
   ]
  },
  {
   "cell_type": "code",
   "execution_count": 2161,
   "id": "a72c1655-cd46-43f1-ab96-aff072b0d60a",
   "metadata": {},
   "outputs": [],
   "source": [
    "df['supplier'] = df['supplier'].astype(str)"
   ]
  },
  {
   "cell_type": "code",
   "execution_count": 2162,
   "id": "ec44345a-abab-47d5-b0e2-0226ac0d156c",
   "metadata": {
    "scrolled": true
   },
   "outputs": [
    {
     "data": {
      "text/html": [
       "<div>\n",
       "<style scoped>\n",
       "    .dataframe tbody tr th:only-of-type {\n",
       "        vertical-align: middle;\n",
       "    }\n",
       "\n",
       "    .dataframe tbody tr th {\n",
       "        vertical-align: top;\n",
       "    }\n",
       "\n",
       "    .dataframe thead th {\n",
       "        text-align: right;\n",
       "    }\n",
       "</style>\n",
       "<table border=\"1\" class=\"dataframe\">\n",
       "  <thead>\n",
       "    <tr style=\"text-align: right;\">\n",
       "      <th></th>\n",
       "      <th>OK_NOK</th>\n",
       "      <th>date_fmt</th>\n",
       "      <th>pcs_pck</th>\n",
       "      <th>delivered_pcs_pack</th>\n",
       "      <th>pack_weight_kg</th>\n",
       "      <th>pcs_lenght_mm</th>\n",
       "      <th>quantity_pcs</th>\n",
       "      <th>overal_weight_kg</th>\n",
       "    </tr>\n",
       "  </thead>\n",
       "  <tbody>\n",
       "    <tr>\n",
       "      <th>count</th>\n",
       "      <td>6448.00</td>\n",
       "      <td>6448</td>\n",
       "      <td>6350.00</td>\n",
       "      <td>4801.00</td>\n",
       "      <td>2405.00</td>\n",
       "      <td>4514.00</td>\n",
       "      <td>4513.00</td>\n",
       "      <td>4488.00</td>\n",
       "    </tr>\n",
       "    <tr>\n",
       "      <th>mean</th>\n",
       "      <td>0.81</td>\n",
       "      <td>2020-03-11 03:25:27.543424512</td>\n",
       "      <td>38.54</td>\n",
       "      <td>38.57</td>\n",
       "      <td>27.55</td>\n",
       "      <td>4078.38</td>\n",
       "      <td>705.67</td>\n",
       "      <td>438.28</td>\n",
       "    </tr>\n",
       "    <tr>\n",
       "      <th>min</th>\n",
       "      <td>0.00</td>\n",
       "      <td>2002-05-19 00:00:00</td>\n",
       "      <td>2.00</td>\n",
       "      <td>0.25</td>\n",
       "      <td>0.00</td>\n",
       "      <td>1500.00</td>\n",
       "      <td>0.00</td>\n",
       "      <td>0.00</td>\n",
       "    </tr>\n",
       "    <tr>\n",
       "      <th>25%</th>\n",
       "      <td>1.00</td>\n",
       "      <td>2018-10-01 00:00:00</td>\n",
       "      <td>20.00</td>\n",
       "      <td>20.00</td>\n",
       "      <td>22.10</td>\n",
       "      <td>4050.00</td>\n",
       "      <td>260.00</td>\n",
       "      <td>258.39</td>\n",
       "    </tr>\n",
       "    <tr>\n",
       "      <th>50%</th>\n",
       "      <td>1.00</td>\n",
       "      <td>2020-07-02 00:00:00</td>\n",
       "      <td>40.00</td>\n",
       "      <td>40.00</td>\n",
       "      <td>27.00</td>\n",
       "      <td>4150.00</td>\n",
       "      <td>525.00</td>\n",
       "      <td>450.36</td>\n",
       "    </tr>\n",
       "    <tr>\n",
       "      <th>75%</th>\n",
       "      <td>1.00</td>\n",
       "      <td>2021-08-31 00:00:00</td>\n",
       "      <td>40.00</td>\n",
       "      <td>40.00</td>\n",
       "      <td>32.20</td>\n",
       "      <td>4150.00</td>\n",
       "      <td>1000.00</td>\n",
       "      <td>568.22</td>\n",
       "    </tr>\n",
       "    <tr>\n",
       "      <th>max</th>\n",
       "      <td>1.00</td>\n",
       "      <td>2022-09-13 00:00:00</td>\n",
       "      <td>100.00</td>\n",
       "      <td>250.00</td>\n",
       "      <td>350.00</td>\n",
       "      <td>5100.00</td>\n",
       "      <td>5200.00</td>\n",
       "      <td>1702.41</td>\n",
       "    </tr>\n",
       "    <tr>\n",
       "      <th>std</th>\n",
       "      <td>0.39</td>\n",
       "      <td>NaN</td>\n",
       "      <td>22.97</td>\n",
       "      <td>22.79</td>\n",
       "      <td>10.22</td>\n",
       "      <td>227.00</td>\n",
       "      <td>591.61</td>\n",
       "      <td>226.47</td>\n",
       "    </tr>\n",
       "  </tbody>\n",
       "</table>\n",
       "</div>"
      ],
      "text/plain": [
       "       OK_NOK                       date_fmt  pcs_pck  delivered_pcs_pack  \\\n",
       "count 6448.00                           6448  6350.00             4801.00   \n",
       "mean     0.81  2020-03-11 03:25:27.543424512    38.54               38.57   \n",
       "min      0.00            2002-05-19 00:00:00     2.00                0.25   \n",
       "25%      1.00            2018-10-01 00:00:00    20.00               20.00   \n",
       "50%      1.00            2020-07-02 00:00:00    40.00               40.00   \n",
       "75%      1.00            2021-08-31 00:00:00    40.00               40.00   \n",
       "max      1.00            2022-09-13 00:00:00   100.00              250.00   \n",
       "std      0.39                            NaN    22.97               22.79   \n",
       "\n",
       "       pack_weight_kg  pcs_lenght_mm  quantity_pcs  overal_weight_kg  \n",
       "count         2405.00        4514.00       4513.00           4488.00  \n",
       "mean            27.55        4078.38        705.67            438.28  \n",
       "min              0.00        1500.00          0.00              0.00  \n",
       "25%             22.10        4050.00        260.00            258.39  \n",
       "50%             27.00        4150.00        525.00            450.36  \n",
       "75%             32.20        4150.00       1000.00            568.22  \n",
       "max            350.00        5100.00       5200.00           1702.41  \n",
       "std             10.22         227.00        591.61            226.47  "
      ]
     },
     "execution_count": 2162,
     "metadata": {},
     "output_type": "execute_result"
    }
   ],
   "source": [
    "df.describe()"
   ]
  },
  {
   "cell_type": "code",
   "execution_count": 2163,
   "id": "232edae3-5ab6-467c-98a1-7cc63dcce288",
   "metadata": {},
   "outputs": [
    {
     "data": {
      "text/plain": [
       "OK_NOK                                  1\n",
       "date_fmt              2021-07-13 00:00:00\n",
       "name                              Apollo2\n",
       "shape_no                             SH42\n",
       "drawing_no                           DR46\n",
       "surface_finish                        SUR\n",
       "supplier                              SU1\n",
       "pcs_pck                             40.00\n",
       "delivered_pcs_pack                  40.00\n",
       "pack_weight_kg                      36.00\n",
       "pcs_lenght_mm                     4050.00\n",
       "quantity_pcs                       350.00\n",
       "overal_weight_kg                   314.69\n",
       "Name: 4626, dtype: object"
      ]
     },
     "execution_count": 2163,
     "metadata": {},
     "output_type": "execute_result"
    }
   ],
   "source": [
    "df.loc[4626,'pack_weight_kg'] = float(36.00)\n",
    "df.loc[4626]"
   ]
  },
  {
   "cell_type": "code",
   "execution_count": 2164,
   "id": "df51e8a9-351b-418f-8601-cf288eb78f42",
   "metadata": {
    "scrolled": true
   },
   "outputs": [
    {
     "data": {
      "text/plain": [
       "Index([1953, 1968, 2010, 2063, 2065, 2067, 2079, 2103, 2107, 2123,\n",
       "       ...\n",
       "       6362, 6365, 6381, 6383, 6388, 6407, 6422, 6424, 6427, 6434],\n",
       "      dtype='int64', length=299)"
      ]
     },
     "execution_count": 2164,
     "metadata": {},
     "output_type": "execute_result"
    }
   ],
   "source": [
    "quantity_pcs_vc = df['quantity_pcs'] .value_counts()\n",
    "quantity_pcs_vc\n",
    "filtered_quantity_pcs_vc = quantity_pcs_vc[quantity_pcs_vc.index<100].sort_values(ascending=False)\n",
    "row_index_vc = df[df['quantity_pcs'].isin(filtered_quantity_pcs_vc.index)].index\n",
    "row_index_vc"
   ]
  },
  {
   "cell_type": "markdown",
   "id": "e6962741-5bb2-47ff-8c7f-acd2568d22f5",
   "metadata": {},
   "source": [
    "**Comment**: \"The 'quantity_pcs' column represents the volume of each delivery. Generally, quantities below 100 pieces per delivery may indicate special cases like prototype orders, overproduction, or underproduction, rather than standard delivery volumes which usually are much grater. It's crucial to exclude such instances from our model training to prevent bias or inaccuracies. Segregating and excluding these outliers ensures the reliability of our model for analyzing regular deliveries.\""
   ]
  },
  {
   "cell_type": "code",
   "execution_count": 2165,
   "id": "cd96de2b-fda1-4adc-b8ae-7cbfce96ed93",
   "metadata": {},
   "outputs": [],
   "source": [
    "df.drop(row_index_vc, axis=0, inplace=True)\n",
    "df.reset_index(drop=True, inplace=True)"
   ]
  },
  {
   "cell_type": "markdown",
   "id": "0062df9d-a1ca-4919-ac37-1e2bffad45a8",
   "metadata": {},
   "source": [
    "**Comment**: The Describe Function Indicates Presence of Zero Values in the 'pack_weight_kg' Column:\r",
    " Zero values in the 'pack_weight_kg' column require attention and should be addressed to ensure data accuracy and integrity."
   ]
  },
  {
   "cell_type": "code",
   "execution_count": 2166,
   "id": "b3279ef9-779e-455a-b2ea-0250cc42b03b",
   "metadata": {},
   "outputs": [],
   "source": [
    "df['pack_weight_kg'] = df['pack_weight_kg'].replace(0, np.nan)"
   ]
  },
  {
   "cell_type": "markdown",
   "id": "8bea680e-bcd0-41c5-9b9a-695a9b00d48e",
   "metadata": {},
   "source": [
    "### 4 Filling missing Values"
   ]
  },
  {
   "cell_type": "code",
   "execution_count": 2167,
   "id": "1a02f2a2-1259-465c-8562-70ac090189ae",
   "metadata": {
    "scrolled": true
   },
   "outputs": [
    {
     "data": {
      "text/plain": [
       "pack_weight_kg        3896\n",
       "overal_weight_kg      1948\n",
       "quantity_pcs          1935\n",
       "pcs_lenght_mm         1934\n",
       "delivered_pcs_pack    1641\n",
       "pcs_pck                 97\n",
       "OK_NOK                   0\n",
       "date_fmt                 0\n",
       "name                     0\n",
       "shape_no                 0\n",
       "drawing_no               0\n",
       "surface_finish           0\n",
       "supplier                 0\n",
       "dtype: int64"
      ]
     },
     "execution_count": 2167,
     "metadata": {},
     "output_type": "execute_result"
    }
   ],
   "source": [
    "df.isnull().sum().sort_values(ascending=False)"
   ]
  },
  {
   "cell_type": "code",
   "execution_count": 2168,
   "id": "1cecf360-4dc6-4291-bf4b-8b9b18b46e9a",
   "metadata": {},
   "outputs": [],
   "source": [
    "def input_missing_values_recursive(df, column_with_nan, max_num_iter=3, iter_count=0):\n",
    "    \"\"\"\n",
    "    Recursively fills missing values in a DataFrame column based on corresponding values from the same DataFrame.\n",
    "    \n",
    "    Args:\n",
    "        df (DataFrame): The DataFrame containing missing values to be filled.\n",
    "        column_with_nan (str): The name of the column containing missing values.\n",
    "        max_num_iter (int): Maximum number of iterations to perform recursive filling.\n",
    "        iter_count (int): Current iteration count (used internally for recursion).\n",
    "        \n",
    "    Returns:\n",
    "        None. The function modifies the DataFrame in place.\n",
    "    \"\"\"\n",
    "    # Base case: If maximum number of iterations reached, exit function\n",
    "    if iter_count >= max_num_iter:\n",
    "        return\n",
    "    \n",
    "    # Iterate over rows in the DataFrame\n",
    "    for idx, row in df.iterrows():\n",
    "        # Extract values from current row\n",
    "        drawing_no = row['drawing_no']\n",
    "        finish = row['surface_finish']\n",
    "        name = row['name']\n",
    "        corresponding_val = None\n",
    "\n",
    "        # Try to find a corresponding non-null value in the DataFrame\n",
    "        try:\n",
    "            corresponding_val = df.loc[(df['drawing_no'] == drawing_no) &\n",
    "                                       (df['surface_finish'] == finish) &\n",
    "                                       (df['name'] == name) &\n",
    "                                       (df[column_with_nan].notnull()), column_with_nan].iloc[0]\n",
    "        except IndexError:\n",
    "            corresponding_val = None\n",
    "        \n",
    "        # If a corresponding value is found, fill the missing value in the current row\n",
    "        if corresponding_val is not None:\n",
    "            df.loc[idx, column_with_nan] = corresponding_val\n",
    "            \n",
    "    # Recursively call the function to continue filling missing values\n",
    "    input_missing_values_recursive(df, column_with_nan, max_num_iter, iter_count + 1)\n"
   ]
  },
  {
   "cell_type": "code",
   "execution_count": 2169,
   "id": "43f47b9a-e05a-43c9-8c4b-84bb406361de",
   "metadata": {},
   "outputs": [],
   "source": [
    "# input_missing_values_recursive(df, 'pack_weight_kg')\n",
    "# input_missing_values_recursive(df, 'pcs_lenght_mm')\n",
    "# input_missing_values_recursive(df, 'delivered_pcs_pack')\n",
    "# input_missing_values_recursive(df, 'pcs_pck')"
   ]
  },
  {
   "cell_type": "code",
   "execution_count": 2170,
   "id": "5d0061e3-17eb-4427-a4fd-4b6bc8765f27",
   "metadata": {},
   "outputs": [],
   "source": [
    "# df.to_csv('modified_dataframe.csv', index=False)"
   ]
  },
  {
   "cell_type": "code",
   "execution_count": 2171,
   "id": "ad12a457-b7d3-4983-a839-135695d759e1",
   "metadata": {},
   "outputs": [],
   "source": [
    "modified_df = pd.read_csv('modified_dataframe.csv')"
   ]
  },
  {
   "cell_type": "code",
   "execution_count": 2172,
   "id": "c9a045a6-8c8a-4d33-9de4-0fe021947962",
   "metadata": {},
   "outputs": [
    {
     "data": {
      "text/html": [
       "<div>\n",
       "<style scoped>\n",
       "    .dataframe tbody tr th:only-of-type {\n",
       "        vertical-align: middle;\n",
       "    }\n",
       "\n",
       "    .dataframe tbody tr th {\n",
       "        vertical-align: top;\n",
       "    }\n",
       "\n",
       "    .dataframe thead th {\n",
       "        text-align: right;\n",
       "    }\n",
       "</style>\n",
       "<table border=\"1\" class=\"dataframe\">\n",
       "  <thead>\n",
       "    <tr style=\"text-align: right;\">\n",
       "      <th></th>\n",
       "      <th>OK_NOK</th>\n",
       "      <th>date_fmt</th>\n",
       "      <th>name</th>\n",
       "      <th>shape_no</th>\n",
       "      <th>drawing_no</th>\n",
       "      <th>surface_finish</th>\n",
       "      <th>supplier</th>\n",
       "      <th>pcs_pck</th>\n",
       "      <th>delivered_pcs_pack</th>\n",
       "      <th>pack_weight_kg</th>\n",
       "      <th>pcs_lenght_mm</th>\n",
       "      <th>quantity_pcs</th>\n",
       "      <th>overal_weight_kg</th>\n",
       "    </tr>\n",
       "  </thead>\n",
       "  <tbody>\n",
       "    <tr>\n",
       "      <th>0</th>\n",
       "      <td>0</td>\n",
       "      <td>2017-01-13</td>\n",
       "      <td>Regor</td>\n",
       "      <td>SH0</td>\n",
       "      <td>DR0</td>\n",
       "      <td>C-0</td>\n",
       "      <td>SU0</td>\n",
       "      <td>40.00</td>\n",
       "      <td>50.00</td>\n",
       "      <td>23.70</td>\n",
       "      <td>4050.00</td>\n",
       "      <td>NaN</td>\n",
       "      <td>NaN</td>\n",
       "    </tr>\n",
       "  </tbody>\n",
       "</table>\n",
       "</div>"
      ],
      "text/plain": [
       "   OK_NOK    date_fmt   name shape_no drawing_no surface_finish supplier  \\\n",
       "0       0  2017-01-13  Regor      SH0        DR0            C-0      SU0   \n",
       "\n",
       "   pcs_pck  delivered_pcs_pack  pack_weight_kg  pcs_lenght_mm  quantity_pcs  \\\n",
       "0    40.00               50.00           23.70        4050.00           NaN   \n",
       "\n",
       "   overal_weight_kg  \n",
       "0               NaN  "
      ]
     },
     "execution_count": 2172,
     "metadata": {},
     "output_type": "execute_result"
    }
   ],
   "source": [
    "modified_df.head(1)"
   ]
  },
  {
   "cell_type": "code",
   "execution_count": 2173,
   "id": "22266d2c-3630-4d75-8576-c71c437d88f1",
   "metadata": {
    "scrolled": true
   },
   "outputs": [
    {
     "data": {
      "text/plain": [
       "overal_weight_kg      1948\n",
       "quantity_pcs          1935\n",
       "pack_weight_kg         340\n",
       "pcs_lenght_mm          168\n",
       "pcs_pck                 97\n",
       "delivered_pcs_pack      76\n",
       "OK_NOK                   0\n",
       "date_fmt                 0\n",
       "name                     0\n",
       "shape_no                 0\n",
       "drawing_no               0\n",
       "surface_finish           0\n",
       "supplier                 0\n",
       "dtype: int64"
      ]
     },
     "execution_count": 2173,
     "metadata": {},
     "output_type": "execute_result"
    }
   ],
   "source": [
    "modified_df.isnull().sum().sort_values(ascending=False)"
   ]
  },
  {
   "cell_type": "code",
   "execution_count": 2174,
   "id": "7ba45643-2dbe-4977-990c-bb3343870306",
   "metadata": {},
   "outputs": [],
   "source": [
    "pack_weight_kg_median = modified_df['pack_weight_kg'].median()\n",
    "modified_df['pack_weight_kg'] = modified_df['pack_weight_kg'].fillna(pack_weight_kg_median)"
   ]
  },
  {
   "cell_type": "code",
   "execution_count": 2175,
   "id": "d4e3fa12-f075-41e2-85db-45775be5a282",
   "metadata": {},
   "outputs": [],
   "source": [
    "pcs_lenght_mm_median = modified_df['pcs_lenght_mm'].median()\n",
    "modified_df['pcs_lenght_mm'] = modified_df['pcs_lenght_mm'].fillna(pcs_lenght_mm_median)"
   ]
  },
  {
   "cell_type": "code",
   "execution_count": 2176,
   "id": "45708a23-254f-4207-acf9-212cdc44bf56",
   "metadata": {},
   "outputs": [],
   "source": [
    "quantity_pcs_median = modified_df['quantity_pcs'].median()\n",
    "modified_df['quantity_pcs'] = modified_df['quantity_pcs'].fillna(quantity_pcs_median)"
   ]
  },
  {
   "cell_type": "code",
   "execution_count": 2177,
   "id": "b8adb88e-a505-4455-ab01-444e7e0996c0",
   "metadata": {},
   "outputs": [],
   "source": [
    "delivered_pcs_pack_mode = modified_df['delivered_pcs_pack'].mode()\n",
    "modified_df['delivered_pcs_pack'] = modified_df['delivered_pcs_pack'].fillna(delivered_pcs_pack_mode[0])\n"
   ]
  },
  {
   "cell_type": "code",
   "execution_count": 2178,
   "id": "ed05b9a3-4d73-4696-a3f4-a55a56c1615c",
   "metadata": {},
   "outputs": [],
   "source": [
    "pcs_pack_mode = modified_df['pcs_pck'].mode()\n",
    "modified_df['pcs_pck'] = modified_df['pcs_pck'].fillna(pcs_pack_mode[0])"
   ]
  },
  {
   "cell_type": "code",
   "execution_count": 2179,
   "id": "04de12fc-9d5f-4c2c-81cf-5865cd02a423",
   "metadata": {},
   "outputs": [
    {
     "data": {
      "text/plain": [
       "Index([   0,    1,    2,    3,    4,    5,    6,    7,    8,    9,\n",
       "       ...\n",
       "       5323, 5453, 5454, 5607, 5896, 5897, 5918, 5919, 6027, 6132],\n",
       "      dtype='int64', length=1967)"
      ]
     },
     "execution_count": 2179,
     "metadata": {},
     "output_type": "execute_result"
    }
   ],
   "source": [
    "overal_weight_kg_na_idx = modified_df.loc[(modified_df['overal_weight_kg'].isnull()) | (modified_df['overal_weight_kg']== 0)].index\n",
    "\n",
    "overal_weight_kg_na_idx"
   ]
  },
  {
   "cell_type": "code",
   "execution_count": 2180,
   "id": "721416cb-c379-4e6b-a0d1-c8750942e115",
   "metadata": {},
   "outputs": [],
   "source": [
    "# Iterate over the indices of rows with missing values in 'overal_weight_kg'\n",
    "for idx in overal_weight_kg_na_idx:\n",
    "    # Extract necessary values from the DataFrame\n",
    "    quantity_pcs = modified_df.loc[idx, 'quantity_pcs']\n",
    "    pcs_pck = modified_df.loc[idx, 'pcs_pck']\n",
    "    pack_weight_kg = modified_df.loc[idx,'pack_weight_kg']\n",
    "    \n",
    "    # Calculate corresponding overall weight\n",
    "    corresponding_overal_weight = (quantity_pcs / pcs_pck) * pack_weight_kg\n",
    "    \n",
    "    # Assign the calculated overall weight to the corresponding row in 'overal_weight_kg' column\n",
    "    modified_df.loc[idx, 'overal_weight_kg'] = corresponding_overal_weight"
   ]
  },
  {
   "cell_type": "markdown",
   "id": "c3c3f3b6-97cc-48dc-93d2-1d5df25e797f",
   "metadata": {},
   "source": [
    "**Comment**: Additionaly its better to change units from millimeters and kilograms to meters and tonnes."
   ]
  },
  {
   "cell_type": "code",
   "execution_count": 2181,
   "id": "339f31e6-63c9-409f-83b6-2448077512da",
   "metadata": {},
   "outputs": [
    {
     "data": {
      "text/html": [
       "<div>\n",
       "<style scoped>\n",
       "    .dataframe tbody tr th:only-of-type {\n",
       "        vertical-align: middle;\n",
       "    }\n",
       "\n",
       "    .dataframe tbody tr th {\n",
       "        vertical-align: top;\n",
       "    }\n",
       "\n",
       "    .dataframe thead th {\n",
       "        text-align: right;\n",
       "    }\n",
       "</style>\n",
       "<table border=\"1\" class=\"dataframe\">\n",
       "  <thead>\n",
       "    <tr style=\"text-align: right;\">\n",
       "      <th></th>\n",
       "      <th>OK_NOK</th>\n",
       "      <th>date_fmt</th>\n",
       "      <th>name</th>\n",
       "      <th>shape_no</th>\n",
       "      <th>drawing_no</th>\n",
       "      <th>surface_finish</th>\n",
       "      <th>supplier</th>\n",
       "      <th>pcs_pck</th>\n",
       "      <th>delivered_pcs_pack</th>\n",
       "      <th>pack_weight_kg</th>\n",
       "      <th>pcs_lenght_mm</th>\n",
       "      <th>quantity_pcs</th>\n",
       "      <th>overal_weight_kg</th>\n",
       "    </tr>\n",
       "  </thead>\n",
       "  <tbody>\n",
       "    <tr>\n",
       "      <th>0</th>\n",
       "      <td>0</td>\n",
       "      <td>2017-01-13</td>\n",
       "      <td>Regor</td>\n",
       "      <td>SH0</td>\n",
       "      <td>DR0</td>\n",
       "      <td>C-0</td>\n",
       "      <td>SU0</td>\n",
       "      <td>40.00</td>\n",
       "      <td>50.00</td>\n",
       "      <td>23.70</td>\n",
       "      <td>4050.00</td>\n",
       "      <td>574.50</td>\n",
       "      <td>340.39</td>\n",
       "    </tr>\n",
       "  </tbody>\n",
       "</table>\n",
       "</div>"
      ],
      "text/plain": [
       "   OK_NOK    date_fmt   name shape_no drawing_no surface_finish supplier  \\\n",
       "0       0  2017-01-13  Regor      SH0        DR0            C-0      SU0   \n",
       "\n",
       "   pcs_pck  delivered_pcs_pack  pack_weight_kg  pcs_lenght_mm  quantity_pcs  \\\n",
       "0    40.00               50.00           23.70        4050.00        574.50   \n",
       "\n",
       "   overal_weight_kg  \n",
       "0            340.39  "
      ]
     },
     "execution_count": 2181,
     "metadata": {},
     "output_type": "execute_result"
    }
   ],
   "source": [
    "modified_df.head(1)"
   ]
  },
  {
   "cell_type": "code",
   "execution_count": 2182,
   "id": "91ac11aa-9c04-4c11-8451-a7db461a6d68",
   "metadata": {},
   "outputs": [],
   "source": [
    "for idx, row in modified_df.iterrows():\n",
    "    # Extract values from the current row\n",
    "    lenght_mm = row['pcs_lenght_mm']\n",
    "    weight_kg = row['overal_weight_kg']\n",
    "    # Convert length and weight to meters and kilograms, respectively\n",
    "    converted_lenght = lenght_mm / 1000\n",
    "    converted_weight = weight_kg / 1000\n",
    "\n",
    "    modified_df.loc[idx, 'pcs_lenght_mm'] = converted_lenght\n",
    "    modified_df.loc[idx, 'overal_weight_kg'] = converted_weight"
   ]
  },
  {
   "cell_type": "code",
   "execution_count": 2183,
   "id": "886fe8d0-190c-42ba-bda2-00f44c545053",
   "metadata": {},
   "outputs": [
    {
     "data": {
      "text/html": [
       "<div>\n",
       "<style scoped>\n",
       "    .dataframe tbody tr th:only-of-type {\n",
       "        vertical-align: middle;\n",
       "    }\n",
       "\n",
       "    .dataframe tbody tr th {\n",
       "        vertical-align: top;\n",
       "    }\n",
       "\n",
       "    .dataframe thead th {\n",
       "        text-align: right;\n",
       "    }\n",
       "</style>\n",
       "<table border=\"1\" class=\"dataframe\">\n",
       "  <thead>\n",
       "    <tr style=\"text-align: right;\">\n",
       "      <th></th>\n",
       "      <th>OK_NOK</th>\n",
       "      <th>date_fmt</th>\n",
       "      <th>name</th>\n",
       "      <th>shape_no</th>\n",
       "      <th>drawing_no</th>\n",
       "      <th>surface_finish</th>\n",
       "      <th>supplier</th>\n",
       "      <th>pcs_pck</th>\n",
       "      <th>delivered_pcs_pack</th>\n",
       "      <th>pack_weight_kg</th>\n",
       "      <th>pcs_lenght_m</th>\n",
       "      <th>quantity_pcs</th>\n",
       "      <th>overal_weight_t</th>\n",
       "    </tr>\n",
       "  </thead>\n",
       "  <tbody>\n",
       "    <tr>\n",
       "      <th>0</th>\n",
       "      <td>0</td>\n",
       "      <td>2017-01-13</td>\n",
       "      <td>Regor</td>\n",
       "      <td>SH0</td>\n",
       "      <td>DR0</td>\n",
       "      <td>C-0</td>\n",
       "      <td>SU0</td>\n",
       "      <td>40.00</td>\n",
       "      <td>50.00</td>\n",
       "      <td>23.70</td>\n",
       "      <td>4.05</td>\n",
       "      <td>574.50</td>\n",
       "      <td>0.34</td>\n",
       "    </tr>\n",
       "    <tr>\n",
       "      <th>1</th>\n",
       "      <td>0</td>\n",
       "      <td>2017-01-13</td>\n",
       "      <td>Procyon</td>\n",
       "      <td>SH1</td>\n",
       "      <td>DR1</td>\n",
       "      <td>C-0</td>\n",
       "      <td>SU0</td>\n",
       "      <td>40.00</td>\n",
       "      <td>40.00</td>\n",
       "      <td>39.70</td>\n",
       "      <td>4.15</td>\n",
       "      <td>574.50</td>\n",
       "      <td>0.57</td>\n",
       "    </tr>\n",
       "    <tr>\n",
       "      <th>2</th>\n",
       "      <td>0</td>\n",
       "      <td>2017-01-13</td>\n",
       "      <td>Regor</td>\n",
       "      <td>SH0</td>\n",
       "      <td>DR0</td>\n",
       "      <td>C-0</td>\n",
       "      <td>SU0</td>\n",
       "      <td>40.00</td>\n",
       "      <td>50.00</td>\n",
       "      <td>23.70</td>\n",
       "      <td>4.05</td>\n",
       "      <td>574.50</td>\n",
       "      <td>0.34</td>\n",
       "    </tr>\n",
       "    <tr>\n",
       "      <th>3</th>\n",
       "      <td>0</td>\n",
       "      <td>2017-01-13</td>\n",
       "      <td>Regor</td>\n",
       "      <td>SH0</td>\n",
       "      <td>DR0</td>\n",
       "      <td>C-0</td>\n",
       "      <td>SU0</td>\n",
       "      <td>40.00</td>\n",
       "      <td>50.00</td>\n",
       "      <td>23.70</td>\n",
       "      <td>4.05</td>\n",
       "      <td>574.50</td>\n",
       "      <td>0.34</td>\n",
       "    </tr>\n",
       "    <tr>\n",
       "      <th>4</th>\n",
       "      <td>0</td>\n",
       "      <td>2017-01-19</td>\n",
       "      <td>Grus</td>\n",
       "      <td>SH2</td>\n",
       "      <td>DR2</td>\n",
       "      <td>C-0</td>\n",
       "      <td>SU1</td>\n",
       "      <td>40.00</td>\n",
       "      <td>40.00</td>\n",
       "      <td>18.40</td>\n",
       "      <td>4.15</td>\n",
       "      <td>574.50</td>\n",
       "      <td>0.26</td>\n",
       "    </tr>\n",
       "    <tr>\n",
       "      <th>5</th>\n",
       "      <td>0</td>\n",
       "      <td>2017-01-19</td>\n",
       "      <td>Orion</td>\n",
       "      <td>SH3</td>\n",
       "      <td>DR3</td>\n",
       "      <td>C-0</td>\n",
       "      <td>SU1</td>\n",
       "      <td>40.00</td>\n",
       "      <td>50.00</td>\n",
       "      <td>28.00</td>\n",
       "      <td>2.05</td>\n",
       "      <td>574.50</td>\n",
       "      <td>0.40</td>\n",
       "    </tr>\n",
       "    <tr>\n",
       "      <th>6</th>\n",
       "      <td>0</td>\n",
       "      <td>2017-01-19</td>\n",
       "      <td>Telescopium</td>\n",
       "      <td>SH4</td>\n",
       "      <td>DR4</td>\n",
       "      <td>SUR</td>\n",
       "      <td>SU1</td>\n",
       "      <td>10.00</td>\n",
       "      <td>8.00</td>\n",
       "      <td>30.40</td>\n",
       "      <td>4.05</td>\n",
       "      <td>574.50</td>\n",
       "      <td>1.75</td>\n",
       "    </tr>\n",
       "    <tr>\n",
       "      <th>7</th>\n",
       "      <td>1</td>\n",
       "      <td>2017-01-19</td>\n",
       "      <td>Lalande</td>\n",
       "      <td>SH5</td>\n",
       "      <td>DR5</td>\n",
       "      <td>SUR</td>\n",
       "      <td>SU0</td>\n",
       "      <td>40.00</td>\n",
       "      <td>40.00</td>\n",
       "      <td>26.10</td>\n",
       "      <td>4.05</td>\n",
       "      <td>574.50</td>\n",
       "      <td>0.37</td>\n",
       "    </tr>\n",
       "    <tr>\n",
       "      <th>8</th>\n",
       "      <td>1</td>\n",
       "      <td>2017-01-19</td>\n",
       "      <td>Lalande</td>\n",
       "      <td>SH5</td>\n",
       "      <td>DR5</td>\n",
       "      <td>SUR</td>\n",
       "      <td>SU0</td>\n",
       "      <td>40.00</td>\n",
       "      <td>40.00</td>\n",
       "      <td>26.10</td>\n",
       "      <td>4.05</td>\n",
       "      <td>574.50</td>\n",
       "      <td>0.37</td>\n",
       "    </tr>\n",
       "    <tr>\n",
       "      <th>9</th>\n",
       "      <td>0</td>\n",
       "      <td>2017-01-19</td>\n",
       "      <td>Telescopium</td>\n",
       "      <td>SH4</td>\n",
       "      <td>DR4</td>\n",
       "      <td>SUR</td>\n",
       "      <td>SU1</td>\n",
       "      <td>10.00</td>\n",
       "      <td>8.00</td>\n",
       "      <td>30.40</td>\n",
       "      <td>4.05</td>\n",
       "      <td>574.50</td>\n",
       "      <td>1.75</td>\n",
       "    </tr>\n",
       "    <tr>\n",
       "      <th>10</th>\n",
       "      <td>0</td>\n",
       "      <td>2017-01-19</td>\n",
       "      <td>Zavijava</td>\n",
       "      <td>SH6</td>\n",
       "      <td>DR6</td>\n",
       "      <td>C-0</td>\n",
       "      <td>SU1</td>\n",
       "      <td>40.00</td>\n",
       "      <td>50.00</td>\n",
       "      <td>28.10</td>\n",
       "      <td>4.05</td>\n",
       "      <td>574.50</td>\n",
       "      <td>0.40</td>\n",
       "    </tr>\n",
       "    <tr>\n",
       "      <th>11</th>\n",
       "      <td>0</td>\n",
       "      <td>2017-01-19</td>\n",
       "      <td>Andromeda2</td>\n",
       "      <td>SH7</td>\n",
       "      <td>DR7</td>\n",
       "      <td>C-0</td>\n",
       "      <td>SU1</td>\n",
       "      <td>20.00</td>\n",
       "      <td>20.00</td>\n",
       "      <td>37.50</td>\n",
       "      <td>4.05</td>\n",
       "      <td>574.50</td>\n",
       "      <td>1.08</td>\n",
       "    </tr>\n",
       "    <tr>\n",
       "      <th>12</th>\n",
       "      <td>1</td>\n",
       "      <td>2017-01-19</td>\n",
       "      <td>Andromeda2</td>\n",
       "      <td>SH7</td>\n",
       "      <td>DR7</td>\n",
       "      <td>C-0</td>\n",
       "      <td>SU1</td>\n",
       "      <td>20.00</td>\n",
       "      <td>20.00</td>\n",
       "      <td>37.50</td>\n",
       "      <td>4.05</td>\n",
       "      <td>574.50</td>\n",
       "      <td>1.08</td>\n",
       "    </tr>\n",
       "    <tr>\n",
       "      <th>13</th>\n",
       "      <td>1</td>\n",
       "      <td>2017-01-19</td>\n",
       "      <td>Andromeda2</td>\n",
       "      <td>SH7</td>\n",
       "      <td>DR7</td>\n",
       "      <td>C-0</td>\n",
       "      <td>SU1</td>\n",
       "      <td>20.00</td>\n",
       "      <td>20.00</td>\n",
       "      <td>37.50</td>\n",
       "      <td>4.05</td>\n",
       "      <td>574.50</td>\n",
       "      <td>1.08</td>\n",
       "    </tr>\n",
       "    <tr>\n",
       "      <th>14</th>\n",
       "      <td>0</td>\n",
       "      <td>2017-01-20</td>\n",
       "      <td>Canopus</td>\n",
       "      <td>SH8</td>\n",
       "      <td>DR8</td>\n",
       "      <td>SUR</td>\n",
       "      <td>SU1</td>\n",
       "      <td>40.00</td>\n",
       "      <td>50.00</td>\n",
       "      <td>14.00</td>\n",
       "      <td>4.05</td>\n",
       "      <td>574.50</td>\n",
       "      <td>0.20</td>\n",
       "    </tr>\n",
       "    <tr>\n",
       "      <th>15</th>\n",
       "      <td>0</td>\n",
       "      <td>2017-01-24</td>\n",
       "      <td>Gemini2</td>\n",
       "      <td>SH9</td>\n",
       "      <td>DR9</td>\n",
       "      <td>SUR</td>\n",
       "      <td>SU1</td>\n",
       "      <td>100.00</td>\n",
       "      <td>100.00</td>\n",
       "      <td>27.00</td>\n",
       "      <td>4.05</td>\n",
       "      <td>574.50</td>\n",
       "      <td>0.16</td>\n",
       "    </tr>\n",
       "    <tr>\n",
       "      <th>16</th>\n",
       "      <td>0</td>\n",
       "      <td>2017-01-24</td>\n",
       "      <td>Gemini2</td>\n",
       "      <td>SH9</td>\n",
       "      <td>DR9</td>\n",
       "      <td>SUR</td>\n",
       "      <td>SU1</td>\n",
       "      <td>100.00</td>\n",
       "      <td>100.00</td>\n",
       "      <td>27.00</td>\n",
       "      <td>4.05</td>\n",
       "      <td>574.50</td>\n",
       "      <td>0.16</td>\n",
       "    </tr>\n",
       "    <tr>\n",
       "      <th>17</th>\n",
       "      <td>0</td>\n",
       "      <td>2017-01-27</td>\n",
       "      <td>Grus</td>\n",
       "      <td>SH2</td>\n",
       "      <td>DR2</td>\n",
       "      <td>C-0</td>\n",
       "      <td>SU1</td>\n",
       "      <td>40.00</td>\n",
       "      <td>40.00</td>\n",
       "      <td>18.40</td>\n",
       "      <td>4.15</td>\n",
       "      <td>574.50</td>\n",
       "      <td>0.26</td>\n",
       "    </tr>\n",
       "    <tr>\n",
       "      <th>18</th>\n",
       "      <td>1</td>\n",
       "      <td>2017-01-27</td>\n",
       "      <td>Grus</td>\n",
       "      <td>SH2</td>\n",
       "      <td>DR2</td>\n",
       "      <td>C-0</td>\n",
       "      <td>SU1</td>\n",
       "      <td>40.00</td>\n",
       "      <td>40.00</td>\n",
       "      <td>18.40</td>\n",
       "      <td>4.15</td>\n",
       "      <td>574.50</td>\n",
       "      <td>0.26</td>\n",
       "    </tr>\n",
       "    <tr>\n",
       "      <th>19</th>\n",
       "      <td>0</td>\n",
       "      <td>2017-12-19</td>\n",
       "      <td>Phecda</td>\n",
       "      <td>SH5</td>\n",
       "      <td>DR10</td>\n",
       "      <td>C-0</td>\n",
       "      <td>SU1</td>\n",
       "      <td>40.00</td>\n",
       "      <td>50.00</td>\n",
       "      <td>26.60</td>\n",
       "      <td>4.05</td>\n",
       "      <td>574.50</td>\n",
       "      <td>0.38</td>\n",
       "    </tr>\n",
       "  </tbody>\n",
       "</table>\n",
       "</div>"
      ],
      "text/plain": [
       "    OK_NOK    date_fmt         name shape_no drawing_no surface_finish  \\\n",
       "0        0  2017-01-13        Regor      SH0        DR0            C-0   \n",
       "1        0  2017-01-13      Procyon      SH1        DR1            C-0   \n",
       "2        0  2017-01-13        Regor      SH0        DR0            C-0   \n",
       "3        0  2017-01-13        Regor      SH0        DR0            C-0   \n",
       "4        0  2017-01-19         Grus      SH2        DR2            C-0   \n",
       "5        0  2017-01-19        Orion      SH3        DR3            C-0   \n",
       "6        0  2017-01-19  Telescopium      SH4        DR4            SUR   \n",
       "7        1  2017-01-19      Lalande      SH5        DR5            SUR   \n",
       "8        1  2017-01-19      Lalande      SH5        DR5            SUR   \n",
       "9        0  2017-01-19  Telescopium      SH4        DR4            SUR   \n",
       "10       0  2017-01-19     Zavijava      SH6        DR6            C-0   \n",
       "11       0  2017-01-19   Andromeda2      SH7        DR7            C-0   \n",
       "12       1  2017-01-19   Andromeda2      SH7        DR7            C-0   \n",
       "13       1  2017-01-19   Andromeda2      SH7        DR7            C-0   \n",
       "14       0  2017-01-20      Canopus      SH8        DR8            SUR   \n",
       "15       0  2017-01-24      Gemini2      SH9        DR9            SUR   \n",
       "16       0  2017-01-24      Gemini2      SH9        DR9            SUR   \n",
       "17       0  2017-01-27         Grus      SH2        DR2            C-0   \n",
       "18       1  2017-01-27         Grus      SH2        DR2            C-0   \n",
       "19       0  2017-12-19       Phecda      SH5       DR10            C-0   \n",
       "\n",
       "   supplier  pcs_pck  delivered_pcs_pack  pack_weight_kg  pcs_lenght_m  \\\n",
       "0       SU0    40.00               50.00           23.70          4.05   \n",
       "1       SU0    40.00               40.00           39.70          4.15   \n",
       "2       SU0    40.00               50.00           23.70          4.05   \n",
       "3       SU0    40.00               50.00           23.70          4.05   \n",
       "4       SU1    40.00               40.00           18.40          4.15   \n",
       "5       SU1    40.00               50.00           28.00          2.05   \n",
       "6       SU1    10.00                8.00           30.40          4.05   \n",
       "7       SU0    40.00               40.00           26.10          4.05   \n",
       "8       SU0    40.00               40.00           26.10          4.05   \n",
       "9       SU1    10.00                8.00           30.40          4.05   \n",
       "10      SU1    40.00               50.00           28.10          4.05   \n",
       "11      SU1    20.00               20.00           37.50          4.05   \n",
       "12      SU1    20.00               20.00           37.50          4.05   \n",
       "13      SU1    20.00               20.00           37.50          4.05   \n",
       "14      SU1    40.00               50.00           14.00          4.05   \n",
       "15      SU1   100.00              100.00           27.00          4.05   \n",
       "16      SU1   100.00              100.00           27.00          4.05   \n",
       "17      SU1    40.00               40.00           18.40          4.15   \n",
       "18      SU1    40.00               40.00           18.40          4.15   \n",
       "19      SU1    40.00               50.00           26.60          4.05   \n",
       "\n",
       "    quantity_pcs  overal_weight_t  \n",
       "0         574.50             0.34  \n",
       "1         574.50             0.57  \n",
       "2         574.50             0.34  \n",
       "3         574.50             0.34  \n",
       "4         574.50             0.26  \n",
       "5         574.50             0.40  \n",
       "6         574.50             1.75  \n",
       "7         574.50             0.37  \n",
       "8         574.50             0.37  \n",
       "9         574.50             1.75  \n",
       "10        574.50             0.40  \n",
       "11        574.50             1.08  \n",
       "12        574.50             1.08  \n",
       "13        574.50             1.08  \n",
       "14        574.50             0.20  \n",
       "15        574.50             0.16  \n",
       "16        574.50             0.16  \n",
       "17        574.50             0.26  \n",
       "18        574.50             0.26  \n",
       "19        574.50             0.38  "
      ]
     },
     "execution_count": 2183,
     "metadata": {},
     "output_type": "execute_result"
    }
   ],
   "source": [
    "modified_df = modified_df.rename(columns={'pcs_lenght_mm' : 'pcs_lenght_m', 'overal_weight_kg': 'overal_weight_t'})\n",
    "modified_df.head(20)"
   ]
  },
  {
   "cell_type": "code",
   "execution_count": 2184,
   "id": "4cd9b460-78c9-40d4-9eaa-07d9dd47a610",
   "metadata": {},
   "outputs": [
    {
     "data": {
      "text/plain": [
       "OK_NOK                0\n",
       "date_fmt              0\n",
       "name                  0\n",
       "shape_no              0\n",
       "drawing_no            0\n",
       "surface_finish        0\n",
       "supplier              0\n",
       "pcs_pck               0\n",
       "delivered_pcs_pack    0\n",
       "pack_weight_kg        0\n",
       "pcs_lenght_m          0\n",
       "quantity_pcs          0\n",
       "overal_weight_t       0\n",
       "dtype: int64"
      ]
     },
     "execution_count": 2184,
     "metadata": {},
     "output_type": "execute_result"
    }
   ],
   "source": [
    "modified_df.isnull().sum().sort_values(ascending=False)"
   ]
  },
  {
   "cell_type": "markdown",
   "id": "2db14ef5-f79a-403d-bea6-b35f663479fd",
   "metadata": {},
   "source": [
    "### 4 Feature analysis\n",
    "     4.1 Numerical values:\n",
    "     * \"pcs_pck\",\n",
    "     * \"pcs_lenght_mm\",\n",
    "     * \"overal_weight_kg\",\n",
    "     * \"quantity_pcs\",\n",
    "     * \"pack_weight_kg\",\n",
    "     * \"delivered_pcs_pack\""
   ]
  },
  {
   "cell_type": "code",
   "execution_count": 2185,
   "id": "469495cb-98e2-46bb-955d-a3090e46d942",
   "metadata": {},
   "outputs": [
    {
     "data": {
      "image/png": "[encoded data removed]",
      "text/plain": [
       "<Figure size 640x480 with 2 Axes>"
      ]
     },
     "metadata": {},
     "output_type": "display_data"
    }
   ],
   "source": [
    "g = sns.heatmap(df[[\"OK_NOK\",\"pcs_pck\", \"pcs_lenght_mm\", \"overal_weight_kg\", \"quantity_pcs\",\"pack_weight_kg\",\"delivered_pcs_pack\"]].corr(),annot=True, fmt = \".2f\", cmap = \"coolwarm\")"
   ]
  },
  {
   "cell_type": "markdown",
   "id": "548ccd78-3988-4c5a-a7b7-aa3f5f3a8515",
   "metadata": {},
   "source": [
    "**Comment**: While it appears that no feature exhibits a significant linear correlation with the target feature, it's important to note that this doesn't render the features useless. Subgroups within these features may still exhibit correlations with survival rates. To ascertain this, a detailed exploration of these features is necessary. Additionally, it's observed that 'pcs_pck' and 'delivered_pcs_pack' are nearly identical, suggesting redundancy. It may be advisable to remove one of them to streamline the dataset.\n"
   ]
  },
  {
   "cell_type": "code",
   "execution_count": 2186,
   "id": "0836ff74-9037-46cc-86ed-64756a0e2a61",
   "metadata": {},
   "outputs": [],
   "source": [
    "df.drop('delivered_pcs_pack', axis=1, inplace=True)"
   ]
  },
  {
   "cell_type": "markdown",
   "id": "4bf026de-dc27-400b-a688-a0f81b198da3",
   "metadata": {},
   "source": [
    "**pcs_pck**"
   ]
  },
  {
   "cell_type": "code",
   "execution_count": 2187,
   "id": "11c205dc-4d22-46c0-9373-5767fbd5367b",
   "metadata": {},
   "outputs": [
    {
     "data": {
      "text/plain": [
       "pcs_pck\n",
       "40.00     3094\n",
       "20.00     1728\n",
       "100.00     566\n",
       "60.00      349\n",
       "10.00      317\n",
       "50.00       45\n",
       "25.00       35\n",
       "6.00         8\n",
       "80.00        5\n",
       "30.00        1\n",
       "16.00        1\n",
       "Name: count, dtype: int64"
      ]
     },
     "execution_count": 2187,
     "metadata": {},
     "output_type": "execute_result"
    }
   ],
   "source": [
    "modified_df['pcs_pck'].value_counts()"
   ]
  },
  {
   "cell_type": "code",
   "execution_count": 2188,
   "id": "79d68df2-5ff4-4382-9231-6f942deaa791",
   "metadata": {
    "scrolled": true
   },
   "outputs": [
    {
     "data": {
      "image/png": "[encoded data removed]",
      "text/plain": [
       "<Figure size 500x500 with 1 Axes>"
      ]
     },
     "metadata": {},
     "output_type": "display_data"
    }
   ],
   "source": [
    "sns.displot(data=modified_df, x='pcs_pck', kind='hist', label='Skewness: %.2f'%(modified_df['pcs_pck'].skew()))\n",
    "plt.legend(loc='best')\n",
    "plt.show()"
   ]
  },
  {
   "cell_type": "code",
   "execution_count": 2189,
   "id": "1c9fc310-a636-43d2-bd4d-d88827cb808f",
   "metadata": {
    "scrolled": true
   },
   "outputs": [
    {
     "data": {
      "text/plain": [
       "95"
      ]
     },
     "execution_count": 2189,
     "metadata": {},
     "output_type": "execute_result"
    }
   ],
   "source": [
    "pcs_pck_vc = modified_df['pcs_pck'].value_counts()\n",
    "filtered_pcs_pck_vc = pcs_pck_vc[pcs_pck_vc<300]\n",
    "filtered_pcs_pck_vc.sum()"
   ]
  },
  {
   "cell_type": "markdown",
   "id": "b4a5165b-c2ac-434c-8ac9-5368da1c7325",
   "metadata": {},
   "source": [
    "**Comment** : Creating bins and turning numerical features into categorical."
   ]
  },
  {
   "cell_type": "code",
   "execution_count": 2190,
   "id": "c8283553-2766-40a0-8578-d2d239aaf25f",
   "metadata": {},
   "outputs": [],
   "source": [
    " modified_df['pcs_pck_bin'] =  modified_df['pcs_pck'].apply(lambda x: 'Other_pcs_pck' if x in filtered_pcs_pck_vc else str(x))"
   ]
  },
  {
   "cell_type": "code",
   "execution_count": 2191,
   "id": "0a6d0129-0e0a-4b5c-9f8e-d4e83c847712",
   "metadata": {},
   "outputs": [
    {
     "data": {
      "text/html": [
       "<div>\n",
       "<style scoped>\n",
       "    .dataframe tbody tr th:only-of-type {\n",
       "        vertical-align: middle;\n",
       "    }\n",
       "\n",
       "    .dataframe tbody tr th {\n",
       "        vertical-align: top;\n",
       "    }\n",
       "\n",
       "    .dataframe thead th {\n",
       "        text-align: right;\n",
       "    }\n",
       "</style>\n",
       "<table border=\"1\" class=\"dataframe\">\n",
       "  <thead>\n",
       "    <tr style=\"text-align: right;\">\n",
       "      <th></th>\n",
       "      <th>pcs_pck_bin</th>\n",
       "      <th>OK_NOK</th>\n",
       "    </tr>\n",
       "  </thead>\n",
       "  <tbody>\n",
       "    <tr>\n",
       "      <th>2</th>\n",
       "      <td>20.0</td>\n",
       "      <td>0.86</td>\n",
       "    </tr>\n",
       "    <tr>\n",
       "      <th>4</th>\n",
       "      <td>60.0</td>\n",
       "      <td>0.85</td>\n",
       "    </tr>\n",
       "    <tr>\n",
       "      <th>5</th>\n",
       "      <td>Other_pcs_pck</td>\n",
       "      <td>0.82</td>\n",
       "    </tr>\n",
       "    <tr>\n",
       "      <th>1</th>\n",
       "      <td>100.0</td>\n",
       "      <td>0.82</td>\n",
       "    </tr>\n",
       "    <tr>\n",
       "      <th>0</th>\n",
       "      <td>10.0</td>\n",
       "      <td>0.81</td>\n",
       "    </tr>\n",
       "    <tr>\n",
       "      <th>3</th>\n",
       "      <td>40.0</td>\n",
       "      <td>0.77</td>\n",
       "    </tr>\n",
       "  </tbody>\n",
       "</table>\n",
       "</div>"
      ],
      "text/plain": [
       "     pcs_pck_bin  OK_NOK\n",
       "2           20.0    0.86\n",
       "4           60.0    0.85\n",
       "5  Other_pcs_pck    0.82\n",
       "1          100.0    0.82\n",
       "0           10.0    0.81\n",
       "3           40.0    0.77"
      ]
     },
     "execution_count": 2191,
     "metadata": {},
     "output_type": "execute_result"
    }
   ],
   "source": [
    "modified_df[['pcs_pck_bin', 'OK_NOK']].groupby('pcs_pck_bin', as_index=False).mean().sort_values('OK_NOK', ascending=False)"
   ]
  },
  {
   "cell_type": "code",
   "execution_count": 2192,
   "id": "b0eb7b25-7217-4668-89ad-00644881473a",
   "metadata": {
    "scrolled": true
   },
   "outputs": [
    {
     "data": {
      "image/png": "[encoded data removed]",
      "text/plain": [
       "<Figure size 751.625x600 with 1 Axes>"
      ]
     },
     "metadata": {},
     "output_type": "display_data"
    }
   ],
   "source": [
    "# Create the plot\n",
    "sns.catplot(x='pcs_pck_bin', y='OK_NOK', data=modified_df, kind=\"bar\", height=6, palette=\"muted\")\n",
    "plt.show()"
   ]
  },
  {
   "cell_type": "markdown",
   "id": "bdd4346a-2cd9-4306-b8ca-720892bba564",
   "metadata": {},
   "source": [
    "**pcs_lenght_m**"
   ]
  },
  {
   "cell_type": "code",
   "execution_count": 2193,
   "id": "d6e0a0d3-d762-453c-8ebe-2f83b62038b7",
   "metadata": {
    "scrolled": true
   },
   "outputs": [
    {
     "data": {
      "image/png": "[encoded data removed]",
      "text/plain": [
       "<Figure size 500x500 with 1 Axes>"
      ]
     },
     "metadata": {},
     "output_type": "display_data"
    }
   ],
   "source": [
    "sns.displot(data=modified_df, x='pcs_lenght_m', kind='hist', label='Skewness: %.2f'%(modified_df['pcs_lenght_m'].skew()))\n",
    "plt.legend(loc='best')\n",
    "plt.show()"
   ]
  },
  {
   "cell_type": "code",
   "execution_count": 2194,
   "id": "82313610-447c-4d79-9547-d2da9591ca8d",
   "metadata": {
    "scrolled": true
   },
   "outputs": [],
   "source": [
    "pcs_lenght_m_vc = modified_df['pcs_lenght_m'].value_counts()\n",
    "filterd_pcs_lenght_m_vc = pcs_lenght_m_vc[pcs_lenght_m_vc<1000]"
   ]
  },
  {
   "cell_type": "code",
   "execution_count": 2195,
   "id": "dfd5c1a9-a894-468a-bd10-b437b167116e",
   "metadata": {},
   "outputs": [],
   "source": [
    " modified_df['pcs_lenght_m_bin'] =  modified_df['pcs_lenght_m'].apply(lambda x: 'Other_lenght' if x in filterd_pcs_lenght_m_vc else str(x))"
   ]
  },
  {
   "cell_type": "code",
   "execution_count": 2196,
   "id": "624ee80c-a862-4d8f-aac7-bb780c9b48c0",
   "metadata": {},
   "outputs": [
    {
     "data": {
      "text/plain": [
       "pcs_lenght_m_bin\n",
       "4.05            3934\n",
       "4.15            2034\n",
       "Other_lenght     181\n",
       "Name: count, dtype: int64"
      ]
     },
     "execution_count": 2196,
     "metadata": {},
     "output_type": "execute_result"
    }
   ],
   "source": [
    " modified_df['pcs_lenght_m_bin'].value_counts()"
   ]
  },
  {
   "cell_type": "code",
   "execution_count": 2197,
   "id": "5317e81e-d12f-424a-9ee6-007603482106",
   "metadata": {},
   "outputs": [
    {
     "data": {
      "image/png": "[encoded data removed]",
      "text/plain": [
       "<Figure size 740.625x600 with 1 Axes>"
      ]
     },
     "metadata": {},
     "output_type": "display_data"
    }
   ],
   "source": [
    "sns.catplot(x='pcs_lenght_m_bin', y='OK_NOK', data=modified_df, kind=\"bar\", height=6, palette=\"muted\")\n",
    "plt.show()"
   ]
  },
  {
   "cell_type": "markdown",
   "id": "af182b4e-5ba4-46ed-a03e-fa7c564de562",
   "metadata": {},
   "source": [
    "**overal_weight_kg**"
   ]
  },
  {
   "cell_type": "markdown",
   "id": "a8a58380-8aac-4374-917b-c5d9ef8348de",
   "metadata": {},
   "source": [
    "**Comment** It seems that using median values for quantities has caused some outliers to crop up in the 'overal_weight_kg' column for heavier profiles. I'm planning to filter out these outliers and recalculate the median weight without them. Then, I'll use this adjusted median value for those outliers."
   ]
  },
  {
   "cell_type": "code",
   "execution_count": 2198,
   "id": "cefc4480-aabd-4417-ac1d-4727eccf0964",
   "metadata": {},
   "outputs": [
    {
     "data": {
      "text/plain": [
       "overal_weight_t\n",
       "1.75    50\n",
       "1.61    43\n",
       "1.60    21\n",
       "1.81    14\n",
       "2.68     7\n",
       "2.68     7\n",
       "2.73     3\n",
       "1.70     1\n",
       "Name: count, dtype: int64"
      ]
     },
     "execution_count": 2198,
     "metadata": {},
     "output_type": "execute_result"
    }
   ],
   "source": [
    "weight_vc = modified_df['overal_weight_t'].value_counts()\n",
    "weight_vc[weight_vc.index>1.5]"
   ]
  },
  {
   "cell_type": "code",
   "execution_count": 2199,
   "id": "c8149da6-1076-49c9-a436-652c125e4b60",
   "metadata": {
    "scrolled": true
   },
   "outputs": [],
   "source": [
    "filtered_weight_vc = weight_vc[weight_vc.index<1.5]\n",
    "median_overal_weight_t = modified_df.loc[modified_df['overal_weight_t'].isin(filtered_weight_vc.index), 'overal_weight_t'].median()\n",
    "filtered_weight_vc_less_1_5 = filtered_weight_vc = weight_vc[weight_vc.index>1.5]"
   ]
  },
  {
   "cell_type": "code",
   "execution_count": 2200,
   "id": "8dc8b5d9-6168-4bf4-91d0-08384f1f7c82",
   "metadata": {},
   "outputs": [],
   "source": [
    "# modified_df[modified_df['overal_weight_t'].isin(filtered_weight_vc.index)]\n",
    "modified_df.loc[modified_df['overal_weight_t'].isin(filtered_weight_vc_less_1_5.index), 'overal_weight_t'] = median_overal_weight_t"
   ]
  },
  {
   "cell_type": "code",
   "execution_count": 2201,
   "id": "ab577f66-cd8b-4303-a313-2106b4c593db",
   "metadata": {},
   "outputs": [
    {
     "data": {
      "text/html": [
       "<div>\n",
       "<style scoped>\n",
       "    .dataframe tbody tr th:only-of-type {\n",
       "        vertical-align: middle;\n",
       "    }\n",
       "\n",
       "    .dataframe tbody tr th {\n",
       "        vertical-align: top;\n",
       "    }\n",
       "\n",
       "    .dataframe thead th {\n",
       "        text-align: right;\n",
       "    }\n",
       "</style>\n",
       "<table border=\"1\" class=\"dataframe\">\n",
       "  <thead>\n",
       "    <tr style=\"text-align: right;\">\n",
       "      <th></th>\n",
       "      <th>OK_NOK</th>\n",
       "      <th>date_fmt</th>\n",
       "      <th>name</th>\n",
       "      <th>shape_no</th>\n",
       "      <th>drawing_no</th>\n",
       "      <th>surface_finish</th>\n",
       "      <th>supplier</th>\n",
       "      <th>pcs_pck</th>\n",
       "      <th>delivered_pcs_pack</th>\n",
       "      <th>pack_weight_kg</th>\n",
       "      <th>pcs_lenght_m</th>\n",
       "      <th>quantity_pcs</th>\n",
       "      <th>overal_weight_t</th>\n",
       "      <th>pcs_pck_bin</th>\n",
       "      <th>pcs_lenght_m_bin</th>\n",
       "    </tr>\n",
       "  </thead>\n",
       "  <tbody>\n",
       "  </tbody>\n",
       "</table>\n",
       "</div>"
      ],
      "text/plain": [
       "Empty DataFrame\n",
       "Columns: [OK_NOK, date_fmt, name, shape_no, drawing_no, surface_finish, supplier, pcs_pck, delivered_pcs_pack, pack_weight_kg, pcs_lenght_m, quantity_pcs, overal_weight_t, pcs_pck_bin, pcs_lenght_m_bin]\n",
       "Index: []"
      ]
     },
     "execution_count": 2201,
     "metadata": {},
     "output_type": "execute_result"
    }
   ],
   "source": [
    "\n",
    "modified_df[(modified_df['overal_weight_t'] > 1.5)]"
   ]
  },
  {
   "cell_type": "code",
   "execution_count": 2202,
   "id": "824d7cdc-4b67-4f00-aaa5-64b7d4e933b3",
   "metadata": {
    "scrolled": true
   },
   "outputs": [
    {
     "data": {
      "image/png": "[encoded data removed]",
      "text/plain": [
       "<Figure size 500x500 with 1 Axes>"
      ]
     },
     "metadata": {},
     "output_type": "display_data"
    }
   ],
   "source": [
    "sns.displot(data=modified_df, x='overal_weight_t', kind='hist', label='Skewness: %.2f'%(modified_df['overal_weight_t'].skew()))\n",
    "plt.legend(loc='best')\n",
    "plt.show()"
   ]
  },
  {
   "cell_type": "code",
   "execution_count": 2203,
   "id": "3f61bdcc-165d-4c5a-b743-18cb94dba46b",
   "metadata": {},
   "outputs": [
    {
     "data": {
      "text/plain": [
       "overal_weight_t\n",
       "0.40    173\n",
       "0.46    147\n",
       "0.38    136\n",
       "0.37    110\n",
       "0.56     99\n",
       "       ... \n",
       "0.11      1\n",
       "0.90      1\n",
       "0.47      1\n",
       "0.57      1\n",
       "0.53      1\n",
       "Name: count, Length: 2872, dtype: int64"
      ]
     },
     "execution_count": 2203,
     "metadata": {},
     "output_type": "execute_result"
    }
   ],
   "source": [
    "modified_df['overal_weight_t'].value_counts()"
   ]
  },
  {
   "cell_type": "code",
   "execution_count": 2204,
   "id": "04085cf3-3b67-4ccd-a323-34785a036022",
   "metadata": {},
   "outputs": [],
   "source": [
    "modified_df['overal_weight_t_bin'] = pd.cut(modified_df['overal_weight_t'], bins=5)"
   ]
  },
  {
   "cell_type": "code",
   "execution_count": 2205,
   "id": "74bd7ec1-0c44-408b-8955-68315ee52f72",
   "metadata": {},
   "outputs": [
    {
     "data": {
      "text/plain": [
       "<seaborn.axisgrid.FacetGrid at 0x293f92244d0>"
      ]
     },
     "execution_count": 2205,
     "metadata": {},
     "output_type": "execute_result"
    },
    {
     "data": {
      "image/png": "[encoded data removed]",
      "text/plain": [
       "<Figure size 757.375x600 with 1 Axes>"
      ]
     },
     "metadata": {},
     "output_type": "display_data"
    }
   ],
   "source": [
    "sns.catplot(x='overal_weight_t_bin', y='OK_NOK', data=modified_df, kind=\"bar\", height=6, palette=\"muted\")"
   ]
  },
  {
   "cell_type": "markdown",
   "id": "bde64c37-328f-4103-86bc-556e83677356",
   "metadata": {},
   "source": [
    "**quantity_pcs**"
   ]
  },
  {
   "cell_type": "code",
   "execution_count": 2206,
   "id": "a6651771-d3fc-402c-9099-f33cfc6a0a43",
   "metadata": {
    "scrolled": true
   },
   "outputs": [
    {
     "data": {
      "text/plain": [
       "quantity_pcs\n",
       "574.50     1935\n",
       "600.00      115\n",
       "360.00       94\n",
       "400.00       86\n",
       "300.00       77\n",
       "           ... \n",
       "974.00        1\n",
       "1810.00       1\n",
       "2190.00       1\n",
       "2480.00       1\n",
       "2032.00       1\n",
       "Name: count, Length: 926, dtype: int64"
      ]
     },
     "execution_count": 2206,
     "metadata": {},
     "output_type": "execute_result"
    }
   ],
   "source": [
    "modified_df['quantity_pcs'].value_counts()"
   ]
  },
  {
   "cell_type": "code",
   "execution_count": 2207,
   "id": "86e8c5a6-b7a5-44b2-a806-12fdfe208a7f",
   "metadata": {
    "scrolled": true
   },
   "outputs": [
    {
     "data": {
      "image/png": "[encoded data removed]",
      "text/plain": [
       "<Figure size 500x500 with 1 Axes>"
      ]
     },
     "metadata": {},
     "output_type": "display_data"
    }
   ],
   "source": [
    "sns.displot(data=modified_df, x='quantity_pcs', kind='hist')\n",
    "plt.show()"
   ]
  },
  {
   "cell_type": "code",
   "execution_count": 2208,
   "id": "75b3d02a-be72-46e1-9a9b-9ba1df57b3cc",
   "metadata": {},
   "outputs": [],
   "source": [
    "modified_df['quantity_pcs_bin'] = pd.cut(modified_df['quantity_pcs'], bins=5)"
   ]
  },
  {
   "cell_type": "code",
   "execution_count": 2209,
   "id": "ee21440c-2bcb-47cb-94fa-85193d0c2aa3",
   "metadata": {
    "scrolled": true
   },
   "outputs": [
    {
     "data": {
      "image/png": "[encoded data removed]",
      "text/plain": [
       "<Figure size 766.5x600 with 1 Axes>"
      ]
     },
     "metadata": {},
     "output_type": "display_data"
    }
   ],
   "source": [
    "quantity_bin_plot = sns.catplot(x='quantity_pcs_bin', y='OK_NOK', data=modified_df, kind=\"bar\", height=6, palette=\"muted\")\n",
    "quantity_bin_plot.set_xticklabels(rotation=45, fontsize=8)\n",
    "plt.show()"
   ]
  },
  {
   "cell_type": "code",
   "execution_count": 2210,
   "id": "765e7670-e080-4187-8b28-47843632863e",
   "metadata": {},
   "outputs": [
    {
     "data": {
      "text/plain": [
       "quantity_pcs_bin\n",
       "(94.9, 1120.0]      5208\n",
       "(1120.0, 2140.0]     829\n",
       "(2140.0, 3160.0]     101\n",
       "(3160.0, 4180.0]      10\n",
       "(4180.0, 5200.0]       1\n",
       "Name: count, dtype: int64"
      ]
     },
     "execution_count": 2210,
     "metadata": {},
     "output_type": "execute_result"
    }
   ],
   "source": [
    "modified_df['quantity_pcs_bin'].value_counts()"
   ]
  },
  {
   "cell_type": "markdown",
   "id": "5289e689-b77a-4011-961e-c4561005b4e6",
   "metadata": {},
   "source": [
    "**pack_weight_kg**"
   ]
  },
  {
   "cell_type": "code",
   "execution_count": 2211,
   "id": "f2f72e8b-1de1-4c17-a108-3d0bf714d17d",
   "metadata": {
    "scrolled": true
   },
   "outputs": [
    {
     "data": {
      "image/png": "[encoded data removed]",
      "text/plain": [
       "<Figure size 500x500 with 1 Axes>"
      ]
     },
     "metadata": {},
     "output_type": "display_data"
    }
   ],
   "source": [
    "sns.displot(data=modified_df, x='pack_weight_kg', kind='hist', label='Skewness: %.2f'%(modified_df['overal_weight_t'].skew()))\n",
    "plt.legend(loc='best')\n",
    "plt.show()\n"
   ]
  },
  {
   "cell_type": "code",
   "execution_count": 2212,
   "id": "b7079993-0d8d-480e-9dc2-a2021298ebf9",
   "metadata": {},
   "outputs": [],
   "source": [
    "modified_df['pack_weight_kg_bin'] = pd.cut(modified_df['pack_weight_kg'], bins=10)"
   ]
  },
  {
   "cell_type": "code",
   "execution_count": 2213,
   "id": "f5968302-251e-4b85-b133-80c91da76b53",
   "metadata": {},
   "outputs": [],
   "source": [
    "pack_weight_bin_vc = modified_df['pack_weight_kg_bin'].value_counts()\n",
    "filtered_pack_weight_bin_vc = pack_weight_bin_vc[pack_weight_bin_vc<200]"
   ]
  },
  {
   "cell_type": "code",
   "execution_count": 2214,
   "id": "f8549255-2b13-4afa-a68c-6444e95a70fb",
   "metadata": {},
   "outputs": [],
   "source": [
    "modified_df['pack_weight_kg_bin'] =  modified_df['pack_weight_kg_bin'].apply(lambda x: 'Other_pack_weight' if x in filtered_pack_weight_bin_vc else str(x))"
   ]
  },
  {
   "cell_type": "code",
   "execution_count": 2215,
   "id": "ba0c83d5-b56e-478e-a810-46d847e17843",
   "metadata": {},
   "outputs": [
    {
     "data": {
      "text/plain": [
       "pack_weight_kg_bin\n",
       "(22.62, 26.95]       1704\n",
       "(26.95, 31.28]       1457\n",
       "(35.61, 39.94]       1069\n",
       "(31.28, 35.61]        786\n",
       "(13.96, 18.29]        282\n",
       "(39.94, 44.27]        281\n",
       "(18.29, 22.62]        260\n",
       "(44.27, 48.6]         238\n",
       "Other_pack_weight      72\n",
       "Name: count, dtype: int64"
      ]
     },
     "execution_count": 2215,
     "metadata": {},
     "output_type": "execute_result"
    }
   ],
   "source": [
    " modified_df['pack_weight_kg_bin'].value_counts()"
   ]
  },
  {
   "cell_type": "code",
   "execution_count": 2216,
   "id": "c4dc9285-531f-4900-a242-abeb54b8551d",
   "metadata": {},
   "outputs": [
    {
     "data": {
      "image/png": "[encoded data removed]",
      "text/plain": [
       "<Figure size 783.5x600 with 1 Axes>"
      ]
     },
     "metadata": {},
     "output_type": "display_data"
    }
   ],
   "source": [
    "pack_weight_bin_plot = sns.catplot(x='pack_weight_kg_bin', y='OK_NOK', data=modified_df, kind=\"bar\", height=6, palette=\"muted\")\n",
    "pack_weight_bin_plot.set_xticklabels(rotation=45, fontsize=8)\n",
    "plt.show()"
   ]
  },
  {
   "cell_type": "markdown",
   "id": "87a46eb7-69e1-4148-9c28-4fc22875b0db",
   "metadata": {},
   "source": [
    "### Categorical features"
   ]
  },
  {
   "cell_type": "markdown",
   "id": "15b459a5-1871-4e63-ba63-d651cdaa7013",
   "metadata": {},
   "source": [
    "**shape_no**"
   ]
  },
  {
   "cell_type": "code",
   "execution_count": 2217,
   "id": "31658096-5fce-45cd-a69a-eca1c5b525fc",
   "metadata": {
    "scrolled": true
   },
   "outputs": [],
   "source": [
    "shape_no_vc = modified_df['shape_no'].value_counts()\n",
    "filtered_shape_no_vc_35 = shape_no_vc[shape_no_vc<=35]\n",
    "filtered_shape_no_vc_75 = shape_no_vc[(shape_no_vc<=75) & (shape_no_vc>35)]\n",
    "\n",
    "filtered_shape_no_vc_100 = shape_no_vc[(shape_no_vc<=100) & (shape_no_vc>75)]"
   ]
  },
  {
   "cell_type": "code",
   "execution_count": 2218,
   "id": "e0555324-70bf-4e00-b1a0-7d2c55bbf65d",
   "metadata": {
    "scrolled": true
   },
   "outputs": [
    {
     "data": {
      "image/png": "[encoded data removed]",
      "text/plain": [
       "<Figure size 500x500 with 1 Axes>"
      ]
     },
     "metadata": {},
     "output_type": "display_data"
    }
   ],
   "source": [
    "sns.displot(data=modified_df, x='shape_no', kind='hist', label='Skewness: %.2f'%(modified_df['overal_weight_t'].skew()))\n",
    "plt.legend(loc='best')\n",
    "plt.show()"
   ]
  },
  {
   "cell_type": "code",
   "execution_count": 2223,
   "id": "21a3cd67-3c27-4521-80d7-e31c49c6f198",
   "metadata": {},
   "outputs": [],
   "source": [
    "modified_df['shape_no_bin'] = modified_df['shape_no'].apply(lambda x:'less_35_shape_no' if x in filtered_shape_no_vc_35 else str(x))\n",
    "# modified_df['shape_no_bin'] = modified_df['shape_no'].apply(lambda x: \n",
    "#                             'less_25_shape_no' if x in filtered_shape_no_vc_35\n",
    "#                             else ('less_75_shape_no' if x in filtered_shape_no_vc_75\n",
    "#                             else ('less_100_shape_no' if x in filtered_shape_no_vc_100 else str(x))))"
   ]
  },
  {
   "cell_type": "code",
   "execution_count": 2224,
   "id": "fa2c346c-7809-4a76-b455-ed992b272346",
   "metadata": {},
   "outputs": [],
   "source": [
    "prob_ok_nok = modified_df.groupby('shape_no_bin')['OK_NOK'].mean()\n",
    "order = prob_ok_nok.sort_values().index"
   ]
  },
  {
   "cell_type": "code",
   "execution_count": 2225,
   "id": "7e724088-8f41-4fc2-bc93-2d7f78f60276",
   "metadata": {},
   "outputs": [
    {
     "data": {
      "image/png": "[encoded data removed]",
      "text/plain": [
       "<Figure size 774.25x600 with 1 Axes>"
      ]
     },
     "metadata": {},
     "output_type": "display_data"
    }
   ],
   "source": [
    "pack_weight_bin_plot = sns.catplot(x='shape_no_bin', y='OK_NOK', data=modified_df, kind=\"bar\", height=6, palette=\"muted\", order=order)\n",
    "pack_weight_bin_plot.set_xticklabels(rotation=45, fontsize=8)\n",
    "plt.show()"
   ]
  },
  {
   "cell_type": "markdown",
   "id": "96ef9e02-d120-4eae-99b9-4868bc201f78",
   "metadata": {},
   "source": [
    "shape&color for feature engineering."
   ]
  }
 ],
 "metadata": {
  "kernelspec": {
   "display_name": "Python 3 (ipykernel)",
   "language": "python",
   "name": "python3"
  },
  "language_info": {
   "codemirror_mode": {
    "name": "ipython",
    "version": 3
   },
   "file_extension": ".py",
   "mimetype": "text/x-python",
   "name": "python",
   "nbconvert_exporter": "python",
   "pygments_lexer": "ipython3",
   "version": "3.11.3"
  }
 },
 "nbformat": 4,
 "nbformat_minor": 5
}
